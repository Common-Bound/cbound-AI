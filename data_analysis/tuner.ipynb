{
 "cells": [
  {
   "cell_type": "code",
   "execution_count": 1,
   "metadata": {},
   "outputs": [],
   "source": [
    "from kerastuner.tuners import RandomSearch\n",
    "from kerastuner.engine.hypermodel import HyperModel\n",
    "from kerastuner.engine.hyperparameters import HyperParameters\n",
    "import numpy as np\n",
    "import pandas as pd\n",
    "import time as pytime\n",
    "import tensorflow as tf\n",
    "from itertools import product\n",
    "from tensorflow.keras.models import Sequential\n",
    "from sklearn.preprocessing import RobustScaler\n",
    "from tensorflow.keras.callbacks import TensorBoard\n",
    "from sklearn.model_selection import train_test_split\n",
    "from tensorflow.keras.layers import Dense, Activation, Dropout, Input"
   ]
  },
  {
   "cell_type": "code",
   "execution_count": null,
   "metadata": {},
   "outputs": [],
   "source": [
    "Int('units',\n",
    "                                        min_value=32,\n",
    "                                        max_value=512,\n",
    "                                        step=32),"
   ]
  },
  {
   "cell_type": "code",
   "execution_count": 2,
   "metadata": {},
   "outputs": [],
   "source": [
    "def create_model(hp):\n",
    "  model = Sequential()\n",
    "  model.add(Input(shape=(6,)))\n",
    "    \n",
    "  for i in range(hp.Int('num_layers', min_value=16, max_value=512, step=16)):\n",
    "    model.add(Dense(units=hp.Int('units_'+str(i), min_value=8, max_value=256, step=8)))\n",
    "    model.add(Activation(hp.Choice('activation_'+str(i),['tanh', 'relu', 'sigmoid'])))\n",
    "    model.add(Dropout(hp.Int('dropdout_'+str(i), min_value=0.0, max_value=0.4, step=0.1)))\n",
    "    \n",
    "  model.add(Dense(1))\n",
    "  model.add(Activation('sigmoid'))\n",
    "\n",
    "  model.compile(optimizer=keras.models.optimizer(hp.Choice('learning_rate', [1e-2, 1e-3, 1e-4]),\n",
    "                loss='binary_crossentropy',\n",
    "                metrics=['accuracy'])\n",
    "    \n",
    "  return model"
   ]
  },
  {
   "cell_type": "code",
   "execution_count": null,
   "metadata": {},
   "outputs": [],
   "source": [
    "tuner = RandomSearch(create_model,\n",
    "                     objective='val_accuracy',\n",
    "                     max_trials=81,\n",
    "                     executions_per_trial=3,\n",
    "                     directory='test_dir')"
   ]
  }
 ],
 "metadata": {
  "kernelspec": {
   "display_name": "Python 3",
   "language": "python",
   "name": "python3"
  },
  "language_info": {
   "codemirror_mode": {
    "name": "ipython",
    "version": 3
   },
   "file_extension": ".py",
   "mimetype": "text/x-python",
   "name": "python",
   "nbconvert_exporter": "python",
   "pygments_lexer": "ipython3",
   "version": "3.7.4"
  }
 },
 "nbformat": 4,
 "nbformat_minor": 2
}
