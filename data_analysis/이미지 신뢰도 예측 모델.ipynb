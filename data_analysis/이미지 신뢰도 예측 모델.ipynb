{
 "cells": [
  {
   "cell_type": "code",
   "execution_count": 1,
   "metadata": {},
   "outputs": [
    {
     "name": "stderr",
     "output_type": "stream",
     "text": [
      "Using TensorFlow backend.\n"
     ]
    }
   ],
   "source": [
    "import numpy as np\n",
    "import pandas as pd\n",
    "import ast\n",
    "import json\n",
    "import matplotlib.pyplot as plt\n",
    "from sklearn.model_selection import train_test_split\n",
    "from sklearn.linear_model import LinearRegression\n",
    "from sklearn.linear_model import LogisticRegression\n",
    "from sklearn.metrics import accuracy_score, precision_score, recall_score, f1_score\n",
    "import seaborn as sns\n",
    "from scipy.stats import norm\n",
    "from sklearn.decomposition import PCA\n",
    "import statsmodels.api as sm\n",
    "from scipy import stats\n",
    "from sklearn.preprocessing import StandardScaler\n",
    "from sklearn.pipeline import Pipeline\n",
    "from sklearn.neighbors import KNeighborsClassifier\n",
    "from sklearn.linear_model import Perceptron\n",
    "from sklearn.tree import DecisionTreeClassifier, export_graphviz\n",
    "from sklearn.ensemble import RandomForestClassifier\n",
    "from sklearn.svm import SVC\n",
    "from sklearn.neighbors import KNeighborsClassifier\n",
    "#!pip install pydot\n",
    "import pydot\n",
    "from keras.models import Sequential\n",
    "from keras.layers import Dense, Activation\n",
    "from sklearn.preprocessing import RobustScaler"
   ]
  },
  {
   "cell_type": "code",
   "execution_count": 2,
   "metadata": {},
   "outputs": [],
   "source": [
    "# 현재 데이터 셋 불러오기\n",
    "total_data = pd.read_csv('data_873.csv')"
   ]
  },
  {
   "cell_type": "code",
   "execution_count": 3,
   "metadata": {},
   "outputs": [
    {
     "data": {
      "text/html": [
       "<div>\n",
       "<style scoped>\n",
       "    .dataframe tbody tr th:only-of-type {\n",
       "        vertical-align: middle;\n",
       "    }\n",
       "\n",
       "    .dataframe tbody tr th {\n",
       "        vertical-align: top;\n",
       "    }\n",
       "\n",
       "    .dataframe thead th {\n",
       "        text-align: right;\n",
       "    }\n",
       "</style>\n",
       "<table border=\"1\" class=\"dataframe\">\n",
       "  <thead>\n",
       "    <tr style=\"text-align: right;\">\n",
       "      <th></th>\n",
       "      <th>id</th>\n",
       "      <th>type</th>\n",
       "      <th>payload</th>\n",
       "      <th>created_at</th>\n",
       "      <th>status</th>\n",
       "      <th>creator_id</th>\n",
       "      <th>inspector</th>\n",
       "      <th>project_id</th>\n",
       "      <th>schedule_state</th>\n",
       "      <th>reliability</th>\n",
       "      <th>inspector_count</th>\n",
       "    </tr>\n",
       "  </thead>\n",
       "  <tbody>\n",
       "    <tr>\n",
       "      <td>0</td>\n",
       "      <td>7acb1948-a5f6-41f1-8010-d336c6e91d23</td>\n",
       "      <td>image</td>\n",
       "      <td>{\"meta\": {\"crop_image\": [{\"correct\": [1], \"sha...</td>\n",
       "      <td>2019-10-13T08:41:57+09:00</td>\n",
       "      <td>done</td>\n",
       "      <td>b1af665e-b6f9-4b17-82fd-cc5c5421a632</td>\n",
       "      <td>{b1af665e-b6f9-4b17-82fd-cc5c5421a632}</td>\n",
       "      <td>4ff5f94d-694d-420e-b7d6-0ccad18eb1f1</td>\n",
       "      <td>queued</td>\n",
       "      <td>0</td>\n",
       "      <td>1</td>\n",
       "    </tr>\n",
       "    <tr>\n",
       "      <td>1</td>\n",
       "      <td>0b17d0c0-4231-4796-862e-d0791576ee7d</td>\n",
       "      <td>image</td>\n",
       "      <td>{\"meta\": {\"crop_image\": [{\"correct\": [1], \"sha...</td>\n",
       "      <td>2019-10-13T09:14:00+09:00</td>\n",
       "      <td>done</td>\n",
       "      <td>c2cf64b2-8534-4ab5-a883-a1d3410afdba</td>\n",
       "      <td>{c2cf64b2-8534-4ab5-a883-a1d3410afdba}</td>\n",
       "      <td>4ff5f94d-694d-420e-b7d6-0ccad18eb1f1</td>\n",
       "      <td>queued</td>\n",
       "      <td>0</td>\n",
       "      <td>1</td>\n",
       "    </tr>\n",
       "    <tr>\n",
       "      <td>2</td>\n",
       "      <td>4490fe3e-0c28-4e55-adbe-e79d10ec429e</td>\n",
       "      <td>image</td>\n",
       "      <td>{\"meta\": {\"crop_image\": [{\"correct\": [1], \"sha...</td>\n",
       "      <td>2019-10-13T09:22:24+09:00</td>\n",
       "      <td>done</td>\n",
       "      <td>d65f0a4e-7815-4194-a347-2ad0f7841f74</td>\n",
       "      <td>{b1af665e-b6f9-4b17-82fd-cc5c5421a632}</td>\n",
       "      <td>4ff5f94d-694d-420e-b7d6-0ccad18eb1f1</td>\n",
       "      <td>queued</td>\n",
       "      <td>0</td>\n",
       "      <td>1</td>\n",
       "    </tr>\n",
       "    <tr>\n",
       "      <td>3</td>\n",
       "      <td>a21c58ce-2539-40fd-9624-c1182dc07b95</td>\n",
       "      <td>image</td>\n",
       "      <td>{\"meta\": {\"crop_image\": [{\"correct\": [1], \"sha...</td>\n",
       "      <td>2019-10-13T09:23:53+09:00</td>\n",
       "      <td>done</td>\n",
       "      <td>bd88f55c-4046-41ad-8b63-70b6a9e25121</td>\n",
       "      <td>{b1af665e-b6f9-4b17-82fd-cc5c5421a632}</td>\n",
       "      <td>4ff5f94d-694d-420e-b7d6-0ccad18eb1f1</td>\n",
       "      <td>queued</td>\n",
       "      <td>0</td>\n",
       "      <td>1</td>\n",
       "    </tr>\n",
       "    <tr>\n",
       "      <td>4</td>\n",
       "      <td>3ddbbb93-8127-4801-b90e-3eacc139e6d4</td>\n",
       "      <td>image</td>\n",
       "      <td>{\"meta\": {\"crop_image\": [{\"correct\": [0], \"sha...</td>\n",
       "      <td>2019-10-13T09:25:36+09:00</td>\n",
       "      <td>failure</td>\n",
       "      <td>bd88f55c-4046-41ad-8b63-70b6a9e25121</td>\n",
       "      <td>{5d4b121c-d331-4c64-8811-524a38e3e31b}</td>\n",
       "      <td>4ff5f94d-694d-420e-b7d6-0ccad18eb1f1</td>\n",
       "      <td>queued</td>\n",
       "      <td>0</td>\n",
       "      <td>1</td>\n",
       "    </tr>\n",
       "  </tbody>\n",
       "</table>\n",
       "</div>"
      ],
      "text/plain": [
       "                                     id   type  \\\n",
       "0  7acb1948-a5f6-41f1-8010-d336c6e91d23  image   \n",
       "1  0b17d0c0-4231-4796-862e-d0791576ee7d  image   \n",
       "2  4490fe3e-0c28-4e55-adbe-e79d10ec429e  image   \n",
       "3  a21c58ce-2539-40fd-9624-c1182dc07b95  image   \n",
       "4  3ddbbb93-8127-4801-b90e-3eacc139e6d4  image   \n",
       "\n",
       "                                             payload  \\\n",
       "0  {\"meta\": {\"crop_image\": [{\"correct\": [1], \"sha...   \n",
       "1  {\"meta\": {\"crop_image\": [{\"correct\": [1], \"sha...   \n",
       "2  {\"meta\": {\"crop_image\": [{\"correct\": [1], \"sha...   \n",
       "3  {\"meta\": {\"crop_image\": [{\"correct\": [1], \"sha...   \n",
       "4  {\"meta\": {\"crop_image\": [{\"correct\": [0], \"sha...   \n",
       "\n",
       "                  created_at   status                            creator_id  \\\n",
       "0  2019-10-13T08:41:57+09:00     done  b1af665e-b6f9-4b17-82fd-cc5c5421a632   \n",
       "1  2019-10-13T09:14:00+09:00     done  c2cf64b2-8534-4ab5-a883-a1d3410afdba   \n",
       "2  2019-10-13T09:22:24+09:00     done  d65f0a4e-7815-4194-a347-2ad0f7841f74   \n",
       "3  2019-10-13T09:23:53+09:00     done  bd88f55c-4046-41ad-8b63-70b6a9e25121   \n",
       "4  2019-10-13T09:25:36+09:00  failure  bd88f55c-4046-41ad-8b63-70b6a9e25121   \n",
       "\n",
       "                                inspector  \\\n",
       "0  {b1af665e-b6f9-4b17-82fd-cc5c5421a632}   \n",
       "1  {c2cf64b2-8534-4ab5-a883-a1d3410afdba}   \n",
       "2  {b1af665e-b6f9-4b17-82fd-cc5c5421a632}   \n",
       "3  {b1af665e-b6f9-4b17-82fd-cc5c5421a632}   \n",
       "4  {5d4b121c-d331-4c64-8811-524a38e3e31b}   \n",
       "\n",
       "                             project_id schedule_state  reliability  \\\n",
       "0  4ff5f94d-694d-420e-b7d6-0ccad18eb1f1         queued            0   \n",
       "1  4ff5f94d-694d-420e-b7d6-0ccad18eb1f1         queued            0   \n",
       "2  4ff5f94d-694d-420e-b7d6-0ccad18eb1f1         queued            0   \n",
       "3  4ff5f94d-694d-420e-b7d6-0ccad18eb1f1         queued            0   \n",
       "4  4ff5f94d-694d-420e-b7d6-0ccad18eb1f1         queued            0   \n",
       "\n",
       "   inspector_count  \n",
       "0                1  \n",
       "1                1  \n",
       "2                1  \n",
       "3                1  \n",
       "4                1  "
      ]
     },
     "metadata": {},
     "output_type": "display_data"
    },
    {
     "name": "stdout",
     "output_type": "stream",
     "text": [
      "873\n"
     ]
    }
   ],
   "source": [
    "display(total_data.head())\n",
    "print(len(total_data))"
   ]
  },
  {
   "cell_type": "markdown",
   "metadata": {},
   "source": [
    "# EDA"
   ]
  },
  {
   "cell_type": "markdown",
   "metadata": {},
   "source": [
    "## Feature로 활용할 데이터 추출\n",
    "위 데이터 프레임에서 feature로 활용할 데이터를 추출해낸다"
   ]
  },
  {
   "cell_type": "markdown",
   "metadata": {},
   "source": [
    "### Feature1 - Compare size\n",
    "`compare_size` - 데이터 생산자가 crop 한 영역의 총합을 AI 어시스턴트가 Detection 한 영역의 총합으로 나눈 값"
   ]
  },
  {
   "cell_type": "code",
   "execution_count": 4,
   "metadata": {},
   "outputs": [],
   "source": [
    "# 각 데이터의 compare_size 를 compare_size 컬럼에 추가한다\n",
    "total_data['compare_size'] = total_data.apply(lambda row: json.loads(row['payload'])['meta']['compare_size'], axis=1)\n",
    "#display(total_data.head())"
   ]
  },
  {
   "cell_type": "markdown",
   "metadata": {},
   "source": [
    "### Feature2 - image_time\n",
    "`image_time` - 데이터 생산자가 작업(가공) 할 이미지를 작업 페이지에 올린 시간으로부터 최종 제출 까지 걸린 시간"
   ]
  },
  {
   "cell_type": "code",
   "execution_count": 5,
   "metadata": {},
   "outputs": [],
   "source": [
    "# 각 데이터의 image_time 을 image_time 컬럼에 추가한다\n",
    "total_data['image_time'] = total_data.apply(lambda row: json.loads(row['payload'])['meta']['crop_image'][0]['region_attributes']['image_time'], axis=1)\n",
    "#display(total_data.head())"
   ]
  },
  {
   "cell_type": "markdown",
   "metadata": {},
   "source": [
    "### Feature3 - recognition_prob_avg\n",
    "`recognition_prob_avg` - 데이터 생산자가 crop 한 각 텍스트 영역들을 AI 어시스턴트가 Recognition 한 결과로 나온 confident 값들의 평균값"
   ]
  },
  {
   "cell_type": "code",
   "execution_count": 6,
   "metadata": {},
   "outputs": [],
   "source": [
    "# 각 데이터의 각 crop 이미지에 대해 recognition 정확도의 평균값을 recognition_avg 컬럼에 추가한다\n",
    "recognition_prob_metric = 'avg'\n",
    "# recognition_prob_metric = 'min'\n",
    "\n",
    "total_data['recognition_prob'] = total_data.apply(lambda row: [float(json.loads(row['payload'])['meta']['crop_image'][i]['region_attributes']['prob']) for i in range(len(json.loads(row['payload'])['meta']['crop_image'])) ], axis=1)\n",
    "if recognition_prob_metric == 'avg':\n",
    "    total_data['recognition_prob_avg'] = total_data.apply(lambda row: sum(row['recognition_prob']) / len(row['recognition_prob']), axis=1)\n",
    "# elif recognition_prob_metric == 'min':\n",
    "#     total_data['recognition_prob_avg'] = total_data.apply(lambda row: min(row['recognition_prob']), axis=1)\n",
    "\n",
    "#display(total_data.head())"
   ]
  },
  {
   "cell_type": "markdown",
   "metadata": {},
   "source": [
    "### Feature4 - similarity_avg\n",
    "`similarity_avg` - 데이터 생산자가 crop한 각 텍스트 영역들에 labeling 한 string과 AI 어시스턴트가 각 영역을 Recognition한 결과로 나온 string의 유사도"
   ]
  },
  {
   "cell_type": "code",
   "execution_count": 7,
   "metadata": {},
   "outputs": [],
   "source": [
    "# 각 데이터의 각 crop 이미지의 label 값에 대해 similarity의 평균값을 similarity_avg 컬럼에 추가한다\n",
    "recognition_prob_metric = 'avg'\n",
    "# recognition_prob_metric = 'min'\n",
    "\n",
    "total_data['similarity'] = total_data.apply(lambda row: [float(json.loads(row['payload'])['meta']['crop_image'][i]['region_attributes']['similarity']) for i in range(len(json.loads(row['payload'])['meta']['crop_image'])) ], axis=1)\n",
    "if recognition_prob_metric == 'avg':\n",
    "    total_data['similarity_avg'] = total_data.apply(lambda row: sum(row['similarity']) / len(row['similarity']), axis=1)\n",
    "# elif recognition_prob_metric == 'min':\n",
    "#         total_data['similarity_avg'] = total_data.apply(lambda row: min(row['similarity']), axis=1)\n",
    "\n",
    "#display(total_data.head())"
   ]
  },
  {
   "cell_type": "markdown",
   "metadata": {},
   "source": [
    "## 데이터 탐색"
   ]
  },
  {
   "cell_type": "markdown",
   "metadata": {},
   "source": [
    "### feature, label 추출\n",
    "feature 컬럼과 label 컬럼을 추출합니다"
   ]
  },
  {
   "cell_type": "code",
   "execution_count": 8,
   "metadata": {},
   "outputs": [
    {
     "data": {
      "text/html": [
       "<div>\n",
       "<style scoped>\n",
       "    .dataframe tbody tr th:only-of-type {\n",
       "        vertical-align: middle;\n",
       "    }\n",
       "\n",
       "    .dataframe tbody tr th {\n",
       "        vertical-align: top;\n",
       "    }\n",
       "\n",
       "    .dataframe thead th {\n",
       "        text-align: right;\n",
       "    }\n",
       "</style>\n",
       "<table border=\"1\" class=\"dataframe\">\n",
       "  <thead>\n",
       "    <tr style=\"text-align: right;\">\n",
       "      <th></th>\n",
       "      <th>compare_size</th>\n",
       "      <th>image_time</th>\n",
       "      <th>recognition_prob_avg</th>\n",
       "      <th>similarity_avg</th>\n",
       "      <th>status</th>\n",
       "    </tr>\n",
       "  </thead>\n",
       "  <tbody>\n",
       "    <tr>\n",
       "      <td>0</td>\n",
       "      <td>1.053141</td>\n",
       "      <td>183500</td>\n",
       "      <td>0.889338</td>\n",
       "      <td>0.912753</td>\n",
       "      <td>done</td>\n",
       "    </tr>\n",
       "    <tr>\n",
       "      <td>1</td>\n",
       "      <td>0.683934</td>\n",
       "      <td>143721</td>\n",
       "      <td>0.744380</td>\n",
       "      <td>0.995392</td>\n",
       "      <td>done</td>\n",
       "    </tr>\n",
       "    <tr>\n",
       "      <td>2</td>\n",
       "      <td>1.008688</td>\n",
       "      <td>168192</td>\n",
       "      <td>0.936881</td>\n",
       "      <td>0.917415</td>\n",
       "      <td>done</td>\n",
       "    </tr>\n",
       "    <tr>\n",
       "      <td>3</td>\n",
       "      <td>0.381340</td>\n",
       "      <td>69765</td>\n",
       "      <td>0.986547</td>\n",
       "      <td>0.739130</td>\n",
       "      <td>done</td>\n",
       "    </tr>\n",
       "    <tr>\n",
       "      <td>4</td>\n",
       "      <td>0.320067</td>\n",
       "      <td>81555</td>\n",
       "      <td>0.898564</td>\n",
       "      <td>0.537415</td>\n",
       "      <td>failure</td>\n",
       "    </tr>\n",
       "  </tbody>\n",
       "</table>\n",
       "</div>"
      ],
      "text/plain": [
       "   compare_size  image_time  recognition_prob_avg  similarity_avg   status\n",
       "0      1.053141      183500              0.889338        0.912753     done\n",
       "1      0.683934      143721              0.744380        0.995392     done\n",
       "2      1.008688      168192              0.936881        0.917415     done\n",
       "3      0.381340       69765              0.986547        0.739130     done\n",
       "4      0.320067       81555              0.898564        0.537415  failure"
      ]
     },
     "metadata": {},
     "output_type": "display_data"
    }
   ],
   "source": [
    "# 전체 데이터 중에서 의미 있다고 여겨지는 항목만 가져오기\n",
    "data = total_data[['compare_size', 'image_time', 'recognition_prob_avg', 'similarity_avg', 'status']]\n",
    "display(data.head())"
   ]
  },
  {
   "cell_type": "markdown",
   "metadata": {},
   "source": [
    "### 정상 데이터와 비정상 데이터 수 비교"
   ]
  },
  {
   "cell_type": "code",
   "execution_count": 9,
   "metadata": {},
   "outputs": [
    {
     "name": "stdout",
     "output_type": "stream",
     "text": [
      "done: 505\n",
      "fail: 368\n"
     ]
    }
   ],
   "source": [
    "# done된 데이터와 fail된 데이터 합치기\n",
    "print(\"done:\", len(data[data['status'] == 'done']))\n",
    "print(\"fail:\", len(data[data['status'] == 'failure']))"
   ]
  },
  {
   "cell_type": "markdown",
   "metadata": {},
   "source": [
    "### status 컬럼 값을 numeric하게 변경\n",
    "감지하려고 하는 데이터는 반려, 즉 'failure' 된 데이터 이므로 해당 값 1로, 정상 데이터를 0으로 numeric하게 변환한다"
   ]
  },
  {
   "cell_type": "code",
   "execution_count": 10,
   "metadata": {},
   "outputs": [
    {
     "name": "stderr",
     "output_type": "stream",
     "text": [
      "C:\\Users\\user\\Anaconda3\\lib\\site-packages\\ipykernel_launcher.py:2: SettingWithCopyWarning: \n",
      "A value is trying to be set on a copy of a slice from a DataFrame.\n",
      "Try using .loc[row_indexer,col_indexer] = value instead\n",
      "\n",
      "See the caveats in the documentation: http://pandas.pydata.org/pandas-docs/stable/user_guide/indexing.html#returning-a-view-versus-a-copy\n",
      "  \n"
     ]
    },
    {
     "data": {
      "text/html": [
       "<div>\n",
       "<style scoped>\n",
       "    .dataframe tbody tr th:only-of-type {\n",
       "        vertical-align: middle;\n",
       "    }\n",
       "\n",
       "    .dataframe tbody tr th {\n",
       "        vertical-align: top;\n",
       "    }\n",
       "\n",
       "    .dataframe thead th {\n",
       "        text-align: right;\n",
       "    }\n",
       "</style>\n",
       "<table border=\"1\" class=\"dataframe\">\n",
       "  <thead>\n",
       "    <tr style=\"text-align: right;\">\n",
       "      <th></th>\n",
       "      <th>compare_size</th>\n",
       "      <th>image_time</th>\n",
       "      <th>recognition_prob_avg</th>\n",
       "      <th>similarity_avg</th>\n",
       "      <th>status</th>\n",
       "    </tr>\n",
       "  </thead>\n",
       "  <tbody>\n",
       "    <tr>\n",
       "      <td>0</td>\n",
       "      <td>1.053141</td>\n",
       "      <td>183500</td>\n",
       "      <td>0.889338</td>\n",
       "      <td>0.912753</td>\n",
       "      <td>0</td>\n",
       "    </tr>\n",
       "    <tr>\n",
       "      <td>1</td>\n",
       "      <td>0.683934</td>\n",
       "      <td>143721</td>\n",
       "      <td>0.744380</td>\n",
       "      <td>0.995392</td>\n",
       "      <td>0</td>\n",
       "    </tr>\n",
       "    <tr>\n",
       "      <td>2</td>\n",
       "      <td>1.008688</td>\n",
       "      <td>168192</td>\n",
       "      <td>0.936881</td>\n",
       "      <td>0.917415</td>\n",
       "      <td>0</td>\n",
       "    </tr>\n",
       "    <tr>\n",
       "      <td>3</td>\n",
       "      <td>0.381340</td>\n",
       "      <td>69765</td>\n",
       "      <td>0.986547</td>\n",
       "      <td>0.739130</td>\n",
       "      <td>0</td>\n",
       "    </tr>\n",
       "    <tr>\n",
       "      <td>4</td>\n",
       "      <td>0.320067</td>\n",
       "      <td>81555</td>\n",
       "      <td>0.898564</td>\n",
       "      <td>0.537415</td>\n",
       "      <td>1</td>\n",
       "    </tr>\n",
       "  </tbody>\n",
       "</table>\n",
       "</div>"
      ],
      "text/plain": [
       "   compare_size  image_time  recognition_prob_avg  similarity_avg  status\n",
       "0      1.053141      183500              0.889338        0.912753       0\n",
       "1      0.683934      143721              0.744380        0.995392       0\n",
       "2      1.008688      168192              0.936881        0.917415       0\n",
       "3      0.381340       69765              0.986547        0.739130       0\n",
       "4      0.320067       81555              0.898564        0.537415       1"
      ]
     },
     "metadata": {},
     "output_type": "display_data"
    }
   ],
   "source": [
    "#데이터 항목 중 status를 0과 1로 변경\n",
    "data['status'] = data.apply(lambda row: 1 if row['status'] == \"failure\" else 0, axis=1)\n",
    "display(data.head())"
   ]
  },
  {
   "cell_type": "markdown",
   "metadata": {},
   "source": [
    "### Null 값 확인\n",
    "Null인 값이 들어간 feature는 없는 것으로 확인됨"
   ]
  },
  {
   "cell_type": "code",
   "execution_count": 11,
   "metadata": {},
   "outputs": [
    {
     "data": {
      "text/plain": [
       "compare_size            0\n",
       "image_time              0\n",
       "recognition_prob_avg    0\n",
       "similarity_avg          0\n",
       "status                  0\n",
       "dtype: int64"
      ]
     },
     "execution_count": 11,
     "metadata": {},
     "output_type": "execute_result"
    }
   ],
   "source": [
    "data.isnull().sum()"
   ]
  },
  {
   "cell_type": "markdown",
   "metadata": {},
   "source": [
    "### 각 feature별 히스토그램 생성\n",
    "각 feature별로 데이터의 분포를 파악하기 위해 히스토그램을 그려본다"
   ]
  },
  {
   "cell_type": "code",
   "execution_count": 12,
   "metadata": {},
   "outputs": [
    {
     "data": {
      "image/png": "[encoded data removed]",
      "text/plain": [
       "<Figure size 1440x288 with 4 Axes>"
      ]
     },
     "metadata": {
      "needs_background": "light"
     },
     "output_type": "display_data"
    }
   ],
   "source": [
    "# compare_size 를 시각화한다\n",
    "def draw_feature_histogram(dataset):\n",
    "    plt.figure(figsize=(20, 4))\n",
    "    \n",
    "    for column, i in zip(dataset.columns, range(len(dataset.columns))):\n",
    "        # compare_size 히스토그램\n",
    "        plt.subplot(1, len(dataset.columns), i+1)\n",
    "        plt.hist(dataset[column], bins=40)\n",
    "        plt.xlabel(column)\n",
    "        plt.ylabel('value')\n",
    "        plt.title(f'{column} histogram')\n",
    "        plt.subplots_adjust(wspace=0.25)\n",
    "\n",
    "    # 마진 조정\n",
    "    plt.show()\n",
    "    \n",
    "draw_feature_histogram(data[['compare_size', 'image_time', 'recognition_prob_avg', 'similarity_avg']])"
   ]
  },
  {
   "cell_type": "markdown",
   "metadata": {},
   "source": [
    "## 데이터 정제\n",
    "각 feature별 히스토그램을 그려보니 몇몇 feature에서 이상치가 존재하는 것 같다. 이러한 이상치의 분포를 파악하고 이를 제거해보자"
   ]
  },
  {
   "cell_type": "markdown",
   "metadata": {},
   "source": [
    "### Box plot\n",
    "데이터의 이상치가 어떻게 존재하는지 확인하기 위해 각 feature별로 boxplot을 그려보도록 하자"
   ]
  },
  {
   "cell_type": "code",
   "execution_count": 13,
   "metadata": {},
   "outputs": [
    {
     "data": {
      "image/png": "[encoded data removed]",
      "text/plain": [
       "<Figure size 1440x288 with 4 Axes>"
      ]
     },
     "metadata": {
      "needs_background": "light"
     },
     "output_type": "display_data"
    }
   ],
   "source": [
    "def draw_feature_boxplot(dataset):    \n",
    "    plt.figure(figsize=(20, 4))\n",
    "\n",
    "    for column, i in zip(dataset.columns, range(len(dataset.columns))):\n",
    "        # compare_size 히스토그램\n",
    "        plt.subplot(1, len(dataset.columns), i+1)\n",
    "        plt.boxplot(dataset[column])\n",
    "        plt.xlabel(column)\n",
    "        plt.ylabel('value')\n",
    "        plt.title(f'{column} histogram')\n",
    "\n",
    "    plt.show()\n",
    "\n",
    "draw_feature_boxplot(data[['compare_size', 'image_time', 'recognition_prob_avg', 'similarity_avg']])"
   ]
  },
  {
   "cell_type": "markdown",
   "metadata": {},
   "source": [
    "### 이상치 제거\n",
    "`recognition feature`는 0과 1사이의 값이 나와야 하므로 0.5 밑의 값이 이상치라 판단하기 힘들지만, `compare_size`와 `image_time` feature의 경우 범주가 정해진 값이 아니기에 이상치를 제거해준다"
   ]
  },
  {
   "cell_type": "code",
   "execution_count": 14,
   "metadata": {},
   "outputs": [
    {
     "data": {
      "image/png": "[encoded data removed]",
      "text/plain": [
       "<Figure size 1440x288 with 4 Axes>"
      ]
     },
     "metadata": {
      "needs_background": "light"
     },
     "output_type": "display_data"
    },
    {
     "data": {
      "image/png": "[encoded data removed]",
      "text/plain": [
       "<Figure size 1440x288 with 4 Axes>"
      ]
     },
     "metadata": {
      "needs_background": "light"
     },
     "output_type": "display_data"
    },
    {
     "name": "stdout",
     "output_type": "stream",
     "text": [
      "done: 481\n",
      "fail: 286\n"
     ]
    }
   ],
   "source": [
    "# image_time이 긴, compare_size가 큰(이상치) 데이터 제거\n",
    "data = data[data[\"image_time\"] < 200000]\n",
    "data = data[data[\"compare_size\"] < 2]\n",
    "draw_feature_boxplot(data[['compare_size', 'image_time', 'recognition_prob_avg', 'similarity_avg']])\n",
    "draw_feature_histogram(data[['compare_size', 'image_time', 'recognition_prob_avg', 'similarity_avg']])\n",
    "\n",
    "# done된 데이터와 fail된 데이터 수 비교\n",
    "print(\"done:\", len(data[data['status'] == 0]))\n",
    "print(\"fail:\", len(data[data['status'] == 1]))"
   ]
  },
  {
   "cell_type": "markdown",
   "metadata": {},
   "source": [
    "# Feature Engineering(상관분석)\n",
    "feature간의 상관 분석을 통해서 다중 공선성 문제가 존재하는지 파악한다."
   ]
  },
  {
   "cell_type": "code",
   "execution_count": 15,
   "metadata": {},
   "outputs": [],
   "source": [
    "# # 산점도 및 histogram\n",
    "# sns.pairplot(data, diag_kind='kde', hue='status', palette='bright')\n",
    "# plt.show()"
   ]
  },
  {
   "cell_type": "code",
   "execution_count": 17,
   "metadata": {},
   "outputs": [
    {
     "data": {
      "text/plain": [
       "<matplotlib.axes._subplots.AxesSubplot at 0x2c116a57808>"
      ]
     },
     "execution_count": 17,
     "metadata": {},
     "output_type": "execute_result"
    },
    {
     "data": {
      "image/png": "[encoded data removed]",
      "text/plain": [
       "<Figure size 576x576 with 2 Axes>"
      ]
     },
     "metadata": {
      "needs_background": "light"
     },
     "output_type": "display_data"
    }
   ],
   "source": [
    "# 히트맵 그리기\n",
    "plt.figure(figsize=(8,8))\n",
    "cor = data.corr()\n",
    "sns.heatmap(data=cor, annot=True, \n",
    "fmt = '.2f', linewidths=.1, cmap='Blues')"
   ]
  },
  {
   "cell_type": "markdown",
   "metadata": {},
   "source": [
    "`recognition_prob_avg` 와 `similarity_avg` 두 feature간에 강한 상관관계(0.77)이 존재한다고 밝혀졌다. 두 변수 모두 종속변수(`state`)에 영향을 미치는 정도가 비슷(`-0.43`, `-0.49`)하므로 더 설명하기가 좋은 `similarity_avg` feature를 남겨두고 `recognition_prob_avg` feature를 제거하도록 하자"
   ]
  },
  {
   "cell_type": "code",
   "execution_count": 18,
   "metadata": {
    "scrolled": true
   },
   "outputs": [
    {
     "data": {
      "text/html": [
       "<div>\n",
       "<style scoped>\n",
       "    .dataframe tbody tr th:only-of-type {\n",
       "        vertical-align: middle;\n",
       "    }\n",
       "\n",
       "    .dataframe tbody tr th {\n",
       "        vertical-align: top;\n",
       "    }\n",
       "\n",
       "    .dataframe thead th {\n",
       "        text-align: right;\n",
       "    }\n",
       "</style>\n",
       "<table border=\"1\" class=\"dataframe\">\n",
       "  <thead>\n",
       "    <tr style=\"text-align: right;\">\n",
       "      <th></th>\n",
       "      <th>compare_size</th>\n",
       "      <th>image_time</th>\n",
       "      <th>similarity_avg</th>\n",
       "      <th>status</th>\n",
       "    </tr>\n",
       "  </thead>\n",
       "  <tbody>\n",
       "    <tr>\n",
       "      <td>0</td>\n",
       "      <td>1.053141</td>\n",
       "      <td>183500</td>\n",
       "      <td>0.912753</td>\n",
       "      <td>0</td>\n",
       "    </tr>\n",
       "    <tr>\n",
       "      <td>1</td>\n",
       "      <td>0.683934</td>\n",
       "      <td>143721</td>\n",
       "      <td>0.995392</td>\n",
       "      <td>0</td>\n",
       "    </tr>\n",
       "    <tr>\n",
       "      <td>2</td>\n",
       "      <td>1.008688</td>\n",
       "      <td>168192</td>\n",
       "      <td>0.917415</td>\n",
       "      <td>0</td>\n",
       "    </tr>\n",
       "    <tr>\n",
       "      <td>3</td>\n",
       "      <td>0.381340</td>\n",
       "      <td>69765</td>\n",
       "      <td>0.739130</td>\n",
       "      <td>0</td>\n",
       "    </tr>\n",
       "    <tr>\n",
       "      <td>4</td>\n",
       "      <td>0.320067</td>\n",
       "      <td>81555</td>\n",
       "      <td>0.537415</td>\n",
       "      <td>1</td>\n",
       "    </tr>\n",
       "  </tbody>\n",
       "</table>\n",
       "</div>"
      ],
      "text/plain": [
       "   compare_size  image_time  similarity_avg  status\n",
       "0      1.053141      183500        0.912753       0\n",
       "1      0.683934      143721        0.995392       0\n",
       "2      1.008688      168192        0.917415       0\n",
       "3      0.381340       69765        0.739130       0\n",
       "4      0.320067       81555        0.537415       1"
      ]
     },
     "metadata": {},
     "output_type": "display_data"
    }
   ],
   "source": [
    "# 전체 데이터 중에서 의미 있다고 여겨지는 항목만 가져오기\n",
    "data = data[['compare_size', 'image_time', 'similarity_avg', 'status']]\n",
    "# data = data[['compare_size', 'image_time', 'recognition_prob_avg', 'similarity_avg', 'status']]\n",
    "display(data.head())"
   ]
  },
  {
   "cell_type": "markdown",
   "metadata": {},
   "source": [
    "# 모델 생성 및 성능 평가\n",
    "주어진 feature들을 활용하여 classification model을 만들고, model이 성능을 측정하여 가장 높은 성능을 드러낼 때 활용되는 feature는 무엇인지 탐색한다"
   ]
  },
  {
   "cell_type": "markdown",
   "metadata": {},
   "source": [
    "## feature 및 labels 분리\n",
    "데이터셋에서 feature와 label로 활용할 column을 추출한다"
   ]
  },
  {
   "cell_type": "code",
   "execution_count": 19,
   "metadata": {},
   "outputs": [],
   "source": [
    "# 데이터셋을 feature와 label로 분리\n",
    "features = data[['compare_size', 'image_time', 'similarity_avg']]\n",
    "# data = data[['compare_size', 'image_time', 'recognition_prob_avg', 'similarity_avg', 'status']]\n",
    "labels = data[['status']]\n",
    "# display(features.head())\n",
    "# display(labels.head())"
   ]
  },
  {
   "cell_type": "markdown",
   "metadata": {},
   "source": [
    "## train/test split\n",
    "데이터를 train set과 test set으로 `7:3`의 비율로 분리한다"
   ]
  },
  {
   "cell_type": "code",
   "execution_count": 20,
   "metadata": {},
   "outputs": [],
   "source": [
    "x_train, x_test, y_train, y_test = train_test_split(features, labels, test_size = 0.3)"
   ]
  },
  {
   "cell_type": "markdown",
   "metadata": {},
   "source": [
    "## 스케일링\n",
    "feature의 값들을 정규화 해준다"
   ]
  },
  {
   "cell_type": "code",
   "execution_count": 21,
   "metadata": {},
   "outputs": [],
   "source": [
    "scaler = RobustScaler()\n",
    "x_train_scaled = scaler.fit_transform(x_train)\n",
    "x_test_scaled = scaler.transform(x_test)"
   ]
  },
  {
   "cell_type": "markdown",
   "metadata": {},
   "source": [
    "## Logistic Regression 모델 생성"
   ]
  },
  {
   "cell_type": "code",
   "execution_count": 22,
   "metadata": {},
   "outputs": [
    {
     "name": "stdout",
     "output_type": "stream",
     "text": [
      "총 테스트 개수: 231, 오류 개수: 57\n",
      "Accuracy(정확도) : 0.7532467532467533\n",
      "Recall(재현율) : 0.8571428571428571\n",
      "Precision(정밀도) : 0.45652173913043476\n",
      "F1 score: 0.5957446808510638\n",
      "training set R2 결정 계수 : 0.7574626865671642\n",
      "test set R2 결정 계수 : 0.7532467532467533\n"
     ]
    },
    {
     "name": "stderr",
     "output_type": "stream",
     "text": [
      "C:\\Users\\user\\Anaconda3\\lib\\site-packages\\sklearn\\linear_model\\logistic.py:432: FutureWarning: Default solver will be changed to 'lbfgs' in 0.22. Specify a solver to silence this warning.\n",
      "  FutureWarning)\n",
      "C:\\Users\\user\\Anaconda3\\lib\\site-packages\\sklearn\\utils\\validation.py:724: DataConversionWarning: A column-vector y was passed when a 1d array was expected. Please change the shape of y to (n_samples, ), for example using ravel().\n",
      "  y = column_or_1d(y, warn=True)\n"
     ]
    }
   ],
   "source": [
    "LR_model = LogisticRegression()\n",
    "LR_model.fit(x_train_scaled, y_train)\n",
    "y_pred = LR_model.predict(x_test_scaled)\n",
    "y_prob = LR_model.predict_proba(x_test_scaled)\n",
    "\n",
    "print(\"총 테스트 개수: {}, 오류 개수: {}\".format(len(y_pred), (y_pred != y_test.status).sum()))\n",
    "print(\"Accuracy(정확도) : {}\".format(accuracy_score(y_pred, y_test)))\n",
    "print(\"Recall(재현율) : {}\".format(recall_score(y_pred, y_test)))\n",
    "print(\"Precision(정밀도) : {}\".format(precision_score(y_pred, y_test)))\n",
    "print(\"F1 score: {}\".format(f1_score(y_pred, y_test)))\n",
    "print('training set R2 결정 계수 : {}'.format(LR_model.score(x_train_scaled, y_train)))\n",
    "print('test set R2 결정 계수 : {}'.format(LR_model.score(x_test_scaled, y_test)))"
   ]
  },
  {
   "cell_type": "markdown",
   "metadata": {},
   "source": [
    "## KNN 모델 생성"
   ]
  },
  {
   "cell_type": "code",
   "execution_count": 23,
   "metadata": {},
   "outputs": [
    {
     "name": "stdout",
     "output_type": "stream",
     "text": [
      "총 테스트 개수: 231, 오류 개수: 60\n",
      "Accuracy(정확도) : 0.7402597402597403\n",
      "Recall(재현율) : 0.82\n",
      "Precision(정밀도) : 0.44565217391304346\n",
      "F1 score: 0.5774647887323944\n",
      "training set R2 결정 계수 : 0.7574626865671642\n",
      "test set R2 결정 계수 : 0.7532467532467533\n"
     ]
    },
    {
     "name": "stderr",
     "output_type": "stream",
     "text": [
      "C:\\Users\\user\\Anaconda3\\lib\\site-packages\\ipykernel_launcher.py:2: DataConversionWarning: A column-vector y was passed when a 1d array was expected. Please change the shape of y to (n_samples, ), for example using ravel().\n",
      "  \n"
     ]
    }
   ],
   "source": [
    "KNN_model = KNeighborsClassifier(n_neighbors=10)\n",
    "KNN_model.fit(x_train_scaled, y_train)\n",
    "y_pred = KNN_model.predict(x_test_scaled)\n",
    "y_prob = KNN_model.predict_proba(x_test_scaled)\n",
    "\n",
    "print(\"총 테스트 개수: {}, 오류 개수: {}\".format(len(y_pred), (y_pred != y_test.status).sum()))\n",
    "print(\"Accuracy(정확도) : {}\".format(accuracy_score(y_pred, y_test)))\n",
    "print(\"Recall(재현율) : {}\".format(recall_score(y_pred, y_test)))\n",
    "print(\"Precision(정밀도) : {}\".format(precision_score(y_pred, y_test)))\n",
    "print(\"F1 score: {}\".format(f1_score(y_pred, y_test)))\n",
    "print('training set R2 결정 계수 : {}'.format(LR_model.score(x_train_scaled, y_train)))\n",
    "print('test set R2 결정 계수 : {}'.format(LR_model.score(x_test_scaled, y_test)))"
   ]
  },
  {
   "cell_type": "markdown",
   "metadata": {},
   "source": [
    "## SVM 모델 생성"
   ]
  },
  {
   "cell_type": "code",
   "execution_count": 24,
   "metadata": {},
   "outputs": [
    {
     "name": "stdout",
     "output_type": "stream",
     "text": [
      "총 테스트 개수: 231, 오류 개수: 56\n",
      "Accuracy(정확도) : 0.7575757575757576\n",
      "Recall(재현율) : 0.9285714285714286\n",
      "Precision(정밀도) : 0.42391304347826086\n",
      "F1 score: 0.582089552238806\n",
      "training set R2 결정 계수 : 0.7574626865671642\n",
      "test set R2 결정 계수 : 0.7532467532467533\n"
     ]
    },
    {
     "name": "stderr",
     "output_type": "stream",
     "text": [
      "C:\\Users\\user\\Anaconda3\\lib\\site-packages\\sklearn\\utils\\validation.py:724: DataConversionWarning: A column-vector y was passed when a 1d array was expected. Please change the shape of y to (n_samples, ), for example using ravel().\n",
      "  y = column_or_1d(y, warn=True)\n",
      "C:\\Users\\user\\Anaconda3\\lib\\site-packages\\sklearn\\svm\\base.py:193: FutureWarning: The default value of gamma will change from 'auto' to 'scale' in version 0.22 to account better for unscaled features. Set gamma explicitly to 'auto' or 'scale' to avoid this warning.\n",
      "  \"avoid this warning.\", FutureWarning)\n"
     ]
    }
   ],
   "source": [
    "SVC_model = SVC(probability=True)\n",
    "SVC_model.fit(x_train_scaled, y_train)\n",
    "y_pred = SVC_model.predict(x_test_scaled)\n",
    "y_prob = SVC_model.predict_proba(x_test_scaled)\n",
    "\n",
    "print(\"총 테스트 개수: {}, 오류 개수: {}\".format(len(y_pred), (y_pred != y_test.status).sum()))\n",
    "print(\"Accuracy(정확도) : {}\".format(accuracy_score(y_pred, y_test)))\n",
    "print(\"Recall(재현율) : {}\".format(recall_score(y_pred, y_test)))\n",
    "print(\"Precision(정밀도) : {}\".format(precision_score(y_pred, y_test)))\n",
    "print(\"F1 score: {}\".format(f1_score(y_pred, y_test)))\n",
    "print('training set R2 결정 계수 : {}'.format(LR_model.score(x_train_scaled, y_train)))\n",
    "print('test set R2 결정 계수 : {}'.format(LR_model.score(x_test_scaled, y_test)))"
   ]
  },
  {
   "cell_type": "markdown",
   "metadata": {},
   "source": [
    "## Decision Tree 모델 생성"
   ]
  },
  {
   "cell_type": "code",
   "execution_count": 25,
   "metadata": {},
   "outputs": [
    {
     "name": "stdout",
     "output_type": "stream",
     "text": [
      "총 테스트 개수: 231, 오류 개수: 67\n",
      "Accuracy(정확도) : 0.70995670995671\n",
      "Recall(재현율) : 0.6344086021505376\n",
      "Precision(정밀도) : 0.6413043478260869\n",
      "F1 score: 0.6378378378378379\n",
      "training set R2 결정 계수 : 0.7574626865671642\n",
      "test set R2 결정 계수 : 0.7532467532467533\n"
     ]
    }
   ],
   "source": [
    "DT_model = DecisionTreeClassifier()\n",
    "DT_model.fit(x_train_scaled, y_train)\n",
    "y_pred = DT_model.predict(x_test_scaled)\n",
    "y_prob = DT_model.predict_proba(x_test_scaled)\n",
    "\n",
    "print(\"총 테스트 개수: {}, 오류 개수: {}\".format(len(y_pred), (y_pred != y_test.status).sum()))\n",
    "print(\"Accuracy(정확도) : {}\".format(accuracy_score(y_pred, y_test)))\n",
    "print(\"Recall(재현율) : {}\".format(recall_score(y_pred, y_test)))\n",
    "print(\"Precision(정밀도) : {}\".format(precision_score(y_pred, y_test)))\n",
    "print(\"F1 score: {}\".format(f1_score(y_pred, y_test)))\n",
    "print('training set R2 결정 계수 : {}'.format(LR_model.score(x_train_scaled, y_train)))\n",
    "print('test set R2 결정 계수 : {}'.format(LR_model.score(x_test_scaled, y_test)))"
   ]
  },
  {
   "cell_type": "markdown",
   "metadata": {},
   "source": [
    "## 랜덤 포레스트 모델 생성"
   ]
  },
  {
   "cell_type": "code",
   "execution_count": 26,
   "metadata": {},
   "outputs": [
    {
     "name": "stdout",
     "output_type": "stream",
     "text": [
      "총 테스트 개수: 231, 오류 개수: 65\n",
      "Accuracy(정확도) : 0.7186147186147186\n",
      "Recall(재현율) : 0.7076923076923077\n",
      "Precision(정밀도) : 0.5\n",
      "F1 score: 0.5859872611464968\n",
      "training set R2 결정 계수 : 0.7574626865671642\n",
      "test set R2 결정 계수 : 0.7532467532467533\n"
     ]
    },
    {
     "name": "stderr",
     "output_type": "stream",
     "text": [
      "C:\\Users\\user\\Anaconda3\\lib\\site-packages\\sklearn\\ensemble\\forest.py:245: FutureWarning: The default value of n_estimators will change from 10 in version 0.20 to 100 in 0.22.\n",
      "  \"10 in version 0.20 to 100 in 0.22.\", FutureWarning)\n",
      "C:\\Users\\user\\Anaconda3\\lib\\site-packages\\ipykernel_launcher.py:2: DataConversionWarning: A column-vector y was passed when a 1d array was expected. Please change the shape of y to (n_samples,), for example using ravel().\n",
      "  \n"
     ]
    }
   ],
   "source": [
    "RF_model = RandomForestClassifier()\n",
    "RF_model.fit(x_train_scaled, y_train)\n",
    "y_pred = RF_model.predict(x_test_scaled)\n",
    "y_prob = RF_model.predict_proba(x_test_scaled)\n",
    "\n",
    "print(\"총 테스트 개수: {}, 오류 개수: {}\".format(len(y_pred), (y_pred != y_test.status).sum()))\n",
    "print(\"Accuracy(정확도) : {}\".format(accuracy_score(y_pred, y_test)))\n",
    "print(\"Recall(재현율) : {}\".format(recall_score(y_pred, y_test)))\n",
    "print(\"Precision(정밀도) : {}\".format(precision_score(y_pred, y_test)))\n",
    "print(\"F1 score: {}\".format(f1_score(y_pred, y_test)))\n",
    "print('training set R2 결정 계수 : {}'.format(LR_model.score(x_train_scaled, y_train)))\n",
    "print('test set R2 결정 계수 : {}'.format(LR_model.score(x_test_scaled, y_test)))"
   ]
  },
  {
   "cell_type": "markdown",
   "metadata": {},
   "source": [
    "## Simple Neural Net"
   ]
  },
  {
   "cell_type": "code",
   "execution_count": 27,
   "metadata": {},
   "outputs": [
    {
     "name": "stdout",
     "output_type": "stream",
     "text": [
      "WARNING:tensorflow:From C:\\Users\\user\\Anaconda3\\lib\\site-packages\\tensorflow_core\\python\\ops\\resource_variable_ops.py:1630: calling BaseResourceVariable.__init__ (from tensorflow.python.ops.resource_variable_ops) with constraint is deprecated and will be removed in a future version.\n",
      "Instructions for updating:\n",
      "If using Keras pass *_constraint arguments to layers.\n",
      "WARNING:tensorflow:From C:\\Users\\user\\Anaconda3\\lib\\site-packages\\tensorflow_core\\python\\ops\\nn_impl.py:183: where (from tensorflow.python.ops.array_ops) is deprecated and will be removed in a future version.\n",
      "Instructions for updating:\n",
      "Use tf.where in 2.0, which has the same broadcast rule as np.where\n",
      "WARNING:tensorflow:From C:\\Users\\user\\Anaconda3\\lib\\site-packages\\keras\\backend\\tensorflow_backend.py:422: The name tf.global_variables is deprecated. Please use tf.compat.v1.global_variables instead.\n",
      "\n",
      "Epoch 1/120\n",
      "536/536 [==============================] - 0s 644us/step - loss: 0.6590 - accuracy: 0.6306\n",
      "Epoch 2/120\n",
      "536/536 [==============================] - 0s 149us/step - loss: 0.5906 - accuracy: 0.7295\n",
      "Epoch 3/120\n",
      "536/536 [==============================] - 0s 143us/step - loss: 0.5567 - accuracy: 0.7388\n",
      "Epoch 4/120\n",
      "536/536 [==============================] - 0s 127us/step - loss: 0.5413 - accuracy: 0.7556\n",
      "Epoch 5/120\n",
      "536/536 [==============================] - 0s 119us/step - loss: 0.5317 - accuracy: 0.7593\n",
      "Epoch 6/120\n",
      "536/536 [==============================] - 0s 130us/step - loss: 0.5240 - accuracy: 0.7519\n",
      "Epoch 7/120\n",
      "536/536 [==============================] - 0s 127us/step - loss: 0.5174 - accuracy: 0.7593\n",
      "Epoch 8/120\n",
      "536/536 [==============================] - 0s 121us/step - loss: 0.5071 - accuracy: 0.7593\n",
      "Epoch 9/120\n",
      "536/536 [==============================] - 0s 130us/step - loss: 0.5036 - accuracy: 0.7687\n",
      "Epoch 10/120\n",
      "536/536 [==============================] - 0s 119us/step - loss: 0.4957 - accuracy: 0.7649\n",
      "Epoch 11/120\n",
      "536/536 [==============================] - 0s 154us/step - loss: 0.4896 - accuracy: 0.7705\n",
      "Epoch 12/120\n",
      "536/536 [==============================] - 0s 121us/step - loss: 0.4852 - accuracy: 0.7761\n",
      "Epoch 13/120\n",
      "536/536 [==============================] - 0s 119us/step - loss: 0.4883 - accuracy: 0.7649\n",
      "Epoch 14/120\n",
      "536/536 [==============================] - 0s 123us/step - loss: 0.4830 - accuracy: 0.7910\n",
      "Epoch 15/120\n",
      "536/536 [==============================] - 0s 121us/step - loss: 0.4820 - accuracy: 0.7799\n",
      "Epoch 16/120\n",
      "536/536 [==============================] - 0s 147us/step - loss: 0.4729 - accuracy: 0.7836\n",
      "Epoch 17/120\n",
      "536/536 [==============================] - 0s 125us/step - loss: 0.4718 - accuracy: 0.7910\n",
      "Epoch 18/120\n",
      "536/536 [==============================] - 0s 130us/step - loss: 0.4690 - accuracy: 0.7873\n",
      "Epoch 19/120\n",
      "536/536 [==============================] - 0s 132us/step - loss: 0.4665 - accuracy: 0.7892\n",
      "Epoch 20/120\n",
      "536/536 [==============================] - 0s 129us/step - loss: 0.4634 - accuracy: 0.7929\n",
      "Epoch 21/120\n",
      "536/536 [==============================] - 0s 143us/step - loss: 0.4628 - accuracy: 0.7948\n",
      "Epoch 22/120\n",
      "536/536 [==============================] - 0s 143us/step - loss: 0.4627 - accuracy: 0.8004\n",
      "Epoch 23/120\n",
      "536/536 [==============================] - 0s 141us/step - loss: 0.4589 - accuracy: 0.8004\n",
      "Epoch 24/120\n",
      "536/536 [==============================] - 0s 115us/step - loss: 0.4594 - accuracy: 0.7985\n",
      "Epoch 25/120\n",
      "536/536 [==============================] - 0s 131us/step - loss: 0.4618 - accuracy: 0.7948\n",
      "Epoch 26/120\n",
      "536/536 [==============================] - 0s 127us/step - loss: 0.4533 - accuracy: 0.7985\n",
      "Epoch 27/120\n",
      "536/536 [==============================] - 0s 123us/step - loss: 0.4530 - accuracy: 0.8004\n",
      "Epoch 28/120\n",
      "536/536 [==============================] - 0s 115us/step - loss: 0.4532 - accuracy: 0.8004\n",
      "Epoch 29/120\n",
      "536/536 [==============================] - 0s 119us/step - loss: 0.4528 - accuracy: 0.8004\n",
      "Epoch 30/120\n",
      "536/536 [==============================] - 0s 125us/step - loss: 0.4493 - accuracy: 0.7948\n",
      "Epoch 31/120\n",
      "536/536 [==============================] - 0s 125us/step - loss: 0.4486 - accuracy: 0.7985\n",
      "Epoch 32/120\n",
      "536/536 [==============================] - 0s 138us/step - loss: 0.4485 - accuracy: 0.8041\n",
      "Epoch 33/120\n",
      "536/536 [==============================] - 0s 134us/step - loss: 0.4493 - accuracy: 0.7892\n",
      "Epoch 34/120\n",
      "536/536 [==============================] - 0s 162us/step - loss: 0.4434 - accuracy: 0.8041\n",
      "Epoch 35/120\n",
      "536/536 [==============================] - 0s 155us/step - loss: 0.4461 - accuracy: 0.8022\n",
      "Epoch 36/120\n",
      "536/536 [==============================] - 0s 151us/step - loss: 0.4432 - accuracy: 0.8022\n",
      "Epoch 37/120\n",
      "536/536 [==============================] - 0s 126us/step - loss: 0.4428 - accuracy: 0.8078\n",
      "Epoch 38/120\n",
      "536/536 [==============================] - 0s 136us/step - loss: 0.4409 - accuracy: 0.8078\n",
      "Epoch 39/120\n",
      "536/536 [==============================] - 0s 162us/step - loss: 0.4432 - accuracy: 0.8116\n",
      "Epoch 40/120\n",
      "536/536 [==============================] - 0s 145us/step - loss: 0.4391 - accuracy: 0.8097\n",
      "Epoch 41/120\n",
      "536/536 [==============================] - 0s 132us/step - loss: 0.4382 - accuracy: 0.8078\n",
      "Epoch 42/120\n",
      "536/536 [==============================] - 0s 141us/step - loss: 0.4383 - accuracy: 0.8097\n",
      "Epoch 43/120\n",
      "536/536 [==============================] - 0s 156us/step - loss: 0.4356 - accuracy: 0.8116\n",
      "Epoch 44/120\n",
      "536/536 [==============================] - 0s 132us/step - loss: 0.4346 - accuracy: 0.8097\n",
      "Epoch 45/120\n",
      "536/536 [==============================] - 0s 121us/step - loss: 0.4359 - accuracy: 0.8022\n",
      "Epoch 46/120\n",
      "536/536 [==============================] - 0s 149us/step - loss: 0.4345 - accuracy: 0.8134\n",
      "Epoch 47/120\n",
      "536/536 [==============================] - 0s 128us/step - loss: 0.4363 - accuracy: 0.8116\n",
      "Epoch 48/120\n",
      "536/536 [==============================] - 0s 134us/step - loss: 0.4349 - accuracy: 0.8060\n",
      "Epoch 49/120\n",
      "536/536 [==============================] - 0s 162us/step - loss: 0.4360 - accuracy: 0.7985\n",
      "Epoch 50/120\n",
      "536/536 [==============================] - 0s 147us/step - loss: 0.4292 - accuracy: 0.8172\n",
      "Epoch 51/120\n",
      "536/536 [==============================] - 0s 134us/step - loss: 0.4371 - accuracy: 0.8097\n",
      "Epoch 52/120\n",
      "536/536 [==============================] - 0s 130us/step - loss: 0.4336 - accuracy: 0.8041\n",
      "Epoch 53/120\n",
      "536/536 [==============================] - 0s 143us/step - loss: 0.4287 - accuracy: 0.8097\n",
      "Epoch 54/120\n",
      "536/536 [==============================] - 0s 128us/step - loss: 0.4299 - accuracy: 0.8116\n",
      "Epoch 55/120\n",
      "536/536 [==============================] - 0s 141us/step - loss: 0.4267 - accuracy: 0.8078\n",
      "Epoch 56/120\n",
      "536/536 [==============================] - 0s 138us/step - loss: 0.4268 - accuracy: 0.8097\n",
      "Epoch 57/120\n",
      "536/536 [==============================] - 0s 139us/step - loss: 0.4290 - accuracy: 0.8097\n",
      "Epoch 58/120\n",
      "536/536 [==============================] - 0s 128us/step - loss: 0.4251 - accuracy: 0.8116\n",
      "Epoch 59/120\n",
      "536/536 [==============================] - 0s 147us/step - loss: 0.4266 - accuracy: 0.8022\n",
      "Epoch 60/120\n",
      "536/536 [==============================] - 0s 131us/step - loss: 0.4227 - accuracy: 0.8116\n",
      "Epoch 61/120\n",
      "536/536 [==============================] - 0s 136us/step - loss: 0.4236 - accuracy: 0.8134\n",
      "Epoch 62/120\n",
      "536/536 [==============================] - 0s 136us/step - loss: 0.4230 - accuracy: 0.8116\n",
      "Epoch 63/120\n",
      "536/536 [==============================] - 0s 179us/step - loss: 0.4236 - accuracy: 0.8116\n",
      "Epoch 64/120\n",
      "536/536 [==============================] - 0s 153us/step - loss: 0.4204 - accuracy: 0.8060\n",
      "Epoch 65/120\n",
      "536/536 [==============================] - 0s 130us/step - loss: 0.4229 - accuracy: 0.8097\n",
      "Epoch 66/120\n",
      "536/536 [==============================] - 0s 125us/step - loss: 0.4178 - accuracy: 0.8153\n",
      "Epoch 67/120\n",
      "536/536 [==============================] - 0s 130us/step - loss: 0.4155 - accuracy: 0.8134\n",
      "Epoch 68/120\n",
      "536/536 [==============================] - 0s 130us/step - loss: 0.4181 - accuracy: 0.8097\n",
      "Epoch 69/120\n",
      "536/536 [==============================] - 0s 132us/step - loss: 0.4209 - accuracy: 0.8190\n",
      "Epoch 70/120\n",
      "536/536 [==============================] - 0s 149us/step - loss: 0.4196 - accuracy: 0.8078\n",
      "Epoch 71/120\n"
     ]
    },
    {
     "name": "stdout",
     "output_type": "stream",
     "text": [
      "536/536 [==============================] - 0s 151us/step - loss: 0.4165 - accuracy: 0.8060\n",
      "Epoch 72/120\n",
      "536/536 [==============================] - 0s 188us/step - loss: 0.4173 - accuracy: 0.8134\n",
      "Epoch 73/120\n",
      "536/536 [==============================] - 0s 169us/step - loss: 0.4146 - accuracy: 0.8097\n",
      "Epoch 74/120\n",
      "536/536 [==============================] - 0s 147us/step - loss: 0.4101 - accuracy: 0.8153\n",
      "Epoch 75/120\n",
      "536/536 [==============================] - 0s 131us/step - loss: 0.4141 - accuracy: 0.8134\n",
      "Epoch 76/120\n",
      "536/536 [==============================] - 0s 139us/step - loss: 0.4099 - accuracy: 0.8172\n",
      "Epoch 77/120\n",
      "536/536 [==============================] - 0s 140us/step - loss: 0.4100 - accuracy: 0.8097\n",
      "Epoch 78/120\n",
      "536/536 [==============================] - 0s 128us/step - loss: 0.4106 - accuracy: 0.8190\n",
      "Epoch 79/120\n",
      "536/536 [==============================] - 0s 138us/step - loss: 0.4130 - accuracy: 0.8041\n",
      "Epoch 80/120\n",
      "536/536 [==============================] - 0s 141us/step - loss: 0.4097 - accuracy: 0.8134\n",
      "Epoch 81/120\n",
      "536/536 [==============================] - 0s 134us/step - loss: 0.4094 - accuracy: 0.8153\n",
      "Epoch 82/120\n",
      "536/536 [==============================] - 0s 142us/step - loss: 0.4065 - accuracy: 0.8172\n",
      "Epoch 83/120\n",
      "536/536 [==============================] - 0s 167us/step - loss: 0.4056 - accuracy: 0.8172\n",
      "Epoch 84/120\n",
      "536/536 [==============================] - 0s 171us/step - loss: 0.4074 - accuracy: 0.8209\n",
      "Epoch 85/120\n",
      "536/536 [==============================] - 0s 175us/step - loss: 0.4071 - accuracy: 0.8116\n",
      "Epoch 86/120\n",
      "536/536 [==============================] - 0s 175us/step - loss: 0.4022 - accuracy: 0.8190\n",
      "Epoch 87/120\n",
      "536/536 [==============================] - 0s 173us/step - loss: 0.4061 - accuracy: 0.8190\n",
      "Epoch 88/120\n",
      "536/536 [==============================] - 0s 173us/step - loss: 0.4036 - accuracy: 0.8172\n",
      "Epoch 89/120\n",
      "536/536 [==============================] - 0s 210us/step - loss: 0.4063 - accuracy: 0.8190\n",
      "Epoch 90/120\n",
      "536/536 [==============================] - 0s 197us/step - loss: 0.4007 - accuracy: 0.8134\n",
      "Epoch 91/120\n",
      "536/536 [==============================] - 0s 199us/step - loss: 0.4038 - accuracy: 0.8172\n",
      "Epoch 92/120\n",
      "536/536 [==============================] - 0s 184us/step - loss: 0.4091 - accuracy: 0.8097\n",
      "Epoch 93/120\n",
      "536/536 [==============================] - 0s 182us/step - loss: 0.4005 - accuracy: 0.8228\n",
      "Epoch 94/120\n",
      "536/536 [==============================] - 0s 199us/step - loss: 0.4005 - accuracy: 0.8097\n",
      "Epoch 95/120\n",
      "536/536 [==============================] - 0s 145us/step - loss: 0.4035 - accuracy: 0.8097\n",
      "Epoch 96/120\n",
      "536/536 [==============================] - 0s 138us/step - loss: 0.3967 - accuracy: 0.8209\n",
      "Epoch 97/120\n",
      "536/536 [==============================] - 0s 138us/step - loss: 0.3998 - accuracy: 0.8172\n",
      "Epoch 98/120\n",
      "536/536 [==============================] - 0s 137us/step - loss: 0.3983 - accuracy: 0.8172\n",
      "Epoch 99/120\n",
      "536/536 [==============================] - 0s 143us/step - loss: 0.3988 - accuracy: 0.8209\n",
      "Epoch 100/120\n",
      "536/536 [==============================] - 0s 132us/step - loss: 0.3962 - accuracy: 0.8116\n",
      "Epoch 101/120\n",
      "536/536 [==============================] - 0s 147us/step - loss: 0.3963 - accuracy: 0.8246\n",
      "Epoch 102/120\n",
      "536/536 [==============================] - 0s 145us/step - loss: 0.4001 - accuracy: 0.8190\n",
      "Epoch 103/120\n",
      "536/536 [==============================] - 0s 259us/step - loss: 0.3971 - accuracy: 0.8153\n",
      "Epoch 104/120\n",
      "536/536 [==============================] - 0s 128us/step - loss: 0.3914 - accuracy: 0.8265\n",
      "Epoch 105/120\n",
      "536/536 [==============================] - 0s 113us/step - loss: 0.3929 - accuracy: 0.8172\n",
      "Epoch 106/120\n",
      "536/536 [==============================] - 0s 154us/step - loss: 0.3902 - accuracy: 0.8209\n",
      "Epoch 107/120\n",
      "536/536 [==============================] - 0s 145us/step - loss: 0.3959 - accuracy: 0.8153\n",
      "Epoch 108/120\n",
      "536/536 [==============================] - 0s 140us/step - loss: 0.3905 - accuracy: 0.8209\n",
      "Epoch 109/120\n",
      "536/536 [==============================] - 0s 143us/step - loss: 0.3900 - accuracy: 0.8228\n",
      "Epoch 110/120\n",
      "536/536 [==============================] - 0s 136us/step - loss: 0.3909 - accuracy: 0.8209\n",
      "Epoch 111/120\n",
      "536/536 [==============================] - 0s 128us/step - loss: 0.3892 - accuracy: 0.8265\n",
      "Epoch 112/120\n",
      "536/536 [==============================] - 0s 173us/step - loss: 0.3932 - accuracy: 0.8134\n",
      "Epoch 113/120\n",
      "536/536 [==============================] - 0s 167us/step - loss: 0.3868 - accuracy: 0.8265\n",
      "Epoch 114/120\n",
      "536/536 [==============================] - 0s 175us/step - loss: 0.3895 - accuracy: 0.8246\n",
      "Epoch 115/120\n",
      "536/536 [==============================] - 0s 173us/step - loss: 0.3872 - accuracy: 0.8246\n",
      "Epoch 116/120\n",
      "536/536 [==============================] - 0s 179us/step - loss: 0.3844 - accuracy: 0.8284\n",
      "Epoch 117/120\n",
      "536/536 [==============================] - 0s 208us/step - loss: 0.3844 - accuracy: 0.8246\n",
      "Epoch 118/120\n",
      "536/536 [==============================] - 0s 271us/step - loss: 0.3838 - accuracy: 0.8228\n",
      "Epoch 119/120\n",
      "536/536 [==============================] - 0s 146us/step - loss: 0.3841 - accuracy: 0.8265\n",
      "Epoch 120/120\n",
      "536/536 [==============================] - 0s 141us/step - loss: 0.3821 - accuracy: 0.8265\n",
      "231/231 [==============================] - 0s 224us/step\n",
      "[0.6057434030425497, 0.7575757503509521]\n",
      "Loss = 0.6057434030425497\n",
      "Test Accuracy = 0.7575757503509521\n"
     ]
    }
   ],
   "source": [
    "# 모델 정의\n",
    "NN_model = Sequential([\n",
    "    Dense(32, input_shape=(3,)),\n",
    "    Activation('relu'),\n",
    "    Dense(64),\n",
    "    Activation('relu'),\n",
    "    Dense(12),\n",
    "    Activation('relu'),\n",
    "    Dense(1),\n",
    "    Activation('sigmoid'),\n",
    "])\n",
    "# 컴파일\n",
    "NN_model.compile(optimizer='adam',\n",
    "              loss='binary_crossentropy',\n",
    "              metrics=['accuracy'])\n",
    "# Training\n",
    "NN_model.fit(x_train_scaled, y_train, epochs=120, batch_size=16)\n",
    "# test\n",
    "preds = NN_model.evaluate(x=x_test_scaled, y=y_test)\n",
    "y_prob = NN_model.predict_proba(x_test_scaled)\n",
    "\n",
    "print(preds)\n",
    "print (\"Loss = \" + str(preds[0]))\n",
    "print (\"Test Accuracy = \" + str(preds[1]))"
   ]
  },
  {
   "cell_type": "markdown",
   "metadata": {},
   "source": [
    "### 모델별 ROC 커브 및 AUC 확인"
   ]
  },
  {
   "cell_type": "code",
   "execution_count": 28,
   "metadata": {},
   "outputs": [],
   "source": [
    "from sklearn.metrics import roc_curve, auc\n",
    "\n",
    "def draw_roc_curve(model, name):\n",
    "    y_prob = model.predict_proba(x_test_scaled)\n",
    "    \n",
    "    false_positive_rate = 0\n",
    "    true_positive_rate = 0\n",
    "    thresholds = 0\n",
    "    if name == 'Neural Net':\n",
    "        false_positive_rate, true_positive_rate, thresholds = roc_curve(y_test, y_prob.T[0])\n",
    "    else:\n",
    "        false_positive_rate, true_positive_rate, thresholds = roc_curve(y_test, y_prob.T[1])\n",
    "    roc_auc = auc(false_positive_rate, true_positive_rate)\n",
    "\n",
    "    plt.plot(false_positive_rate, true_positive_rate, label=f'{name} = {roc_auc:.2f}')\n",
    "    plt.legend(loc='lower right')\n",
    "    plt.plot([0,1],[0,1],'r--')\n",
    "\n",
    "    plt.xlabel('False Positive Rate')\n",
    "    plt.ylabel('True Positive Rate')\n",
    "    plt.title('Receiver Operating Characteristic')"
   ]
  },
  {
   "cell_type": "code",
   "execution_count": 29,
   "metadata": {
    "scrolled": true
   },
   "outputs": [
    {
     "data": {
      "image/png": "[encoded data removed]",
      "text/plain": [
       "<Figure size 432x288 with 1 Axes>"
      ]
     },
     "metadata": {
      "needs_background": "light"
     },
     "output_type": "display_data"
    }
   ],
   "source": [
    "draw_roc_curve(LR_model, 'Logistic Regression')\n",
    "draw_roc_curve(KNN_model, 'KNN')\n",
    "draw_roc_curve(SVC_model, 'SVM')\n",
    "draw_roc_curve(DT_model, 'Decision Tree')\n",
    "draw_roc_curve(RF_model, 'Random Forest')\n",
    "draw_roc_curve(NN_model, 'Neural Net')"
   ]
  },
  {
   "cell_type": "markdown",
   "metadata": {},
   "source": [
    "# 여기까지가 이미지 데이터 신뢰도 예측 모델의 구현 과정\n",
    "모델의 성능 저조 원인?\n",
    "- 적은 feature 수\n",
    "- `avg` 라는 대표값을 feature로 활용한다는 제한점\n",
    "- 예측 목표는 부정확한 데이터 예측인데, 데이터에 포함된 crop이 하나만 잘못되어도 부정확한 데이터 이므로 이미지 데이터만으론 쉽게 파악 불가\n",
    "\n",
    "그리하여 이미지 데이터에 포함된 crop 데이터를 예측하는 모델을 설계하는 방향으로 선회함"
   ]
  }
 ],
 "metadata": {
  "kernelspec": {
   "display_name": "Python 3",
   "language": "python",
   "name": "python3"
  },
  "language_info": {
   "codemirror_mode": {
    "name": "ipython",
    "version": 3
   },
   "file_extension": ".py",
   "mimetype": "text/x-python",
   "name": "python",
   "nbconvert_exporter": "python",
   "pygments_lexer": "ipython3",
   "version": "3.7.4"
  }
 },
 "nbformat": 4,
 "nbformat_minor": 1
}
