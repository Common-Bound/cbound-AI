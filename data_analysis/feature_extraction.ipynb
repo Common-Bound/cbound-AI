{
 "cells": [
  {
   "cell_type": "code",
   "execution_count": 1,
   "metadata": {},
   "outputs": [],
   "source": [
    "import pandas as pd\n",
    "import seaborn as sns\n",
    "import matplotlib.pyplot as plt\n",
    "from sklearn.preprocessing import RobustScaler\n",
    "import json"
   ]
  },
  {
   "cell_type": "code",
   "execution_count": 63,
   "metadata": {},
   "outputs": [],
   "source": [
    "data = pd.read_csv('data_677.csv')"
   ]
  },
  {
   "cell_type": "code",
   "execution_count": 64,
   "metadata": {},
   "outputs": [
    {
     "data": {
      "text/html": [
       "<div>\n",
       "<style scoped>\n",
       "    .dataframe tbody tr th:only-of-type {\n",
       "        vertical-align: middle;\n",
       "    }\n",
       "\n",
       "    .dataframe tbody tr th {\n",
       "        vertical-align: top;\n",
       "    }\n",
       "\n",
       "    .dataframe thead th {\n",
       "        text-align: right;\n",
       "    }\n",
       "</style>\n",
       "<table border=\"1\" class=\"dataframe\">\n",
       "  <thead>\n",
       "    <tr style=\"text-align: right;\">\n",
       "      <th></th>\n",
       "      <th>id</th>\n",
       "      <th>type</th>\n",
       "      <th>payload</th>\n",
       "      <th>created_at</th>\n",
       "      <th>status</th>\n",
       "      <th>creator_id</th>\n",
       "      <th>inspector</th>\n",
       "      <th>project_id</th>\n",
       "      <th>schedule_state</th>\n",
       "      <th>reliability</th>\n",
       "      <th>inspector_count</th>\n",
       "    </tr>\n",
       "  </thead>\n",
       "  <tbody>\n",
       "    <tr>\n",
       "      <td>0</td>\n",
       "      <td>7acb1948-a5f6-41f1-8010-d336c6e91d23</td>\n",
       "      <td>image</td>\n",
       "      <td>{\"meta\": {\"crop_image\": [{\"correct\": [1], \"sha...</td>\n",
       "      <td>2019-10-13T08:41:57+09:00</td>\n",
       "      <td>done</td>\n",
       "      <td>b1af665e-b6f9-4b17-82fd-cc5c5421a632</td>\n",
       "      <td>{b1af665e-b6f9-4b17-82fd-cc5c5421a632}</td>\n",
       "      <td>4ff5f94d-694d-420e-b7d6-0ccad18eb1f1</td>\n",
       "      <td>queued</td>\n",
       "      <td>0</td>\n",
       "      <td>1</td>\n",
       "    </tr>\n",
       "    <tr>\n",
       "      <td>1</td>\n",
       "      <td>0b17d0c0-4231-4796-862e-d0791576ee7d</td>\n",
       "      <td>image</td>\n",
       "      <td>{\"meta\": {\"crop_image\": [{\"correct\": [1], \"sha...</td>\n",
       "      <td>2019-10-13T09:14:00+09:00</td>\n",
       "      <td>done</td>\n",
       "      <td>c2cf64b2-8534-4ab5-a883-a1d3410afdba</td>\n",
       "      <td>{c2cf64b2-8534-4ab5-a883-a1d3410afdba}</td>\n",
       "      <td>4ff5f94d-694d-420e-b7d6-0ccad18eb1f1</td>\n",
       "      <td>queued</td>\n",
       "      <td>0</td>\n",
       "      <td>1</td>\n",
       "    </tr>\n",
       "    <tr>\n",
       "      <td>2</td>\n",
       "      <td>4490fe3e-0c28-4e55-adbe-e79d10ec429e</td>\n",
       "      <td>image</td>\n",
       "      <td>{\"meta\": {\"crop_image\": [{\"correct\": [1], \"sha...</td>\n",
       "      <td>2019-10-13T09:22:24+09:00</td>\n",
       "      <td>done</td>\n",
       "      <td>d65f0a4e-7815-4194-a347-2ad0f7841f74</td>\n",
       "      <td>{b1af665e-b6f9-4b17-82fd-cc5c5421a632}</td>\n",
       "      <td>4ff5f94d-694d-420e-b7d6-0ccad18eb1f1</td>\n",
       "      <td>queued</td>\n",
       "      <td>0</td>\n",
       "      <td>1</td>\n",
       "    </tr>\n",
       "    <tr>\n",
       "      <td>3</td>\n",
       "      <td>a21c58ce-2539-40fd-9624-c1182dc07b95</td>\n",
       "      <td>image</td>\n",
       "      <td>{\"meta\": {\"crop_image\": [{\"correct\": [1], \"sha...</td>\n",
       "      <td>2019-10-13T09:23:53+09:00</td>\n",
       "      <td>done</td>\n",
       "      <td>bd88f55c-4046-41ad-8b63-70b6a9e25121</td>\n",
       "      <td>{b1af665e-b6f9-4b17-82fd-cc5c5421a632}</td>\n",
       "      <td>4ff5f94d-694d-420e-b7d6-0ccad18eb1f1</td>\n",
       "      <td>queued</td>\n",
       "      <td>0</td>\n",
       "      <td>1</td>\n",
       "    </tr>\n",
       "    <tr>\n",
       "      <td>4</td>\n",
       "      <td>3ddbbb93-8127-4801-b90e-3eacc139e6d4</td>\n",
       "      <td>image</td>\n",
       "      <td>{\"meta\": {\"crop_image\": [{\"correct\": [0], \"sha...</td>\n",
       "      <td>2019-10-13T09:25:36+09:00</td>\n",
       "      <td>failure</td>\n",
       "      <td>bd88f55c-4046-41ad-8b63-70b6a9e25121</td>\n",
       "      <td>{5d4b121c-d331-4c64-8811-524a38e3e31b}</td>\n",
       "      <td>4ff5f94d-694d-420e-b7d6-0ccad18eb1f1</td>\n",
       "      <td>queued</td>\n",
       "      <td>0</td>\n",
       "      <td>1</td>\n",
       "    </tr>\n",
       "  </tbody>\n",
       "</table>\n",
       "</div>"
      ],
      "text/plain": [
       "                                     id   type  \\\n",
       "0  7acb1948-a5f6-41f1-8010-d336c6e91d23  image   \n",
       "1  0b17d0c0-4231-4796-862e-d0791576ee7d  image   \n",
       "2  4490fe3e-0c28-4e55-adbe-e79d10ec429e  image   \n",
       "3  a21c58ce-2539-40fd-9624-c1182dc07b95  image   \n",
       "4  3ddbbb93-8127-4801-b90e-3eacc139e6d4  image   \n",
       "\n",
       "                                             payload  \\\n",
       "0  {\"meta\": {\"crop_image\": [{\"correct\": [1], \"sha...   \n",
       "1  {\"meta\": {\"crop_image\": [{\"correct\": [1], \"sha...   \n",
       "2  {\"meta\": {\"crop_image\": [{\"correct\": [1], \"sha...   \n",
       "3  {\"meta\": {\"crop_image\": [{\"correct\": [1], \"sha...   \n",
       "4  {\"meta\": {\"crop_image\": [{\"correct\": [0], \"sha...   \n",
       "\n",
       "                  created_at   status                            creator_id  \\\n",
       "0  2019-10-13T08:41:57+09:00     done  b1af665e-b6f9-4b17-82fd-cc5c5421a632   \n",
       "1  2019-10-13T09:14:00+09:00     done  c2cf64b2-8534-4ab5-a883-a1d3410afdba   \n",
       "2  2019-10-13T09:22:24+09:00     done  d65f0a4e-7815-4194-a347-2ad0f7841f74   \n",
       "3  2019-10-13T09:23:53+09:00     done  bd88f55c-4046-41ad-8b63-70b6a9e25121   \n",
       "4  2019-10-13T09:25:36+09:00  failure  bd88f55c-4046-41ad-8b63-70b6a9e25121   \n",
       "\n",
       "                                inspector  \\\n",
       "0  {b1af665e-b6f9-4b17-82fd-cc5c5421a632}   \n",
       "1  {c2cf64b2-8534-4ab5-a883-a1d3410afdba}   \n",
       "2  {b1af665e-b6f9-4b17-82fd-cc5c5421a632}   \n",
       "3  {b1af665e-b6f9-4b17-82fd-cc5c5421a632}   \n",
       "4  {5d4b121c-d331-4c64-8811-524a38e3e31b}   \n",
       "\n",
       "                             project_id schedule_state  reliability  \\\n",
       "0  4ff5f94d-694d-420e-b7d6-0ccad18eb1f1         queued            0   \n",
       "1  4ff5f94d-694d-420e-b7d6-0ccad18eb1f1         queued            0   \n",
       "2  4ff5f94d-694d-420e-b7d6-0ccad18eb1f1         queued            0   \n",
       "3  4ff5f94d-694d-420e-b7d6-0ccad18eb1f1         queued            0   \n",
       "4  4ff5f94d-694d-420e-b7d6-0ccad18eb1f1         queued            0   \n",
       "\n",
       "   inspector_count  \n",
       "0                1  \n",
       "1                1  \n",
       "2                1  \n",
       "3                1  \n",
       "4                1  "
      ]
     },
     "metadata": {},
     "output_type": "display_data"
    }
   ],
   "source": [
    "display(data.head())"
   ]
  },
  {
   "cell_type": "code",
   "execution_count": 65,
   "metadata": {},
   "outputs": [],
   "source": [
    "ai_user =['9cfbafa3-609c-44a2-bb85-d9408a14e5e5', 'd65f0a4e-7815-4194-a347-2ad0f7841f74']\n",
    "not_ai_user = ['1582fde8-f56c-49a1-8fed-64ff833115cd', '5068ee0b-2372-4c83-b5b0-cb0279e00025', 'bd88f55c-4046-41ad-8b63-70b6a9e25121']\n",
    "total_data = pd.DataFrame({},\\\n",
    "                    columns=['id', 'no', 'prob', 'human_label', 'human_len', 'ai_label', 'ai_len', 'crop_time', 'image_time', 'similarity', 'correct', 'use_ai'])"
   ]
  },
  {
   "cell_type": "code",
   "execution_count": 66,
   "metadata": {},
   "outputs": [
    {
     "data": {
      "text/plain": [
       "(0, 12)"
      ]
     },
     "execution_count": 66,
     "metadata": {},
     "output_type": "execute_result"
    }
   ],
   "source": [
    "total_data.shape"
   ]
  },
  {
   "cell_type": "code",
   "execution_count": 86,
   "metadata": {},
   "outputs": [],
   "source": [
    "index = 0\n",
    "for i in data.index:\n",
    "    meta_dict = json.loads(data.loc[i].payload)\n",
    "\n",
    "    sum_crop_time = 0\n",
    "    for image_data in meta_dict['meta']['crop_image']:\n",
    "        sum_crop_time += image_data['region_attributes']['crop_time']\n",
    "    \n",
    "    for image_data in meta_dict['meta']['crop_image']:\n",
    "        if len(image_data['region_attributes']['label']) == 0:\n",
    "            continue\n",
    "        row = dict()\n",
    "        \n",
    "        row['id'] = data.loc[i].id\n",
    "        row['no'] = image_data['shape_attributes']['id']\n",
    "        row['prob'] = image_data['region_attributes']['prob']\n",
    "        row['human_label'] = image_data['region_attributes']['label']\n",
    "        row['human_len'] = int(len(image_data['region_attributes']['label']))\n",
    "        row['ai_label'] = image_data['region_attributes']['ai_label']\n",
    "        row['ai_len'] = int(len(image_data['region_attributes']['ai_label']))\n",
    "        row['crop_time'] = image_data['region_attributes']['crop_time']\n",
    "        row['image_time'] = image_data['region_attributes']['image_time'] \\\n",
    "                            *(row['crop_time'] / sum_crop_time)\n",
    "        row['similarity'] = image_data['region_attributes']['similarity']\n",
    "        row['correct'] = int(image_data['correct'][-1])\n",
    "        \n",
    "        if data.loc[i].creator_id in ai_user:\n",
    "            row['use_ai'] = 1\n",
    "        elif data.loc[i].creator_id in not_ai_user:\n",
    "            row['use_ai'] = 0\n",
    "        else:\n",
    "            row['use_ai'] = None\n",
    "            \n",
    "        total_data.loc[index] = row\n",
    "        index+=1"
   ]
  },
  {
   "cell_type": "code",
   "execution_count": 97,
   "metadata": {},
   "outputs": [],
   "source": [
    "ai_user =['9cfbafa3-609c-44a2-bb85-d9408a14e5e5', 'd65f0a4e-7815-4194-a347-2ad0f7841f74']\n",
    "not_ai_user = ['1582fde8-f56c-49a1-8fed-64ff833115cd', '5068ee0b-2372-4c83-b5b0-cb0279e00025', 'bd88f55c-4046-41ad-8b63-70b6a9e25121']\n",
    "\n",
    "image_ai_user = pd.DataFrame({}, columns=['use_ai'])\n",
    "image_not_ai_user = pd.DataFrame({}, columns=['use_ai'])\n",
    "\n",
    "ai_index = 0\n",
    "not_ai_index = 0\n",
    "\n",
    "for i in data.index:\n",
    "    if data.loc[i].creator_id in ai_user:\n",
    "        image_ai_user.loc[ai_index] = 1\n",
    "        ai_index += 1\n",
    "    elif data.loc[i].creator_id in not_ai_user:\n",
    "        image_not_ai_user.loc[not_ai_index] = 0\n",
    "        not_ai_index += 1"
   ]
  },
  {
   "cell_type": "code",
   "execution_count": 89,
   "metadata": {},
   "outputs": [
    {
     "data": {
      "text/plain": [
       "id             3759\n",
       "no             3759\n",
       "prob           3759\n",
       "human_label    3759\n",
       "human_len      3759\n",
       "ai_label       3759\n",
       "ai_len         3759\n",
       "crop_time      3759\n",
       "image_time     3759\n",
       "similarity     3759\n",
       "correct        3759\n",
       "use_ai         3107\n",
       "dtype: int64"
      ]
     },
     "execution_count": 89,
     "metadata": {},
     "output_type": "execute_result"
    }
   ],
   "source": [
    "total_data.count()"
   ]
  },
  {
   "cell_type": "code",
   "execution_count": 69,
   "metadata": {},
   "outputs": [],
   "source": [
    "total_data['use_ai'] = total_data.apply(lambda row: 1 if row.use_ai == 1 else 0, axis=1)"
   ]
  },
  {
   "cell_type": "code",
   "execution_count": 90,
   "metadata": {},
   "outputs": [],
   "source": [
    "ai_group = total_data[total_data.use_ai == 1]['use_ai']\n",
    "not_ai_group = total_data[total_data.use_ai == 0]['use_ai']"
   ]
  },
  {
   "cell_type": "code",
   "execution_count": 91,
   "metadata": {},
   "outputs": [
    {
     "data": {
      "text/plain": [
       "1267"
      ]
     },
     "execution_count": 91,
     "metadata": {},
     "output_type": "execute_result"
    }
   ],
   "source": [
    "ai_group.count()"
   ]
  },
  {
   "cell_type": "code",
   "execution_count": 92,
   "metadata": {},
   "outputs": [
    {
     "data": {
      "text/plain": [
       "1839"
      ]
     },
     "execution_count": 92,
     "metadata": {},
     "output_type": "execute_result"
    }
   ],
   "source": [
    "not_ai_group.count()"
   ]
  },
  {
   "cell_type": "code",
   "execution_count": 85,
   "metadata": {},
   "outputs": [
    {
     "data": {
      "image/png": "[encoded data removed]",
      "text/plain": [
       "<Figure size 432x288 with 1 Axes>"
      ]
     },
     "metadata": {
      "needs_background": "light"
     },
     "output_type": "display_data"
    }
   ],
   "source": [
    "plt.bar(ai_group, ai_group.count(), width=0.4)\n",
    "plt.show()"
   ]
  },
  {
   "cell_type": "code",
   "execution_count": 95,
   "metadata": {},
   "outputs": [
    {
     "data": {
      "text/plain": [
       "Text(0.5, 1.0, 'Comparison between ai_user and non_ai_user')"
      ]
     },
     "execution_count": 95,
     "metadata": {},
     "output_type": "execute_result"
    },
    {
     "data": {
      "image/png": "[encoded data removed]",
      "text/plain": [
       "<Figure size 432x288 with 1 Axes>"
      ]
     },
     "metadata": {
      "needs_background": "light"
     },
     "output_type": "display_data"
    }
   ],
   "source": [
    "ax = plt.subplot()\n",
    "plt.bar(ai_group, ai_group.count()/ 2, width=0.4)\n",
    "plt.bar(not_ai_group, not_ai_group.count()/ 3, width=0.4)\n",
    "ax.set_xticks(range(2))\n",
    "ax.set_xticklabels(['Human with AI', 'Human'])\n",
    "plt.ylabel('Crop Count')\n",
    "plt.title('Comparison between ai_user and non_ai_user')"
   ]
  },
  {
   "cell_type": "code",
   "execution_count": 94,
   "metadata": {},
   "outputs": [
    {
     "data": {
      "text/plain": [
       "1267"
      ]
     },
     "execution_count": 94,
     "metadata": {},
     "output_type": "execute_result"
    }
   ],
   "source": [
    "ai_group.count()"
   ]
  },
  {
   "cell_type": "code",
   "execution_count": null,
   "metadata": {},
   "outputs": [],
   "source": []
  },
  {
   "cell_type": "code",
   "execution_count": 100,
   "metadata": {},
   "outputs": [
    {
     "data": {
      "text/plain": [
       "Text(0.5, 1.0, 'Comparison between ai_user and non_ai_user')"
      ]
     },
     "execution_count": 100,
     "metadata": {},
     "output_type": "execute_result"
    },
    {
     "data": {
      "image/png": "[encoded data removed]",
      "text/plain": [
       "<Figure size 432x288 with 1 Axes>"
      ]
     },
     "metadata": {
      "needs_background": "light"
     },
     "output_type": "display_data"
    }
   ],
   "source": [
    "ax = plt.subplot()\n",
    "plt.bar(image_not_ai_user.use_ai, image_not_ai_user.use_ai.count()/ 3, width=0.4)\n",
    "plt.bar(image_ai_user.use_ai, image_ai_user.use_ai.count() / 2, width=0.4)\n",
    "ax.set_xticks(range(2))\n",
    "ax.set_xticklabels(['Human', 'Human with AI'])\n",
    "plt.ylabel('Image Count')\n",
    "plt.title('Comparison between ai_user and non_ai_user')"
   ]
  },
  {
   "cell_type": "code",
   "execution_count": 104,
   "metadata": {},
   "outputs": [
    {
     "data": {
      "text/plain": [
       "104.66666666666667"
      ]
     },
     "execution_count": 104,
     "metadata": {},
     "output_type": "execute_result"
    }
   ],
   "source": [
    "len(image_not_ai_user) / 3"
   ]
  },
  {
   "cell_type": "code",
   "execution_count": 105,
   "metadata": {},
   "outputs": [
    {
     "data": {
      "text/plain": [
       "125.0"
      ]
     },
     "execution_count": 105,
     "metadata": {},
     "output_type": "execute_result"
    }
   ],
   "source": [
    "len(image_ai_user) / 2"
   ]
  },
  {
   "cell_type": "code",
   "execution_count": 103,
   "metadata": {},
   "outputs": [
    {
     "data": {
      "text/plain": [
       "0.7961783439490446"
      ]
     },
     "execution_count": 103,
     "metadata": {},
     "output_type": "execute_result"
    }
   ],
   "source": [
    "image_ai_user.use_ai.count() / image_not_ai_user.use_ai.count()"
   ]
  },
  {
   "cell_type": "code",
   "execution_count": null,
   "metadata": {},
   "outputs": [],
   "source": []
  },
  {
   "cell_type": "code",
   "execution_count": 37,
   "metadata": {},
   "outputs": [
    {
     "ename": "TypeError",
     "evalue": "<lambda>() got an unexpected keyword argument 'axis'",
     "output_type": "error",
     "traceback": [
      "\u001b[1;31m---------------------------------------------------------------------------\u001b[0m",
      "\u001b[1;31mTypeError\u001b[0m                                 Traceback (most recent call last)",
      "\u001b[1;32m<ipython-input-37-cd854fc61def>\u001b[0m in \u001b[0;36m<module>\u001b[1;34m\u001b[0m\n\u001b[1;32m----> 1\u001b[1;33m \u001b[0musers_group_ai\u001b[0m\u001b[1;33m.\u001b[0m\u001b[0muse_ai\u001b[0m \u001b[1;33m=\u001b[0m \u001b[0musers_group_ai\u001b[0m\u001b[1;33m.\u001b[0m\u001b[0mapply\u001b[0m\u001b[1;33m(\u001b[0m\u001b[1;32mlambda\u001b[0m \u001b[0mrow\u001b[0m\u001b[1;33m:\u001b[0m \u001b[1;36m1\u001b[0m \u001b[1;32mif\u001b[0m \u001b[0mrow\u001b[0m\u001b[1;33m.\u001b[0m\u001b[0muse_ai\u001b[0m  \u001b[1;32melse\u001b[0m \u001b[1;36m0\u001b[0m\u001b[1;33m,\u001b[0m \u001b[0maxis\u001b[0m\u001b[1;33m=\u001b[0m\u001b[1;36m1\u001b[0m\u001b[1;33m)\u001b[0m\u001b[1;33m\u001b[0m\u001b[1;33m\u001b[0m\u001b[0m\n\u001b[0m",
      "\u001b[1;32m~\\Anaconda3\\lib\\site-packages\\pandas\\core\\series.py\u001b[0m in \u001b[0;36mapply\u001b[1;34m(self, func, convert_dtype, args, **kwds)\u001b[0m\n\u001b[0;32m   4040\u001b[0m             \u001b[1;32melse\u001b[0m\u001b[1;33m:\u001b[0m\u001b[1;33m\u001b[0m\u001b[1;33m\u001b[0m\u001b[0m\n\u001b[0;32m   4041\u001b[0m                 \u001b[0mvalues\u001b[0m \u001b[1;33m=\u001b[0m \u001b[0mself\u001b[0m\u001b[1;33m.\u001b[0m\u001b[0mastype\u001b[0m\u001b[1;33m(\u001b[0m\u001b[0mobject\u001b[0m\u001b[1;33m)\u001b[0m\u001b[1;33m.\u001b[0m\u001b[0mvalues\u001b[0m\u001b[1;33m\u001b[0m\u001b[1;33m\u001b[0m\u001b[0m\n\u001b[1;32m-> 4042\u001b[1;33m                 \u001b[0mmapped\u001b[0m \u001b[1;33m=\u001b[0m \u001b[0mlib\u001b[0m\u001b[1;33m.\u001b[0m\u001b[0mmap_infer\u001b[0m\u001b[1;33m(\u001b[0m\u001b[0mvalues\u001b[0m\u001b[1;33m,\u001b[0m \u001b[0mf\u001b[0m\u001b[1;33m,\u001b[0m \u001b[0mconvert\u001b[0m\u001b[1;33m=\u001b[0m\u001b[0mconvert_dtype\u001b[0m\u001b[1;33m)\u001b[0m\u001b[1;33m\u001b[0m\u001b[1;33m\u001b[0m\u001b[0m\n\u001b[0m\u001b[0;32m   4043\u001b[0m \u001b[1;33m\u001b[0m\u001b[0m\n\u001b[0;32m   4044\u001b[0m         \u001b[1;32mif\u001b[0m \u001b[0mlen\u001b[0m\u001b[1;33m(\u001b[0m\u001b[0mmapped\u001b[0m\u001b[1;33m)\u001b[0m \u001b[1;32mand\u001b[0m \u001b[0misinstance\u001b[0m\u001b[1;33m(\u001b[0m\u001b[0mmapped\u001b[0m\u001b[1;33m[\u001b[0m\u001b[1;36m0\u001b[0m\u001b[1;33m]\u001b[0m\u001b[1;33m,\u001b[0m \u001b[0mSeries\u001b[0m\u001b[1;33m)\u001b[0m\u001b[1;33m:\u001b[0m\u001b[1;33m\u001b[0m\u001b[1;33m\u001b[0m\u001b[0m\n",
      "\u001b[1;32mpandas\\_libs\\lib.pyx\u001b[0m in \u001b[0;36mpandas._libs.lib.map_infer\u001b[1;34m()\u001b[0m\n",
      "\u001b[1;32m~\\Anaconda3\\lib\\site-packages\\pandas\\core\\series.py\u001b[0m in \u001b[0;36mf\u001b[1;34m(x)\u001b[0m\n\u001b[0;32m   4026\u001b[0m \u001b[1;33m\u001b[0m\u001b[0m\n\u001b[0;32m   4027\u001b[0m             \u001b[1;32mdef\u001b[0m \u001b[0mf\u001b[0m\u001b[1;33m(\u001b[0m\u001b[0mx\u001b[0m\u001b[1;33m)\u001b[0m\u001b[1;33m:\u001b[0m\u001b[1;33m\u001b[0m\u001b[1;33m\u001b[0m\u001b[0m\n\u001b[1;32m-> 4028\u001b[1;33m                 \u001b[1;32mreturn\u001b[0m \u001b[0mfunc\u001b[0m\u001b[1;33m(\u001b[0m\u001b[0mx\u001b[0m\u001b[1;33m,\u001b[0m \u001b[1;33m*\u001b[0m\u001b[0margs\u001b[0m\u001b[1;33m,\u001b[0m \u001b[1;33m**\u001b[0m\u001b[0mkwds\u001b[0m\u001b[1;33m)\u001b[0m\u001b[1;33m\u001b[0m\u001b[1;33m\u001b[0m\u001b[0m\n\u001b[0m\u001b[0;32m   4029\u001b[0m \u001b[1;33m\u001b[0m\u001b[0m\n\u001b[0;32m   4030\u001b[0m         \u001b[1;32melse\u001b[0m\u001b[1;33m:\u001b[0m\u001b[1;33m\u001b[0m\u001b[1;33m\u001b[0m\u001b[0m\n",
      "\u001b[1;31mTypeError\u001b[0m: <lambda>() got an unexpected keyword argument 'axis'"
     ]
    }
   ],
   "source": [
    "users_group_ai.use_ai = users_group_ai.apply(lambda row: 1 if row.use_ai  else 0, axis=1)"
   ]
  },
  {
   "cell_type": "code",
   "execution_count": 62,
   "metadata": {},
   "outputs": [],
   "source": [
    "features = total_data[['prob', 'human_len', 'ai_len', 'crop_time', 'image_time', 'similarity']]\n",
    "labels = total_data.correct * (-1)"
   ]
  },
  {
   "cell_type": "code",
   "execution_count": 63,
   "metadata": {},
   "outputs": [
    {
     "data": {
      "image/png": "[encoded data removed]",
      "text/plain": [
       "<Figure size 1152x576 with 6 Axes>"
      ]
     },
     "metadata": {
      "needs_background": "light"
     },
     "output_type": "display_data"
    }
   ],
   "source": [
    "fig, ax = plt.subplots(1, 6, figsize=(16,8))\n",
    "\n",
    "for i, col in enumerate(features.columns):\n",
    "    features[col].plot.box(ax=ax[i])"
   ]
  },
  {
   "cell_type": "code",
   "execution_count": 64,
   "metadata": {},
   "outputs": [],
   "source": [
    "total_data = total_data[total_data['human_len'] <= 20]\n",
    "total_data = total_data[total_data['ai_len'] <= 20]\n",
    "total_data = total_data[total_data['crop_time'] <= 10000]\n",
    "total_data = total_data[total_data['image_time'] <= 200000]"
   ]
  },
  {
   "cell_type": "code",
   "execution_count": 65,
   "metadata": {},
   "outputs": [
    {
     "data": {
      "image/png": "[encoded data removed]",
      "text/plain": [
       "<Figure size 1152x576 with 6 Axes>"
      ]
     },
     "metadata": {
      "needs_background": "light"
     },
     "output_type": "display_data"
    }
   ],
   "source": [
    "fig, ax = plt.subplots(1, 6, figsize=(16,8))\n",
    "\n",
    "for i, col in enumerate(features.columns):\n",
    "    features[col].plot.box(ax=ax[i])"
   ]
  },
  {
   "cell_type": "code",
   "execution_count": 74,
   "metadata": {},
   "outputs": [],
   "source": [
    "features = total_data[['prob', 'human_len', 'ai_len', 'crop_time', 'image_time', 'similarity', 'correct']]"
   ]
  },
  {
   "cell_type": "code",
   "execution_count": 67,
   "metadata": {},
   "outputs": [],
   "source": [
    "robust = RobustScaler()\n",
    "total_data[['prob', 'human_len', 'ai_len', 'crop_time', 'image_time', 'similarity']] =\\\n",
    "robust.fit_transform(total_data[['prob', 'human_len', 'ai_len', 'crop_time', 'image_time', 'similarity']])"
   ]
  },
  {
   "cell_type": "code",
   "execution_count": 75,
   "metadata": {},
   "outputs": [
    {
     "data": {
      "text/html": [
       "<div>\n",
       "<style scoped>\n",
       "    .dataframe tbody tr th:only-of-type {\n",
       "        vertical-align: middle;\n",
       "    }\n",
       "\n",
       "    .dataframe tbody tr th {\n",
       "        vertical-align: top;\n",
       "    }\n",
       "\n",
       "    .dataframe thead th {\n",
       "        text-align: right;\n",
       "    }\n",
       "</style>\n",
       "<table border=\"1\" class=\"dataframe\">\n",
       "  <thead>\n",
       "    <tr style=\"text-align: right;\">\n",
       "      <th></th>\n",
       "      <th>prob</th>\n",
       "      <th>human_len</th>\n",
       "      <th>ai_len</th>\n",
       "      <th>crop_time</th>\n",
       "      <th>image_time</th>\n",
       "      <th>similarity</th>\n",
       "      <th>correct</th>\n",
       "    </tr>\n",
       "  </thead>\n",
       "  <tbody>\n",
       "    <tr>\n",
       "      <td>0</td>\n",
       "      <td>0.212430</td>\n",
       "      <td>0.333333</td>\n",
       "      <td>0.4</td>\n",
       "      <td>-0.234585</td>\n",
       "      <td>0.060377</td>\n",
       "      <td>0.121693</td>\n",
       "      <td>0</td>\n",
       "    </tr>\n",
       "    <tr>\n",
       "      <td>1</td>\n",
       "      <td>0.120580</td>\n",
       "      <td>0.666667</td>\n",
       "      <td>0.6</td>\n",
       "      <td>0.202693</td>\n",
       "      <td>0.547058</td>\n",
       "      <td>0.000000</td>\n",
       "      <td>0</td>\n",
       "    </tr>\n",
       "    <tr>\n",
       "      <td>2</td>\n",
       "      <td>-2.564091</td>\n",
       "      <td>-0.166667</td>\n",
       "      <td>-0.2</td>\n",
       "      <td>-0.391212</td>\n",
       "      <td>-0.113945</td>\n",
       "      <td>-2.433862</td>\n",
       "      <td>0</td>\n",
       "    </tr>\n",
       "    <tr>\n",
       "      <td>3</td>\n",
       "      <td>-3.461459</td>\n",
       "      <td>0.666667</td>\n",
       "      <td>0.4</td>\n",
       "      <td>-0.076541</td>\n",
       "      <td>0.236276</td>\n",
       "      <td>-1.156085</td>\n",
       "      <td>0</td>\n",
       "    </tr>\n",
       "    <tr>\n",
       "      <td>4</td>\n",
       "      <td>0.212919</td>\n",
       "      <td>0.000000</td>\n",
       "      <td>0.0</td>\n",
       "      <td>0.746988</td>\n",
       "      <td>0.667587</td>\n",
       "      <td>0.121693</td>\n",
       "      <td>1</td>\n",
       "    </tr>\n",
       "    <tr>\n",
       "      <td>...</td>\n",
       "      <td>...</td>\n",
       "      <td>...</td>\n",
       "      <td>...</td>\n",
       "      <td>...</td>\n",
       "      <td>...</td>\n",
       "      <td>...</td>\n",
       "      <td>...</td>\n",
       "    </tr>\n",
       "    <tr>\n",
       "      <td>4518</td>\n",
       "      <td>-1.848566</td>\n",
       "      <td>0.500000</td>\n",
       "      <td>0.4</td>\n",
       "      <td>0.448618</td>\n",
       "      <td>0.824878</td>\n",
       "      <td>-1.895851</td>\n",
       "      <td>1</td>\n",
       "    </tr>\n",
       "    <tr>\n",
       "      <td>4519</td>\n",
       "      <td>-2.553145</td>\n",
       "      <td>1.833333</td>\n",
       "      <td>1.2</td>\n",
       "      <td>-0.239546</td>\n",
       "      <td>0.057326</td>\n",
       "      <td>-0.785117</td>\n",
       "      <td>1</td>\n",
       "    </tr>\n",
       "    <tr>\n",
       "      <td>4520</td>\n",
       "      <td>-2.187825</td>\n",
       "      <td>1.833333</td>\n",
       "      <td>1.6</td>\n",
       "      <td>-0.150957</td>\n",
       "      <td>0.156135</td>\n",
       "      <td>-2.433862</td>\n",
       "      <td>1</td>\n",
       "    </tr>\n",
       "    <tr>\n",
       "      <td>4521</td>\n",
       "      <td>-0.537705</td>\n",
       "      <td>1.166667</td>\n",
       "      <td>1.2</td>\n",
       "      <td>-0.564139</td>\n",
       "      <td>-0.304712</td>\n",
       "      <td>-0.162257</td>\n",
       "      <td>1</td>\n",
       "    </tr>\n",
       "    <tr>\n",
       "      <td>4522</td>\n",
       "      <td>-4.040232</td>\n",
       "      <td>2.000000</td>\n",
       "      <td>1.6</td>\n",
       "      <td>-0.581857</td>\n",
       "      <td>-0.324474</td>\n",
       "      <td>-1.832555</td>\n",
       "      <td>0</td>\n",
       "    </tr>\n",
       "  </tbody>\n",
       "</table>\n",
       "<p>4265 rows × 7 columns</p>\n",
       "</div>"
      ],
      "text/plain": [
       "          prob  human_len  ai_len  crop_time  image_time  similarity correct\n",
       "0     0.212430   0.333333     0.4  -0.234585    0.060377    0.121693       0\n",
       "1     0.120580   0.666667     0.6   0.202693    0.547058    0.000000       0\n",
       "2    -2.564091  -0.166667    -0.2  -0.391212   -0.113945   -2.433862       0\n",
       "3    -3.461459   0.666667     0.4  -0.076541    0.236276   -1.156085       0\n",
       "4     0.212919   0.000000     0.0   0.746988    0.667587    0.121693       1\n",
       "...        ...        ...     ...        ...         ...         ...     ...\n",
       "4518 -1.848566   0.500000     0.4   0.448618    0.824878   -1.895851       1\n",
       "4519 -2.553145   1.833333     1.2  -0.239546    0.057326   -0.785117       1\n",
       "4520 -2.187825   1.833333     1.6  -0.150957    0.156135   -2.433862       1\n",
       "4521 -0.537705   1.166667     1.2  -0.564139   -0.304712   -0.162257       1\n",
       "4522 -4.040232   2.000000     1.6  -0.581857   -0.324474   -1.832555       0\n",
       "\n",
       "[4265 rows x 7 columns]"
      ]
     },
     "metadata": {},
     "output_type": "display_data"
    }
   ],
   "source": [
    "display(features)"
   ]
  },
  {
   "cell_type": "code",
   "execution_count": 76,
   "metadata": {},
   "outputs": [
    {
     "name": "stderr",
     "output_type": "stream",
     "text": [
      "C:\\Users\\user\\Anaconda3\\lib\\site-packages\\ipykernel_launcher.py:1: SettingWithCopyWarning: \n",
      "A value is trying to be set on a copy of a slice from a DataFrame.\n",
      "Try using .loc[row_indexer,col_indexer] = value instead\n",
      "\n",
      "See the caveats in the documentation: http://pandas.pydata.org/pandas-docs/stable/user_guide/indexing.html#returning-a-view-versus-a-copy\n",
      "  \"\"\"Entry point for launching an IPython kernel.\n"
     ]
    }
   ],
   "source": [
    "features['correct'] = features.apply(lambda x: 0 if x.correct > 0.5 else 1, axis=1)"
   ]
  },
  {
   "cell_type": "code",
   "execution_count": 79,
   "metadata": {},
   "outputs": [
    {
     "data": {
      "text/html": [
       "<div>\n",
       "<style scoped>\n",
       "    .dataframe tbody tr th:only-of-type {\n",
       "        vertical-align: middle;\n",
       "    }\n",
       "\n",
       "    .dataframe tbody tr th {\n",
       "        vertical-align: top;\n",
       "    }\n",
       "\n",
       "    .dataframe thead th {\n",
       "        text-align: right;\n",
       "    }\n",
       "</style>\n",
       "<table border=\"1\" class=\"dataframe\">\n",
       "  <thead>\n",
       "    <tr style=\"text-align: right;\">\n",
       "      <th></th>\n",
       "      <th>prob</th>\n",
       "      <th>human_len</th>\n",
       "      <th>ai_len</th>\n",
       "      <th>crop_time</th>\n",
       "      <th>image_time</th>\n",
       "      <th>similarity</th>\n",
       "      <th>correct</th>\n",
       "    </tr>\n",
       "  </thead>\n",
       "  <tbody>\n",
       "    <tr>\n",
       "      <td>0</td>\n",
       "      <td>0.212430</td>\n",
       "      <td>0.333333</td>\n",
       "      <td>0.4</td>\n",
       "      <td>-0.234585</td>\n",
       "      <td>0.060377</td>\n",
       "      <td>0.121693</td>\n",
       "      <td>1</td>\n",
       "    </tr>\n",
       "    <tr>\n",
       "      <td>1</td>\n",
       "      <td>0.120580</td>\n",
       "      <td>0.666667</td>\n",
       "      <td>0.6</td>\n",
       "      <td>0.202693</td>\n",
       "      <td>0.547058</td>\n",
       "      <td>0.000000</td>\n",
       "      <td>1</td>\n",
       "    </tr>\n",
       "    <tr>\n",
       "      <td>2</td>\n",
       "      <td>-2.564091</td>\n",
       "      <td>-0.166667</td>\n",
       "      <td>-0.2</td>\n",
       "      <td>-0.391212</td>\n",
       "      <td>-0.113945</td>\n",
       "      <td>-2.433862</td>\n",
       "      <td>1</td>\n",
       "    </tr>\n",
       "    <tr>\n",
       "      <td>3</td>\n",
       "      <td>-3.461459</td>\n",
       "      <td>0.666667</td>\n",
       "      <td>0.4</td>\n",
       "      <td>-0.076541</td>\n",
       "      <td>0.236276</td>\n",
       "      <td>-1.156085</td>\n",
       "      <td>1</td>\n",
       "    </tr>\n",
       "    <tr>\n",
       "      <td>4</td>\n",
       "      <td>0.212919</td>\n",
       "      <td>0.000000</td>\n",
       "      <td>0.0</td>\n",
       "      <td>0.746988</td>\n",
       "      <td>0.667587</td>\n",
       "      <td>0.121693</td>\n",
       "      <td>0</td>\n",
       "    </tr>\n",
       "  </tbody>\n",
       "</table>\n",
       "</div>"
      ],
      "text/plain": [
       "       prob  human_len  ai_len  crop_time  image_time  similarity  correct\n",
       "0  0.212430   0.333333     0.4  -0.234585    0.060377    0.121693        1\n",
       "1  0.120580   0.666667     0.6   0.202693    0.547058    0.000000        1\n",
       "2 -2.564091  -0.166667    -0.2  -0.391212   -0.113945   -2.433862        1\n",
       "3 -3.461459   0.666667     0.4  -0.076541    0.236276   -1.156085        1\n",
       "4  0.212919   0.000000     0.0   0.746988    0.667587    0.121693        0"
      ]
     },
     "metadata": {},
     "output_type": "display_data"
    }
   ],
   "source": [
    "display(features.head())"
   ]
  },
  {
   "cell_type": "code",
   "execution_count": null,
   "metadata": {},
   "outputs": [],
   "source": []
  },
  {
   "cell_type": "code",
   "execution_count": null,
   "metadata": {},
   "outputs": [],
   "source": []
  },
  {
   "cell_type": "code",
   "execution_count": 80,
   "metadata": {},
   "outputs": [
    {
     "name": "stderr",
     "output_type": "stream",
     "text": [
      "C:\\Users\\user\\Anaconda3\\lib\\site-packages\\ipykernel_launcher.py:7: SettingWithCopyWarning: \n",
      "A value is trying to be set on a copy of a slice from a DataFrame.\n",
      "Try using .loc[row_indexer,col_indexer] = value instead\n",
      "\n",
      "See the caveats in the documentation: http://pandas.pydata.org/pandas-docs/stable/user_guide/indexing.html#returning-a-view-versus-a-copy\n",
      "  import sys\n"
     ]
    }
   ],
   "source": [
    "features['pred'] = features.apply(lambda row:\\\n",
    "                                  -0.0632684200437098 * row.prob +\\\n",
    "                                  -0.263687136584231* row.human_len+\\\n",
    "                                  0.212213502241637* row.ai_len+\\\n",
    "                                  -0.0230254681509159* row.crop_time+\\\n",
    "                                  -0.160075973021105*row.similarity+\\\n",
    "                                  0.0853052747319063, axis=1)"
   ]
  },
  {
   "cell_type": "code",
   "execution_count": 92,
   "metadata": {},
   "outputs": [
    {
     "data": {
      "text/plain": [
       "3850"
      ]
     },
     "execution_count": 92,
     "metadata": {},
     "output_type": "execute_result"
    }
   ],
   "source": [
    "len(features[features.correct == (features.pred > 0.5)])"
   ]
  },
  {
   "cell_type": "code",
   "execution_count": 88,
   "metadata": {},
   "outputs": [
    {
     "data": {
      "text/plain": [
       "0.902696365767878"
      ]
     },
     "execution_count": 88,
     "metadata": {},
     "output_type": "execute_result"
    }
   ],
   "source": [
    "len(features[features.correct == (features.pred > 0.5)]) / len(features)"
   ]
  },
  {
   "cell_type": "code",
   "execution_count": 93,
   "metadata": {},
   "outputs": [
    {
     "name": "stderr",
     "output_type": "stream",
     "text": [
      "C:\\Users\\user\\Anaconda3\\lib\\site-packages\\ipykernel_launcher.py:8: SettingWithCopyWarning: \n",
      "A value is trying to be set on a copy of a slice from a DataFrame.\n",
      "Try using .loc[row_indexer,col_indexer] = value instead\n",
      "\n",
      "See the caveats in the documentation: http://pandas.pydata.org/pandas-docs/stable/user_guide/indexing.html#returning-a-view-versus-a-copy\n",
      "  \n"
     ]
    }
   ],
   "source": [
    "features['pred2'] = features.apply(lambda row:\\\n",
    "                                  -0.06331 * row.prob +\\\n",
    "                                  -0.26210 * row.human_len+\\\n",
    "                                  0.21149  * row.ai_len+\\\n",
    "                                  -0.01497 * row.crop_time+\\\n",
    "                                   -0.01099 * row.image_time+\\\n",
    "                                  -0.15965  *row.similarity+\\\n",
    "                                  0.08638, axis=1)"
   ]
  },
  {
   "cell_type": "code",
   "execution_count": 95,
   "metadata": {},
   "outputs": [
    {
     "data": {
      "text/plain": [
       "3852"
      ]
     },
     "execution_count": 95,
     "metadata": {},
     "output_type": "execute_result"
    }
   ],
   "source": [
    "len(features[features.correct == (features.pred2 > 0.5)])"
   ]
  },
  {
   "cell_type": "code",
   "execution_count": 101,
   "metadata": {},
   "outputs": [
    {
     "data": {
      "text/plain": [
       "0.9031652989449004"
      ]
     },
     "execution_count": 101,
     "metadata": {},
     "output_type": "execute_result"
    }
   ],
   "source": [
    "len(features[features.correct == (features.pred2 > 0.5)]) / len(features)"
   ]
  },
  {
   "cell_type": "code",
   "execution_count": 94,
   "metadata": {},
   "outputs": [
    {
     "data": {
      "text/html": [
       "<div>\n",
       "<style scoped>\n",
       "    .dataframe tbody tr th:only-of-type {\n",
       "        vertical-align: middle;\n",
       "    }\n",
       "\n",
       "    .dataframe tbody tr th {\n",
       "        vertical-align: top;\n",
       "    }\n",
       "\n",
       "    .dataframe thead th {\n",
       "        text-align: right;\n",
       "    }\n",
       "</style>\n",
       "<table border=\"1\" class=\"dataframe\">\n",
       "  <thead>\n",
       "    <tr style=\"text-align: right;\">\n",
       "      <th></th>\n",
       "      <th>prob</th>\n",
       "      <th>human_len</th>\n",
       "      <th>ai_len</th>\n",
       "      <th>crop_time</th>\n",
       "      <th>image_time</th>\n",
       "      <th>similarity</th>\n",
       "      <th>correct</th>\n",
       "      <th>pred</th>\n",
       "      <th>pred2</th>\n",
       "    </tr>\n",
       "  </thead>\n",
       "  <tbody>\n",
       "    <tr>\n",
       "      <td>0</td>\n",
       "      <td>0.212430</td>\n",
       "      <td>0.333333</td>\n",
       "      <td>0.4</td>\n",
       "      <td>-0.234585</td>\n",
       "      <td>0.060377</td>\n",
       "      <td>0.121693</td>\n",
       "      <td>1</td>\n",
       "      <td>0.054776</td>\n",
       "      <td>0.053580</td>\n",
       "    </tr>\n",
       "    <tr>\n",
       "      <td>1</td>\n",
       "      <td>0.120580</td>\n",
       "      <td>0.666667</td>\n",
       "      <td>0.6</td>\n",
       "      <td>0.202693</td>\n",
       "      <td>0.547058</td>\n",
       "      <td>0.000000</td>\n",
       "      <td>1</td>\n",
       "      <td>0.024546</td>\n",
       "      <td>0.021860</td>\n",
       "    </tr>\n",
       "    <tr>\n",
       "      <td>2</td>\n",
       "      <td>-2.564091</td>\n",
       "      <td>-0.166667</td>\n",
       "      <td>-0.2</td>\n",
       "      <td>-0.391212</td>\n",
       "      <td>-0.113945</td>\n",
       "      <td>-2.433862</td>\n",
       "      <td>1</td>\n",
       "      <td>0.647647</td>\n",
       "      <td>0.645773</td>\n",
       "    </tr>\n",
       "    <tr>\n",
       "      <td>3</td>\n",
       "      <td>-3.461459</td>\n",
       "      <td>0.666667</td>\n",
       "      <td>0.4</td>\n",
       "      <td>-0.076541</td>\n",
       "      <td>0.236276</td>\n",
       "      <td>-1.156085</td>\n",
       "      <td>1</td>\n",
       "      <td>0.400224</td>\n",
       "      <td>0.398506</td>\n",
       "    </tr>\n",
       "    <tr>\n",
       "      <td>4</td>\n",
       "      <td>0.212919</td>\n",
       "      <td>0.000000</td>\n",
       "      <td>0.0</td>\n",
       "      <td>0.746988</td>\n",
       "      <td>0.667587</td>\n",
       "      <td>0.121693</td>\n",
       "      <td>0</td>\n",
       "      <td>0.035154</td>\n",
       "      <td>0.034953</td>\n",
       "    </tr>\n",
       "    <tr>\n",
       "      <td>...</td>\n",
       "      <td>...</td>\n",
       "      <td>...</td>\n",
       "      <td>...</td>\n",
       "      <td>...</td>\n",
       "      <td>...</td>\n",
       "      <td>...</td>\n",
       "      <td>...</td>\n",
       "      <td>...</td>\n",
       "      <td>...</td>\n",
       "    </tr>\n",
       "    <tr>\n",
       "      <td>4518</td>\n",
       "      <td>-1.848566</td>\n",
       "      <td>0.500000</td>\n",
       "      <td>0.4</td>\n",
       "      <td>0.448618</td>\n",
       "      <td>0.824878</td>\n",
       "      <td>-1.895851</td>\n",
       "      <td>0</td>\n",
       "      <td>0.448453</td>\n",
       "      <td>0.443850</td>\n",
       "    </tr>\n",
       "    <tr>\n",
       "      <td>4519</td>\n",
       "      <td>-2.553145</td>\n",
       "      <td>1.833333</td>\n",
       "      <td>1.2</td>\n",
       "      <td>-0.239546</td>\n",
       "      <td>0.057326</td>\n",
       "      <td>-0.785117</td>\n",
       "      <td>0</td>\n",
       "      <td>0.149263</td>\n",
       "      <td>0.149591</td>\n",
       "    </tr>\n",
       "    <tr>\n",
       "      <td>4520</td>\n",
       "      <td>-2.187825</td>\n",
       "      <td>1.833333</td>\n",
       "      <td>1.6</td>\n",
       "      <td>-0.150957</td>\n",
       "      <td>0.156135</td>\n",
       "      <td>-2.433862</td>\n",
       "      <td>0</td>\n",
       "      <td>0.472919</td>\n",
       "      <td>0.471869</td>\n",
       "    </tr>\n",
       "    <tr>\n",
       "      <td>4521</td>\n",
       "      <td>-0.537705</td>\n",
       "      <td>1.166667</td>\n",
       "      <td>1.2</td>\n",
       "      <td>-0.564139</td>\n",
       "      <td>-0.304712</td>\n",
       "      <td>-0.162257</td>\n",
       "      <td>0</td>\n",
       "      <td>0.105309</td>\n",
       "      <td>0.106125</td>\n",
       "    </tr>\n",
       "    <tr>\n",
       "      <td>4522</td>\n",
       "      <td>-4.040232</td>\n",
       "      <td>2.000000</td>\n",
       "      <td>1.6</td>\n",
       "      <td>-0.581857</td>\n",
       "      <td>-0.324474</td>\n",
       "      <td>-1.832555</td>\n",
       "      <td>1</td>\n",
       "      <td>0.459837</td>\n",
       "      <td>0.461195</td>\n",
       "    </tr>\n",
       "  </tbody>\n",
       "</table>\n",
       "<p>4265 rows × 9 columns</p>\n",
       "</div>"
      ],
      "text/plain": [
       "          prob  human_len  ai_len  crop_time  image_time  similarity  correct  \\\n",
       "0     0.212430   0.333333     0.4  -0.234585    0.060377    0.121693        1   \n",
       "1     0.120580   0.666667     0.6   0.202693    0.547058    0.000000        1   \n",
       "2    -2.564091  -0.166667    -0.2  -0.391212   -0.113945   -2.433862        1   \n",
       "3    -3.461459   0.666667     0.4  -0.076541    0.236276   -1.156085        1   \n",
       "4     0.212919   0.000000     0.0   0.746988    0.667587    0.121693        0   \n",
       "...        ...        ...     ...        ...         ...         ...      ...   \n",
       "4518 -1.848566   0.500000     0.4   0.448618    0.824878   -1.895851        0   \n",
       "4519 -2.553145   1.833333     1.2  -0.239546    0.057326   -0.785117        0   \n",
       "4520 -2.187825   1.833333     1.6  -0.150957    0.156135   -2.433862        0   \n",
       "4521 -0.537705   1.166667     1.2  -0.564139   -0.304712   -0.162257        0   \n",
       "4522 -4.040232   2.000000     1.6  -0.581857   -0.324474   -1.832555        1   \n",
       "\n",
       "          pred     pred2  \n",
       "0     0.054776  0.053580  \n",
       "1     0.024546  0.021860  \n",
       "2     0.647647  0.645773  \n",
       "3     0.400224  0.398506  \n",
       "4     0.035154  0.034953  \n",
       "...        ...       ...  \n",
       "4518  0.448453  0.443850  \n",
       "4519  0.149263  0.149591  \n",
       "4520  0.472919  0.471869  \n",
       "4521  0.105309  0.106125  \n",
       "4522  0.459837  0.461195  \n",
       "\n",
       "[4265 rows x 9 columns]"
      ]
     },
     "metadata": {},
     "output_type": "display_data"
    }
   ],
   "source": [
    "display(features)"
   ]
  },
  {
   "cell_type": "code",
   "execution_count": 90,
   "metadata": {},
   "outputs": [
    {
     "data": {
      "text/plain": [
       "0.7854630715123095"
      ]
     },
     "execution_count": 90,
     "metadata": {},
     "output_type": "execute_result"
    }
   ],
   "source": [
    "(len(features) - sum(features.correct)) / len(features)"
   ]
  },
  {
   "cell_type": "code",
   "execution_count": null,
   "metadata": {},
   "outputs": [],
   "source": []
  },
  {
   "cell_type": "code",
   "execution_count": 77,
   "metadata": {},
   "outputs": [
    {
     "data": {
      "text/plain": [
       "915"
      ]
     },
     "execution_count": 77,
     "metadata": {},
     "output_type": "execute_result"
    }
   ],
   "source": [
    "features.correct.sum()"
   ]
  },
  {
   "cell_type": "code",
   "execution_count": 78,
   "metadata": {},
   "outputs": [],
   "source": [
    "features.to_csv('scaled_check_bic.csv')"
   ]
  },
  {
   "cell_type": "code",
   "execution_count": 32,
   "metadata": {},
   "outputs": [],
   "source": [
    "#total_data.to_csv('data_label.csv')"
   ]
  },
  {
   "cell_type": "code",
   "execution_count": 114,
   "metadata": {},
   "outputs": [],
   "source": [
    "from sklearn.feature_extraction.text import TfidfVectorizer"
   ]
  },
  {
   "cell_type": "code",
   "execution_count": 410,
   "metadata": {},
   "outputs": [],
   "source": [
    "human_tfidf = TfidfVectorizer(token_pattern=\"[\\s\\w'%&^$-`!\\\"]+\", lowercase=False, stop_words='english')\n",
    "ai_tfidf = TfidfVectorizer(token_pattern=\"[\\s\\w'%&^$-`!\\\"]+\",lowercase=False, stop_words='english')"
   ]
  },
  {
   "cell_type": "code",
   "execution_count": 411,
   "metadata": {},
   "outputs": [],
   "source": [
    "human_tfidf_matrix = human_tfidf.fit_transform(total_data.human_label)\n",
    "ai_tfidf_matrix = ai_tfidf.fit_transform(total_data.ai_label)"
   ]
  },
  {
   "cell_type": "code",
   "execution_count": 412,
   "metadata": {},
   "outputs": [
    {
     "name": "stdout",
     "output_type": "stream",
     "text": [
      "(4523, 2776)\n",
      "(4523, 2305)\n",
      "(4523, 2751)\n"
     ]
    }
   ],
   "source": [
    "print(tfidf_matrix.shape)\n",
    "print(human_tfidf_matrix.shape)\n",
    "print(ai_tfidf_matrix.shape)"
   ]
  },
  {
   "cell_type": "code",
   "execution_count": 424,
   "metadata": {
    "scrolled": false
   },
   "outputs": [
    {
     "name": "stdout",
     "output_type": "stream",
     "text": [
      "one\n",
      "one\n",
      "one\n",
      "made\n",
      "or\n",
      "one\n",
      "nothing\n",
      "more\n",
      "the\n"
     ]
    }
   ],
   "source": [
    "wrongs = list()\n",
    "for i in total_data.index:\n",
    "    try:\n",
    "        human_tfidf.get_feature_names().index(total_data.loc[i].human_label)\n",
    "    except:\n",
    "        print(total_data.loc[i].human_label)\n",
    "        wrongs.append(total_data.loc[i].human_label)"
   ]
  },
  {
   "cell_type": "code",
   "execution_count": 429,
   "metadata": {},
   "outputs": [
    {
     "name": "stdout",
     "output_type": "stream",
     "text": [
      "one 3 error\n",
      "one 3 error\n",
      "one 3 error\n",
      "made 4 error\n",
      "or 2 error\n",
      "one 3 error\n",
      "nothing 7 error\n",
      "more 4 error\n",
      "the 3 error\n"
     ]
    }
   ],
   "source": [
    "for wrong in wrongs:\n",
    "    try:\n",
    "        print(human_tfidf.fit(wrong))\n",
    "    except:\n",
    "        print(wrong, len(wrong), \"error\")"
   ]
  },
  {
   "cell_type": "code",
   "execution_count": 414,
   "metadata": {},
   "outputs": [
    {
     "name": "stdout",
     "output_type": "stream",
     "text": [
      "11\n"
     ]
    }
   ],
   "source": [
    "for i in total_data.index:\n",
    "    try:\n",
    "        ai_tfidf.get_feature_names().index(total_data.loc[i].ai_label)\n",
    "    except:\n",
    "        print(i)\n",
    "        break"
   ]
  },
  {
   "cell_type": "code",
   "execution_count": 415,
   "metadata": {
    "scrolled": true
   },
   "outputs": [
    {
     "name": "stdout",
     "output_type": "stream",
     "text": [
      "[' Calbee', ' modern baking', '\"butter-like\" flavored popcorn', '& CREAM', '& Chocolate Chips', '& LESS OIL', '& NON-DAIRY', '& ONION', '& ORGANIC SUGAR', '& Onion', '& PEANUT', '& ROLLED OATS', '& SALTY', '& SOUR CREAM', '& Sea Salt', '& onion', '&-Dark_Chocolate', '&GO!', \"'n\", '- 2 PACK -', '-SEA SALT-', '-VALUE-', '0g', '0g TRANS FAT', '0g Trans Fat', '1', '1.42kg', '1.588kg', '10', '10% Calcium', '100', '100%', '100% ARABICA MEDIUM ROAST', '100% CHEESE...NOTHING ELSE', '100% COLOMBIAN', '100% Natural', '100% Profits to Charity', '100% RDA of Vitamin C', '100% Vitamin C', '100% WHOLE GRAIN', '100%Natural', '100%natural', '100000', '11', '110', '110 Calories', '12', '12 BIG COOKIES', '12 CAKES', '12 energy bars', '12packs', '13', '140', '142g', '14g PROTEIN', '15g PROTEIN', \"16g of whole grain'\", '170', '18 BAGS', '18 Chocolate', '18 Vanilla', '18BARS', '18G', '1g of Fat', '2', '2 Dates', '2 off admission', '2/$1', '20', '20%', '22', '222', '23', '238.5g', '24', '25 COunt', '25 Count', '25% Vitamins A & E', '25% Vitamins A&D', '26 GRAMS OF WHOLE GRAINS PER SERVING', '2PACKS', '3', '3 Egg Whites', '30 PACK', '30% LESS FAT GOOD SOURCE OF FIBER LOW SODIUM', '30% Less Fat', '30% Reduced Fat', '34', '36', '4', '4 COOKIES', '4 Cashews', '40', '40% LESS FAT GOOD SOURCE OF FIBER LOW SODIUM', '45% COCOA/CACAO', '4g', '5', '50%', '50% LESS FAT', '50% LESS FAT GOOD SOURCE OF FIBER LOW SODIUM', '55%', '59c ea.', '5g Whole Grain', '5t', '6', '6 Almonds', '6 CLASSIC BAGS', '6 Chocolate', '6 Vanilla', '60%', '60% CACA0', '64% LESS FAT', '65% LESS FAT', '7', '70 CALORIE', '70 Calories Per Pouch', '75%', '765.4g', '7g PROTEIN', '8', '80', '9', '90', '94% fat free', 'A', 'A CLASSIC', 'A DELICIOUS SNACK', 'A NATURAL TRIP TO PARADISE', 'A NATURAL TRIP TO PARANDISE', 'A Unique Matzo-Style Cracker', 'ACAI BLUEBERRY', 'ACT 2', 'AGED WHITE', 'AIR POPPED', 'ALL', 'ALL NATURAL', 'ALLERGY', 'ALLEY', 'ALMOND', 'ALMOND BUTTER', 'ALMOND CRUSH', 'ALMOND THIN COOKIES', 'ALMOND THINS', 'ALMONDS', 'ALMONS', \"AMERICA'S FAVORITE POPCORN BRAND\", 'ANCIENT', 'AND TEXTURE', 'ANDCCCOA', 'ANGIES', 'ANNAS', 'APPLE QUINOA', 'APRICOTS', 'ARABICA COFFEE', 'ARISAN BUTCHER', 'ARNOTTS', 'ARTIFICIAL', 'ARTIFICIAL FLAVOR', 'ARTIFICIAL SOURCES', 'ARTIFICIALLY FLAVORED', 'ASSORTED', 'ASSORTED FRUIT', 'ATKINS', 'AUCASON', 'AUGASON', 'AUTHENTIC BAKED', 'AUTHENTIC ITALIAN', 'AVENGERS', 'Above', 'Acai & Blueberry', 'Accoutnements', 'Added', 'Ahoy', 'All', 'All Natural', 'Almond', 'Almond Butter', 'Almond Crunch', 'Almond Dark', 'AlmondButter', 'Amazin', \"America's\", \"America's Pretzel Bakery Since 1909\", 'American', 'American Ginengs', 'Amish', 'Animal', \"Annie's\", 'Annies', 'Antioxidants', 'Apple', 'Apple Chips', 'Apple Cinnamon', 'Apple chips', 'AppleSlices', 'Apricot', 'Arabica', 'Archway', 'Aritificially Flavored', 'Artificially Flavored', 'Artificially flavored', 'Artisan', 'Austin', 'Avengers', 'BABY', 'BACKYARD', 'BACON CURLS', 'BAGEL CRISPS', 'BAGS', 'BAKE SHOP', 'BAKED', 'BAKED BITE SIZED SANDWITCH CRACKERS', 'BAKED BITES', 'BAKED CRACKERS', 'BAKED ENERGY SNACK', 'BAKED PRETZEL', 'BAKED SNACKS', 'BAKED WITH', 'BAKERY', 'BAKING', 'BANANA', 'BANANA COCONUT', 'BAR', 'BARBECUE', 'BARBEQUE', 'BARS', 'BAT', 'BBQ', 'BEAR', 'BEEF', 'BEEF JERKY', 'BERRIES', 'BERRY', 'BERRY BLUE', 'BETTER', 'BIG', 'BIG 12 OZ BAG', 'BIGBAG', 'BIOANTA', 'BISCOS', 'BISCUIT STICKS', 'BISCUITS', 'BITE SIZE', 'BITES', 'BITTERSWEET CHOCOLATE', 'BLACK', 'BLACK BEAN', 'BLACK PEPPER', 'BLACKMULBERRIES', 'BLEND', 'BLUE', 'BLUE CORN', 'BLUEBERRIES', 'BLUEBERRY', 'BLUEBERRY BLISS', 'BLUEBERRYMUFFIN', 'BOLD.TENDER', 'BOOM', 'BOURBON', 'BOWL', 'BRAIDED', 'BRAN CRISPBREAD', 'BRAND', 'BREADSTICKS', 'BREADSTICKS & DIP', 'BREAKFAST', 'BREAKSTICKS', 'BRETON', 'BREW', 'BRISKET', 'BRITTLE', 'BROOKSIDE', 'BROTHERS', 'BROWN RICE', 'BROWNIE', 'BROWNIE MIX', 'BROWNSUGAR', 'BUDDHA', 'BULLETPROOF', 'BURSTING', 'BURSTS', 'BUSTELO', 'BUTTER', 'BUTTER FLAVORED COCONUT OIL POPCORN', 'BUTTERBAR', 'BUTTERFLAVORED', 'BUTTERY', 'Backed Crunchy', 'Baked', 'Baked Crackers', 'Baked Crunchy', 'Baked Graham Snacks', 'Baked Snack Crackers', 'Baked with Pride', 'Baked with Toasted Sesame Seeds', 'Baked.Crunchy', 'Bakery', 'Balance', 'Balsamic', 'Banamans', 'Barbecue', 'Barras de Coco', 'Bars', \"Basil's\", 'Bavarian', 'Beach', 'Beggie Metls', 'Belgium 1926', 'Bell Peppers', 'Beneath The Surface', 'Berry', 'Best', \"BettyLou's\", 'Binny Grahams', 'Biscoff', 'Biscotti', 'Biscuits', 'Bites', 'Black Jewell', 'Blueberry', 'Blues', 'Bobs', 'Boscoff', 'Brandt', 'Breadsticks', 'Breakfast Blend', 'Breton', 'Bridgford', 'Brown Rice', 'Brownies', 'Brussels', 'BuMBLE BEE', 'Bubbles', 'Bunny Grahams', 'Butter', 'Butter & Sea Salt', 'Butter Flavored', 'Butter Lovers', 'Butterfinger', 'Buttermilk', 'Buttery Tasting Crackers', 'Buttery Toffee', 'CABAR', 'CACAO', 'CAESAR', 'CAFE', 'CALIFORNIA', 'CALIFORNIA PITTED', 'CALORIE', 'CALORIES', 'CAPE', 'CAPPUCCINO', 'CAPTAIN AMERICA', 'CARACKERS', 'CARAMEL', 'CARAMEL ALMOND & SEA SALT', 'CARAMEL NUT', 'CARAWAY', 'CARB', 'CARCKERS', 'CARIBOU', 'CASHEW', 'CASHEWS', 'CASSAVA', 'CASSAVA FLOUR', 'CENTRAL', 'CERTIFIED ORGANIC', 'CERTO', 'CHEDDAR', 'CHEDDAR CRISPS', 'CHEDDAR RANCH', 'CHEDDIES', 'CHEESE', 'CHEESE CRACKERS', 'CHEESE FLAVORED SNACKS', 'CHEESE MELTS', 'CHEESECAKE', 'CHEESY TACO', 'CHEEZ IT', 'CHEEZ-IT', \"CHEF'S\", 'CHERRIES', 'CHERRY', 'CHERRY BAY', \"CHESTER'S\", 'CHEW BAR', 'CHEWS', 'CHEWY', 'CHEWY BARS', 'CHEWY CHOCOLATE CHIP', 'CHEWY GRANOLA BARS', 'CHEWY TRAIL MIX', 'CHICHARRONES', 'CHICKA', 'CHICKEN JERKY', 'CHICKEN SALAD', 'CHIP', 'CHIPOTLE BBQ', 'CHIPS', 'CHIPS ENLARGED', 'CHIRARDELLI', 'CHOCOLATE', 'CHOCOLATE CARAMEL & PRETZEL', 'CHOCOLATE CHIP', 'CHOCOLATE CHIPS', 'CHOCOLATE COOKIES', 'CHOCOLATE CREAM', 'CHOCOLATE FUDGE', 'CHOCOLATE LOVERS', 'CHOCOLATE PEANUT', 'CHOCOLATE VANILLA CREME', 'CHOCOLATEPEANUT', 'CHOY', 'CHUNK', 'CHUNKS', 'CINNAMON', 'CLASSIC 12 BAGS', 'CLASSIC RICH', 'CLASSICS', 'CLIF', 'CLUB', 'COCONUT', 'COCONUT OIL', 'COCONUT SUGAR', 'COCONUTCHIPS', 'COCONut NATUrAL AND ARTIFICIALLY FLAVORED COOKIES', 'COD', 'COFFEE', 'COFFEE AND CHICORY', 'COFFEE CAKE', 'COFFEE PACKS', 'COFFEE.', 'COFFEEHOUSE', 'COLD', 'COLORS', 'COLORS FROM', 'COLORS FROM NATURAL SOURCES', 'COLORS OR', 'COMPARED TO REGULAR POTATO CHIPS', 'CONES', 'CONTAIN', 'CONTAINS', 'CONTAINS 12 SNACKS', 'CONTAINS PEANUTS', 'CONTENT', 'CONTER', 'CONTERTIONALLY', 'COOKIE', 'COOKIE MIX', 'COOKIE PIECES', 'COOKIE WITH COFFEE', 'COOKIES', \"COOKIES 'N' CREME\", 'COOKIES!', 'COOKS IN SECONDS', 'COOKiE', 'COONTRY CUT', 'CORN', 'CORN & POTATO SNACKS', 'CORN TORTILLA CHIPS', 'COVERED', 'CRACKER', 'CRACKER STICKS', 'CRACKERS', 'CRAFT BAKERS', 'CRAFTED BAKED GOODS', 'CRAKERS', 'CRANBERRIES', 'CREAM', 'CREAM CHEESE', 'CREAMERY', 'CREAMY', 'CREME FILLED', 'CREME FILLED COOKIES', 'CREME FILLING', 'CREMES', 'CRISP', 'CRISPS', 'CRISPY', 'CRISPY COOKIES', 'CRISPY CRUNCH REAL BUTTER', 'CRISPY ROUNDS', 'CRISPY WAFER', 'CRISPYCREAMY', 'CRUNCH', 'CRUNCHIES', 'CRUNCHMASTER', 'CRUNCHY', 'CRUNCHY REAL CHEESE SNACKS', 'CULCE DE TAMARINDO', 'Calbee', 'CaleDamond', 'Calidad', 'CaliforniaChopped', 'Calorie', 'Calorie Snacks', 'Candy', 'Cappuccino', \"Captain's\", 'Captiva', 'Caramel', 'Caramel Corn', 'Caribou', \"Carr's\", 'Cashew', 'Cereal Bars', 'Certified', 'Charms', 'Cheddar', 'Cheddar Cheese', 'Cheddar Squares', 'Cheese', 'Cheese Crackers', 'Cheesecake', 'Cheesy Dip', 'Cheetos', 'Cherries', 'Cherry', 'Chesapeake', 'Chewy', 'Chewy Bars', 'Chewy Granola bars', 'Chewy@ranola.Bars', 'Chip', 'Chips', 'Chips enlarged', 'ChocoPie', 'Chocolate', 'Chocolate Chip', 'Chocolate Creme', 'Chocolate Vanilla', 'Cholesterol Free', 'ChoppedOmious', 'Cinnamon', 'Cinnamon Bun', 'Cioccolati', 'Classic', 'Classic-Roast', 'Coco-Thins', 'Coconstchips', 'Coconut', 'Coconut Butter', 'Coffee', 'Colombian', 'Combos', 'Community', 'Cooies filled with', 'Cookies', 'Cookies filled with', 'Corn', 'Country Ranch', 'Cracker', 'Crackers', 'Craisins', 'Cranberry', 'Creme', 'Cross-CutCellery', 'Crunch', 'Crunchmaster', 'Crunchy', 'Crunchy Banana', 'Crunchy Fuji Apple', 'CrunchyClusters', \"D'ora\", 'DAIRY', 'DAIRY FREE', 'DANSK', 'DARK', 'DARK CHOCOLATE', 'DARK CHOCOLATE NUTS & SEA SALT', 'DARK CHOCOLATE PECAN', 'DARK ROAST', 'DARKCHOCOLATE', 'DATES', 'DEGLETNOUR', 'DELALLO', 'DELI STYLE', 'DELICIOUS', 'DELICIOUSLY CRUNCHY', 'DETOUR', 'DIAMOND', 'DIP', 'DISTINCTIVE', 'DON', 'DONUTS', 'DOUBLE DARK', 'DOUGH', 'DREDCALMYANAFIES', 'DRIED', 'DRIED CRANBERRIES', 'DRIED FRUITS SECHE FTUITS', 'DRIZZLED CRISPS', \"DUKE'S\", 'DUNKIN', 'DYES', 'Danish', 'Dare', 'Dark', 'Dark Chocolate', 'Dark Chocolate & Nut', 'Dark Chocolate,', 'DarkChocolate', 'Dates', 'Deep Grooves', 'Dehydrated', 'Dehydrated Diced Red & Green', 'Dehysdrated', 'Deli-Style', 'Delicious', 'Delicious & Healthy', 'DiPPED', 'DiPPeDPreTzels', 'DiSNEy', 'DicedWINNANS', 'Digestive', 'Digestives', 'Dinosaurs', 'Dipped in cashew & almond butter', 'Dipped in silky smooth', 'Dirt', 'DisnEy', 'Doctor in', 'Dole', 'Dora', 'Doritos', 'Dove', 'Dried', 'EASTMAN', 'EDEN', 'EDINBURGH', 'ENERGIZE', 'ENERGY SNACK', 'EPIC', 'EPITTED', 'EQUAL EXCHANGE', 'ESSENTIALS', \"EUROPE'S FAVORITE\", \"EUROPE'S FAVORTIE\", 'EUROPEAN BISCUITS-BISCUITS EUROPEENS', 'EUROPEAN SNACK', 'EVERYTHING', 'EXTRA', 'EXTRA BUTTER', 'EXTRA VIRGIN', 'Easy storage', 'Egg Yolk', 'Elfin', 'Endulge', 'Enjoy', 'Ensure', 'Espresso', 'Etiqueta', 'Everything', 'Expresso Ground Coffeee', 'Extra', 'FAMILY FARMER OWNED', 'FAMILY OWNED', 'FAMILY RECIPE', 'FAMILY SIZE', 'FAMILY SIZE!', 'FARMHOUSE', 'FARMS', 'FAT FREE', 'FAVAS', 'FIBER', 'FIBERONE\"', 'FIGBAR', 'FIGS', 'FILLED', 'FILLING', 'FINN CRISP', 'FIRE ROASTED', \"FLAMIN'\", 'FLAVORED', 'FLAVORED COATING', 'FLAVORED GREEN PEA CRISPS', 'FLAVORED GREEN PEA CRISPS BAKED', 'FLAVORED POTATO CHIPS', 'FLAVORS', 'FLE', 'FLOUR', 'FOODS', 'FOOT', 'FOR WILD GAME & BEEF', 'FOREST', 'FORMILA', 'FORTUNE COOKIES', 'FRANCISCOS', 'FREE', 'FREE OF TRANS FAT', 'FREEZE-DRIED', 'FRESH PACKS', 'FRESH POPPED', 'FRESHNESS', 'FRETZEL', 'FRIED PORK SKINS', 'FRIENDLY', 'FRIES', 'FROM BOILERS', 'FROM THE MAKERS OF', 'FROZEN', 'FRUIT', 'FRUIT &', 'FRUIT BITES', 'FRUIT BY THE', 'FRUIT CHEWY COOPKIES', 'FRUIT FILLED COOKIES', 'FRUIT FLAVORED SNACKS', 'FRUIT LEATHER', 'FRUIT SQUEEZE', 'FRUITECO', 'FRUITY DUOS', 'FRUITZNUT', 'FRUT BARS', 'FUJI APPLE', 'FULL 45', 'FULLYLOADED', 'Family Size', 'Fasted', 'Fat Free', 'Fat Free Vanilla', 'Fat-Free', 'Fiber Rich', 'Fibre', 'Fig Bar', 'Fig Newmans', 'Filled', 'Flaky', \"Flamin' Hot\", 'Flavored', 'Flavored Filling', 'Flavored Microwave', 'Flavored Potato Chips', 'Flavored Sourdough Hard Pretzel', 'Flavors', 'Flavors or', 'FlipSides', 'Folgers', 'Foodtolive', 'Free', 'Freeze Dried', 'Freeze Dried Fruit', 'FreezeDDied', 'FreezeDried', 'Freezerdried', 'French Roast', 'Friends', 'Fruit', 'Fruit & Grain', 'Fruit CHEWY COOKIES', 'Fruit Chips', 'Fruit Medley', 'Fruit Smiles', 'Fruit chips', 'Fruit is our 1st Ingredient!', \"Fruit'n\", 'FruitBarrels', 'Fruity', 'Fruity Snacks', 'Fudge', 'Fuji & Reds', 'Funyuns', 'G.H.CRETORS', 'GALLETAS SABOR COCO NATURAL Y ARTIFICIAL', 'GARDEN of EATIN', 'GARLIC', 'GARLIC PARMESAN', 'GELATIN DESSERT', 'GELATIN FREE', 'GEVALIA', 'GF', 'GG', 'GHEE!', 'GI', 'GINGER', 'GINGER ZINGER', 'GLUETEN FREE', 'GLUTEN', 'GLUTEN FREE', 'GLUTEN FREE + DELICIOUS', 'GLUTEN FREE TABLE CRACKERS', 'GLUTEN FREE WAFERS', 'GLUTEN-FREE', 'GLUTINO', 'GMO', 'GMO-Free', 'GO', 'GODIVA', 'GOJI', 'GOJIBBERRIES', 'GOLD', 'GONE CRACKERS', 'GOOD', 'GOOD TO THE LAST DROP', \"GOOSHARLL'S\", 'GOUMET POPPING CORN', 'GOURMET', 'GOURMET POPCORN', 'GOURMET POPPING CORN', 'GOYA', \"GRAB 'N'\", 'GRAHAM', 'GRAIN', 'GRAINS', 'GRANOLA', 'GRANOLA BARS', 'GRANOLABARS', 'GRANOLACUPS', 'GRAPE', 'GRAPEHEAD', 'GREAT', 'GREAT NORTHEN', 'GREAT NORTHERN', 'GREEN TEA CREAM', 'GROOT', 'GROOVES', 'GROUND', 'GROUND COFFEE', 'GROUNDCOFFEE', 'GUARANTEED FRESH', 'Gamesa', 'Geneva', 'Gerber', 'Ginger', 'Ginger Snapz', 'GlUTEN', 'Gluten', 'Gluten & Nut free', 'Gluten Free', 'Gluten Free Matzo-Style Squares', 'Gluten-Free', 'Goldenberry', 'Goldfish', 'Good Source of B & E Vitamins', 'Goodsourcedformations', 'Gourmet Popcorn', 'Gourmet White', 'Grab', \"Grab n'Go\", 'Graham Crackers', 'Graham Style Crackers', 'Granola', 'Grasshopper', 'Gratify', 'Great', 'Great for Puddings & Fruit Pies', 'Ground Coffee', 'HABASCO', 'HABISCO', 'HALF NAKED', 'HALF POUND', 'HALLOWEEN', 'HANDCRAFTED', 'HANDi-SNACKS', 'HARVEST', 'HARVEST SNAPS', 'HATCH GREEN CHILE', 'HAWAIIAN', 'HAZELNUT', 'HAZELNUT FLAVOR', 'HELANEMENTERALOURATE', 'HELLO', 'HERBAL', \"HERR'S\", \"HERSHEY'S\", 'HES-ceptionally', 'HICKORY SMOKED', 'HIGH IN', 'HIGH SOURCE OF FIBRE', 'HIMALANIA', 'HIMALAYAN', 'HIMALAYAN GOL2', 'HIMALAYAN PINK', 'HIMALAYAN PINK SALT', 'HOLIDAY', 'HOME GROWN', 'HOME STYLE', 'HOMEGROWN', 'HONEST', 'HONEY & OATS', 'HONEY PEANUT', 'HOT', 'HOT &', 'HOT & SPICY', 'HOT AND SALTED', 'HOT&', 'HOUSE', 'HOUSE OF', 'HUG', 'HULK', 'Handcrafted', 'Happy', 'Harry & David', 'Harvest Wheat', 'Hazelnut', 'Hazelnut Spread', 'Helping you prepare', 'Henl', 'Herb and Garlic', 'Hickory', 'Hint of Olive Oil', 'Honey', 'Honey Brown', 'Honey Grahams', 'Honey Mustard', 'Honey Wheat', 'Hoosier Hill Farm', 'Hot & Spicy', 'HotWHeeLS', 'IMPORTED', 'IN POPCORN', 'IN SHELL', 'INDIANA', 'INDIVIDUALLY', 'INDIVIDUALLY WRAPPED', 'INDULGENCE', 'INFINITY WAR', 'INGREDIENTS', 'INSPIRED BY TRADITIONAL ASIAN CUISINE', 'INSPIRED RECIPES', 'ISLAND', 'ISLAND FRUITS', 'ISRAEL', 'ITALIAN', 'ITALIAN WAFFLE COOKIE', 'IZZE', 'Iced Oatmeal', 'Imported from', 'In Smooth Dark Chocolate', 'Includes', 'Indian', 'Individually', 'Instant Pudding', 'Instant pudding', 'Intermationalizes', \"JACK LINK'S\", 'JACOBS', 'JALAPENO', 'JAMAICAN', \"JAMMIN's\", 'JELL O', 'JELLY BEANS', 'JERKY', 'JERKY CURE', 'JUICY GELS', 'JUMBO', 'JUMBO PACK', 'JUST', 'JUST SEA SALT', 'Jack', 'Jackfruit & Strawberr yChips', 'James & Jellies', 'Jet-Puffed', 'Jif', 'Jolly', 'Juice', 'Juicy', 'Julian', 'Just Grab & Pop!', 'Just the', 'K', 'KAFFE', 'KALE', 'KALE CHIPS', 'KEDEM', 'KETTLE', 'KETTLE CORN', 'KETTLECORN', 'KHONG GUAN', \"KID'S SIZE\", 'KIND', 'KIRKLAND', 'KITCHEN', \"KLEIN'SnNATURAL\", 'KODIAK CAKES', 'KOOL RANCH', 'KOREAN BBQ FLAVOR', 'KRAS', 'KS', 'Kareni', 'Karens', 'Kashi', 'Keebler', 'Keeblerk', 'Keeler', \"Kellogg's\", 'Kelloggo', \"Kelloggo'o\", 'Kelloggs', 'Kelluggs', 'Kellyggs', 'Kernel', 'Kettle Cooked', 'Killugs', 'KitKat', 'Kool-Aid', 'Kraft', 'LA', 'LACATION CONSULTANT RECOMMENDED', 'LACATION COOKIES BITES', \"LAD'S\", 'LANCE', 'LARABAR', 'LATEJULY', 'LEMON', 'LEMON FLAVORED', 'LEMONBAR', 'LENTIL', 'LENTIL BEAN', 'LESS NET CARBS', 'LESS SALT', 'LIGHT & CRISPY TEXTURE', 'LIGHT BUTTER', 'LIGHT RYE', 'LIGHTER TASTE', 'LIGHTLY SALTED', 'LIME', 'LIQUID', 'LITTLE', 'LIVE', 'LOOK!', 'LORNADOONE', 'LOTS OF', 'LOTTE', 'LOVE', 'LOW', 'LOW FAT', \"LOWREY'S\", 'LU', 'LUNA', 'Lance', \"Lay's\", 'Lemon', 'Lemon Burst', 'Lemon flavored wafers', 'Lemon-Lime', 'Lesses Evil', 'Light, Flaky, Buttery', 'Lightly Sweet', 'Linea Clasica', 'Little', 'Little Debbie', 'London', 'Lotus', 'Low Fat!', 'Low Sodium', 'M', 'MACADAMIA', 'MADE', 'MADE IN ITALY', 'MADE REAL CHEESE', 'MADE WITH', 'MADE WITH ORGANIC FLOUR', \"MAJOR DICKASON'S\", 'MALLOW', 'MANGO', 'MANGO CHILE LIME', 'MANGOSLICES', 'MAPLE', 'MARSHMALLOW', \"MARTIN'S\", 'MARVEL', \"MARY'S\", 'MATADOR', 'MATCHA', \"MATT'S MUNCHiES\", \"MATT's MUNCHiES\", 'MATZOS', 'MEATLESS VEGAN JERKY', 'MEDIUMROAST', 'MEDLEY', 'MEGA PACK', 'MEGA PACK 15 BARS', 'MEGA POP', 'MEGAPACK', 'MELBA', 'MI DELICIOUS', 'MICROWAVE', 'MICROWAVE POPCORN', 'MIDDLESWARTH', 'MILK', 'MILK CHOCOLATE', 'MILK CHOCOLATE CHIP', 'MILK CHOCOLATE MACADAMIA', 'MINI', 'MINI CAKES', 'MINIS', 'MISSIONFIGS', 'MIXED FRUIT', 'MOIST', 'MONOS', 'MONTMORENCY', 'MOOSE', 'MORE', 'MORSELS', 'MOTT S', 'MOVIE THEATER', 'MUFFINS', 'MULBERRY', 'MULTI-GRAIN', 'MULTI-SEEDS', 'MUNCH', 'MUNK', 'MURRAY', 'MUSHROOM', \"Mac's\", 'Mackinac', 'Made with REAL Fruit Juice', 'Made with Real', 'Made with meal butter', 'Made with organic grass-fed clarified butter', 'Maid', 'Mango', 'Manischewitz', 'Maria', 'Mariani', 'Mariani.', 'Marshmallows', 'Matzos', 'Maxwell', 'McCafe', \"Mcvitie's\", 'Microwave', 'Milano', 'Minerals', 'Mini', 'Mini Cookies', 'Minis', 'Minute', 'Mixed Berry', 'Montauk', 'Movie Theater-Style Buttery Taste', 'Multigrain', 'Munch', 'Munk', 'Mustard', 'NABISCO', 'NACHO', 'NATUALLY & ARTIFICIALLY FRUIT-FLAVORED SNACKS', 'NATURAL', 'NATURAL CALIFORNIA', 'NATURAL DRIED', 'NATURAL FLAVOR', 'NATURAL FLAVORS', 'NATURAL PECANS', 'NATURALLY', 'NATURALLY & ARTIFICIALLY FLAVORED', 'NATURALLY & ARTIFICIALLY FRUIT-FLAVORED SNACKS', 'NATURALLY AND ARTIFICIALLY FLAVORED', 'NATURALLY FLAVORED', 'NATURALLYFLAVORED', 'NATURALS', 'NATURE VALLEY', 'NATURES', 'NATURES EATS', 'NATUREVALLEV', 'NATUREVALLEY', 'NATURRLY AND ARTIFICIALLY FLAVORED', 'NAUTRAL & ARTIFICIAL FLAVOR', 'NAVITAS', 'NEGRA', 'NET WT. 3/4 OZ. (21.2 g)', 'NEW', 'NEW SIZE', 'NEW!', 'NEWEST EDITION', \"NEWMAN'S OWN\", 'NO', 'NO ARTIFICIAL', 'NO CHOLESTEROL', 'NO COLORS', 'NO Cholesterol', 'NO PRESERVATIVES', 'NO SALT ADDED', 'NO SATURATED FAT', 'NO SODIUM', 'NO SUGAR ADDED', 'NO TRANS FAT', 'NO artificial', 'NO colors', 'NO high fructose', 'NO preservatives', 'NOARTIFICIAL', 'NON', 'NON GMO', 'NON-GMO', \"NONNI'S\", 'NOT A REDUCED CALORIE FOOD', 'NOW WITH', 'NOWMOREREALFRUITING', 'NUGGETS', 'NUT & RICE CRACKER SNACKS', 'NUT BITES', 'NUT-THINGS', 'NUT-THINS', 'NUTRI', 'NUTRITION BAR', 'NUTS', 'Nacho', 'Napolitanke', 'Natierra', 'Natural', 'Natural Butter Flavor', 'Natural and Aritificial Flavored Filling', 'Naturally', 'Naturally and', 'Naturally flavored', 'Naturally flavored With other Natural Flavors', 'Nature valley', 'Naturevalley', 'Nearly Naked', 'Nestle', 'New Look!', \"Newman-0's\", 'Newtons', 'Nilla', 'No Artificial', 'No B.S.', 'No PRESERVATIVES', 'No Preservatives', 'No Sodium', 'No Sugar', 'No artificial flavors', 'Nougat', 'Nuggets', 'Nutrisystem', 'Nuugets', 'OATMEAL', 'OATMEAL MILK CHOCOLATE', 'OATMEAL RAISIN', 'OATS & CHOCOLATE', 'OATS & HONEY', 'OF HANOVER', 'OHMY', 'OLD FASHIONED', 'OLD WISCONSIN', 'OLDE CAPE COD', 'OMPESSUNTERS & Strawberry CHips', 'ON THE GO', 'ON THE RUN!', 'ONE', 'ONE BAG', 'ONION', 'ONLY FRUIT & VEGGIES', 'OPEN ROAD', 'ORAGANIC', 'ORANGE', 'ORCHARDS', 'OREGON', 'OREO', 'ORFANIC', 'ORGANIC', 'ORGANIC FLAX SEED CRACKERS', 'ORGANIC PARMESAN', 'ORGANIC POPCORN', 'ORGANICCHOCOLATE', 'ORGANICS', 'ORIGINAL', 'ORIGINAL FRENCH MARKET COFFEE STAND', 'ORIGINAL SHORTBREAD', 'ORiGiNal', 'OUTDOORS', 'OVALS', 'OYSTER', 'OZ', 'Oatmeal', 'Oatmeal Chocolate Chip Cookies', 'Oatmeal Creme Pies', 'Oats \"n Honey', \"Oats 'n Honey\", \"Oats'n Dark\", \"Oats'n Honey\", 'Oberto', 'Ocean Spray', 'OceanSpray', 'Og', 'Og Trans Fats', 'Old', 'Old Fashioned', 'Old Fashioned Ginger Cookies', \"Oma's Own\", 'One', 'Onion Flavored Rings', 'Only', 'Orange', 'Organic', 'Organic Fruit', 'Organic Popcorn', 'Organicaturish', 'Original', 'Original Blend', 'Original Multi-Grain', 'Original Variety', 'Orinal Multi-Grain', 'Orville', 'Outshine', 'Oven Baked', 'PACK', 'PACKS', 'PALBO FRIENDLY', 'PANDA', 'PANTRY', 'PAPITAS FRITAS', 'PARTY', 'PARTY SIZE', 'PARVE', 'PASSOVER', 'PASTRY', 'PATIENCE', 'PATROL', 'PAW', 'PEANUT BUTTER', 'PEANUT BUTTER CHOCOLATE CHIP', 'PEANUT FREE', 'PEANUTBUTTER', 'PEAS', 'PECAN', 'PECANS', 'PEPPERED', 'PEPPERIDGE FARM', 'PER', 'PER CUP', 'PER PKG', 'PER SERVING', 'PERFORMANCE BAR', 'PERK', 'PERKY', 'PERSERVATIVES', 'PETER', 'PETIT ECOLIER', 'PIECES', 'PIKE', 'PINEAPPLE', 'PINK SALT', 'PIPCORN', 'PITTED', 'PITTED DRIED PLUNS', 'PITTEDIDATES', 'PIXAR', 'PIZZELLE', 'PLACE', 'PLANT BASED', 'POP', 'POP CORN', 'POP SOCKET', 'POPCORN', 'POPPING CORN', 'POPULATION 42', 'PORK PORC', 'PORK RINDS', 'PORK SKINS', 'POST', 'POTATO', 'POTATO CHIPS', 'POTATO CHISPS', 'POTATO CRISPS', 'POTATO SNACK', 'POUCHES', 'PPA', 'PREMIUM', 'PREMIUM BAKING CHIPS', 'PREMIUM FRUIT PECTION', 'PREMIUM JERKY CUTS', 'PREMIUM LIQUID FRUIT PECTIN', 'PREMIUM POPCORN', 'PRESERVATIVES', 'PRETZEL', 'PRETZEL & PEANUT', 'PRETZEL CRACKERS', 'PRETZEL PIECES', 'PRETZEL STICKS', 'PRETZELS', 'PREtZeLS', 'PRODUCE OF SRI LANKA', 'PROJECT VERIFIED', 'PROTEIN', 'PROTEIN BAR', 'PROTEIN BITES', 'PROTEIN COOKIE', 'PRUNES', 'PUDDING', 'PUMPKIN', 'PURE DELICIOUSNESS', 'PURE DELICOUSNESS', 'PURE FRUIT IN EVERY CRUNCH', 'PURE POPPED PERFECTION', 'Pack', 'Packed in the U.S.A', 'Parmesan', 'Party Size!', 'Passion fruit Punch', 'Payait', 'Peanut', 'Peanut & almond', 'Peanut Butter', 'Peanut Butter Fiiled', 'Peanut,Almond', 'PeanutButter', 'Peas', 'Pecan', 'Pecan Shortbread', 'Peets', 'Peices', 'Pejoy', 'Pepper', 'Pepper Jack Cheese', 'Pepperd', 'Pie Filling or Topping', 'Pieces', 'Pineapple', 'Pineapple Chunks', 'Pitted', 'Pizzeria', 'PlainClaramel.00', 'Plums', 'Pocky', \"Pocky's friend\", 'Pokemon', 'Pomegranate flaver', 'Popcoinopolis', 'Popcoionopolis', 'Popcorn', 'Popcorn Grown and', 'Popcorn with Peanuts', 'Popped', 'Pops Pure White!', 'Portions', 'Potato Chips', 'Potato Stix', 'Pouch!', 'Pouches', 'Pouches Inside', 'Premium', 'Premium Quality', 'Preservatives', 'Pretzel', 'Pretzel Crisps', 'Pretzel Sticks', 'Pretzels', 'Primal', 'Pringles', 'Procoliflonessas', 'Product of wisconsin U.S.A', 'Protective', 'Protein', 'Prunes', 'Pudding', 'Puffs', 'Pure', 'Pure Butter', 'Q', 'QUAKER', 'QUALITY SINCE 1933', 'QUINN', 'Quinn', 'RABBIT', 'RAINBOW TROUT JERKY', 'RAISIN', 'RAISINS', 'RANCH', 'RAWORGANIC', 'REAL', 'REAL FRUIT', 'REAL FRUIT JUICE', 'REAL JERKY', 'RED HOT', \"REDEN BACHER'S\", 'REEZE', 'RHYTHM', 'RICE CRACKERS', 'RICH & SWEET', 'RIMA', 'RITZ', 'ROAST', 'ROASTED', 'ROASTED NUT', 'ROASTEDPEANUTS', 'ROCKY MOUNTAIN', 'ROLD', 'ROSE', 'ROUNDS', 'RUFFLES', 'RUFFLES HAVE RRIDGES!', 'RUFFLES HAVE RRRIDGES!', 'RXBAR', 'RYE WITH', 'Raisins', 'Ranch', 'Re-Sealable', 'Real', 'Real Chocolate Chip Cookies', 'Real Fruit Juice', 'Real Fruit, Real Good', 'Real Peanut Butter', 'Real Theater', 'RealCherries', 'Recipe Inside!', 'Red Mill', \"Reden bacher's\", 'Redenbachers', 'Reduced Fat', \"Reese's\", 'Reeses', 'Reko', 'Rethink', 'Rice krispies', 'Rich chocolate', 'Rip Van', 'RipVan', 'Roast', 'Rods', 'Rolls', 'Rounds', 'Rusk', 'Rye', \"S''moreables\", 'SAFERON', 'SALADO Y ENCHILADO', 'SALT&', 'SALTED', 'SALTED CARAMEL', 'SALTINE CRACKERS', 'SAME GREAT', 'SANDWICH COOKIES', 'SANDWICH CRACKERS', 'SANDWICH CREMES', 'SAVORY', 'SCANDINAVIAN', 'SCOOBY-DO!', 'SCOOBY-DOO!', 'SEA SALT', 'SEA SALT & PEPPER', 'SEA SALTED', 'SEASALT', 'SEASONING', 'SEAWEED', 'SECHE', 'SEE Nutrition inFORMAtioN FOR FAT CONTENT', 'SEEDS', 'SEITAN', 'SEJOYIA', 'SERVING SUGGESTION', 'SESAME', 'SESAME SEEDS', 'SHAPED', 'SHOESTRING POTATO SNACKS', 'SHORTBREAD', 'SHORTBREAD COOKIES', 'SIMPLE', 'SIMPLY', 'SIMPLY SPROUTED', 'SINCE 1934', 'SINCE 1936', 'SINCENDIZE', 'SIZE', 'SKINNY', 'SLICED & SHAPEO', 'SLICES', 'SMALL', 'SMALL BATCH', 'SMALL COOKIE-NATUrALLY DELICIOUS', 'SMART', 'SMOKED SHORTY SAUSAGES', 'SNACK', 'SNACK CRACKERS', 'SNACK FACTORY', 'SNACK SIZE', 'SNACKABLE CASHEW COOKIES', 'SNACKBARS', 'SNACKS', 'SNAPEA CRISPS', 'SNAPS', 'SNICKERDOODLE', \"SNYDER'S\", 'SOBISK', 'SOFT', 'SOFT BAKED', 'SOFT BAKED BREAKFAST BARS', 'SOFT COOKIES', 'SOFTBAKED', 'SONOMA', 'SOUR CREAM', 'SOURDOUGH', 'SOURS', 'SOXLESSSUCAR', 'SPECULOOS', 'SPICY', 'SPICY BBQ', 'SPICY JALAPENO', 'SPIDER-MAN', 'SPINACH', 'SPIRACHA AU MIEL', 'SPROUTED', 'SQUARES', 'STACK', 'STACKS', 'STARBUCKS', 'STONE', 'STONE GROUND WHOLE MEAT', 'STONED', 'STOW AWAY', 'STRAWBERRIES', 'STRAWBERRY', 'STRAWBERRY BLAST', 'STRAWBERRY CREAM', 'STRETCH', 'STRIPS', 'STROY', 'STUFFED SNACKS', 'STYLE', 'STrawberry', 'SUGAR', 'SUGAR FREE', 'SUGAR FREE!', 'SUN-MAID', 'SUNFLOWER SEEDS', 'SUNMAID', 'SUNSWEET', 'SUPER', 'SUPERFOOD', 'SUPERFOODS', 'SUPERFRUIT MIX', 'SUPERINFOODS', 'SUPREME', 'SURE JELL', \"SWEDEN'S MOST LOVE PEPPARKAKA\", 'SWEDISH STYLE', 'SWEDISH THINS', 'SWEER&SALTY', 'SWEET', 'SWEET & SALTY', 'SWEET & SALTY KETTLE', 'SWEET & SALTY NUT', 'SWEET & SMOOTH', 'SWEET N SPICY', 'SWEET TASTE OF ITALY', 'SWEET, LIGHT', 'SWEETAPPLES', 'SWEETENED WITH SUCRALOSE', 'SWEETENEDIDRIED', 'SWISS ROLLS', \"SYNDER'S\", 'Salerno', 'Salted Caramel', 'Salted.CaramelNUt', 'Saltine Classics', 'Sanchis Mira', 'Sandwich', 'Sanibel', 'Santa Cruz', 'Sausage', 'Sausalito', 'Schar', 'Sea Salt', 'Sea Salt &', \"Sea's Gift\", 'Seasame', 'Seasons', \"Seattle's\", 'See Nutrition Information for Sodium Content.', 'See Nutrition Information for Total Content', 'See Nutrition Information for Total Fat Content', 'Seigle', 'Sensible', 'Sesame', 'Sesame & Flax', 'Shark & Whales', \"Sharwood's\", 'Shortbread', 'Simple Bites', 'Simply', 'Simply balacnesc', 'Skinnygirl', 'Slimfast', 'Slow Smoked', 'Smartfood', 'Snack', 'Snacks', 'Snak', 'Snaps', 'Snickerdoodle', 'Snow Day', 'So Juicy So Good', 'Soft & Chewy', 'Soft Fruit Flavored Centers Covered', 'Soft-Baked', 'SoftaChewy', 'Soup & Chawdei', 'Sour Cream', 'Splits', 'Staulleni', 'Stella', \"Stneit's\", 'Strawberry', 'Strawberry Banana', 'Strawberry Creme', 'Straws', 'Sugar Free', 'Sugar Turkey', 'Sugar Wafers', 'Sultana', 'Sun-Dried', 'Sunbelt', 'Sunfood', 'Sunkist', 'Superfood', 'Suprema', 'Supreme', 'Swedened Dried', 'Sweet', 'Sweet Treats', 'Sweet and Sour Fruit flavored Snacks', 'Sweet corn', 'SweetCom', 'SweetaSally', 'SweetenedWElled', 'Swiss Fudge', 'TABASCO', 'TAMARIND PULP CANDY', 'TANGY FRUITS', 'TASTE', 'TASTY', \"TATE'S\", 'TEA INFUSED', 'TERIYAKI', 'TERRA', 'THAN REGULAR', 'THAN REGULAR CHEESE FLAVORED SNACKS', 'THAN REGULAR POTATO CHIPS', 'THE APPETITE CONTROL CRACKER', 'THE CLASSIC AMERICAN SNACK', 'THE JUMBO BAG', 'THE ORIGINAL', 'THE ORIGINAL FRUIT & NUT FOOD BAR', 'THE PREMiUM FRUIT SNACK', 'THE PREPMiUM FRUiT SNACK', 'THE RICE ONE', 'THE TENDER JERKY', 'THEORIGINAL', 'THICK CUT POTATO CHIPS', 'THIN & CRISPY', 'THIN addictives', 'THIN, CRUNCHY PRETZEL CRACKERS', 'THINK & CRISPY', 'THINS', 'THINSTERS', 'THINaddictives', 'THiNS', 'TIMTAM', 'TO SHOW TEXTURE', 'TOASTED', 'TOASTED COCONUT', 'TOASTEDS', 'TOASTS', 'TOLL', 'TOMATO BASIL', 'TORILLA CHIPS', 'TORTILLA CHIPS', 'TOWN', 'TOY', \"TRADER JOE'S\", 'TRADITIONAL RECIPE', 'TRADITIONAL TASTE', 'TRANS FAT', 'TREATS', 'TRIPLE', 'TRU-BLU', 'TRUE', 'TRUFFLE', 'TURKEY', 'TURKEY BITES', 'TWIN-WRAPPED', 'TWO', 'Table', 'Table Water', 'Tahoe', 'Tam', 'Tams', 'Tangy', 'Tapioca', 'Tea', 'Tea Biscuits', 'The', 'The Anytime Snack', 'The Original', 'Thin', 'Thins', 'Tim Hortons', 'Time', 'Toast', 'ToastChee', 'Toasted', 'Toasted Coconut', 'Toasty', 'Tone It Up', 'Tostitos', 'Trail Mix', 'Trans fat', 'Treats', 'Triple Berry', 'Triscuit', 'Tropical Fusion', 'Tropical Punch', 'Turkey', 'Turron', 'Turtle', 'Twists', 'ULTIMATE', 'UNCURED BACON BITS', 'UNCURED BACON JERKY', 'UNICORNS', 'UNIQUE', 'UNLEASHED', 'UNTIL PRINTED DATE', 'USDA', 'USE NO HOOKS', 'UTZ', \"UTZ'S\", 'Unicorn', 'VALUE', 'VALUE PACK', 'VALUE PACK 10 BARS', 'VALUE PACK 12 BARS', 'VALUE PACKI', 'VALUE SIZE', 'VALUEPACK', 'VALUEPPACK', 'VAMPIRE', 'VANILLA', 'VEGAN', 'VEGETABLE AND', 'VEGETARIAN FRIENDLY', 'VEGGIE', 'VERANDA', 'VERIFIED', 'VINEGAR', 'VITAMINS & MINERALS', 'VOORTMAN', 'Value', 'Vanilla', 'Variety Pack', 'VarietyPack', 'Vegan', 'Vegetable Cracker', 'Veggie', 'Very Berry Blend', 'Vinegar', 'Vinta', 'Vitamins &', 'Voortman', 'WAFELS', 'WASABI COATED GREEN PEAS', 'WASABI RANCH', 'WAY BETTER', 'WE TRUST', 'WELCOME TO', 'WELLSLEY', 'WHEAT', 'WHEAT & GLUTEN FREE', 'WHEAT & GLUTENFREE', 'WHEAT-FREE DAIRY-FREE', 'WHITE', 'WHITE CHEDDAR', 'WHITE CHOCOLATE', 'WHITE CHOCOLATE MACADAMIA', 'WHOLE', 'WHOLE GRAIN', 'WHOLE NATRITION BAR', 'WHOLE WHEAT', 'WHOLEE', 'WHiTe cheddar', 'WISE', 'WITH A SPLASH OF VANILLA', 'WITH FLAVOR!', 'WITH JUICY BURST CENTERS', 'WITH OTHER NATURAL FLAVORS', 'WORLD KITCHENS', 'WORLDMARKET', 'WRAPPED FOR', 'Wafer', 'Wafers', 'Wager', 'Walkers', 'Wasabi', 'Weaver', 'Wedding', 'Weekendes', \"Welch's\", 'Wgeat', 'Wheat', 'White Chocolate', 'White Pop Corn', 'Whole Grain', 'Whole Wheat', 'WholeBlueberries', 'WildgRaw', 'XL', 'YELLOW', 'YOGURT', 'YORK', 'YOU', 'YOU CAN SEE OUR QUALITY', 'YUM EARTH', 'YUMEARTH', 'Yehuda', 'Yema', 'Yogurt', 'ZANTE CURRANTS', 'Zesta', 'Zesty', 'Zesty Ranch', 'Zwieback', 'a novel', 'aaaf', 'absolutely', 'aefa', 'aefasef', 'air', 'ajajaj', 'akakak', 'all Natural', 'almonds, raisins, peanuts & cranberries', 'always gluten free', 'always real.', 'and-Himalayan.salt', \"angonoa's\", 'aoricot', 'apple', 'apples', 'apricot', 'arabica coffee', 'artificial', 'asdf', 'asdfas', 'asdfjaksjdf', 'asdflkasdf', 'asdfsdf', 'asdljkfsdf', 'asdlkfj', 'asdlkfjasd', 'ase', 'asef', 'asefase', 'asefasef', 'asfefae', 'askjfs', 'asldkfjaslkfj', 'assorted fruit flavored snacks', 'baked', 'baked snack crackers', 'baked snack crakers', 'baked with', 'bakery', 'barbecue', 'barbeque', 'bare', 'bean', 'belvita', 'berriest', 'bits', 'blend', 'bligg', 'bliss', 'blueberry', 'boardeaux', 'breadsticks', 'brownie', 'bursting with almonds!', 'bursting with peanuts!', 'butter', 'butter, sea salt, pop corn & oil', 'buttered', 'california seedless', 'californiaseedless', 'calioniawholegitted', 'callfornlagoldent', 'carbs', 'cascadianfarm', 'cave', 'cello', 'certified organic', 'cheddar', 'cheddar &', 'cheese', 'cheese crackers', 'cheesecake', 'cherry', 'chessmen', 'chips', 'chocolate', 'chocolate chip banana', 'chocolate cookie dirt crumbs', 'chocolate hagelnut', 'chocolate pudding mix', 'club', 'coating bursting with cashews!', 'coconut bar', 'collection', 'comfort food for the soul', 'cookies', 'corn syrup', 'crackers', 'creme', 'crispbread', 'crispy and delicious', 'crunchy', 'crunchy snack crackers', 'crushed biscuits', 'crysged buscuits', 'dang', 'dark chocolate', 'dark chocolate and', 'dark chocolate/chocolat noir', 'dark roast', 'darkchocolate', 'dates', 'de la Rosa', 'de leche', 'deliciously juicy', 'deliciously simple', 'dessert kit', 'dipped in peanut butter coating', 'dnndnn', 'double chocolate', 'double dark', 'double milk', 'dripped in almond butter coating', 'dry', 'dry roastd & salted', 'dulce', 'eatsmart', 'efef', 'egg', 'eggs and hagelnuts', 'ejssdf', 'family owned', 'fengland', 'fffaa', 'fhekofs', 'fjefkl', 'fjief', 'flackers', 'flatbread', 'flavored', 'food', 'foodstirs', 'for Homemade', 'for freshness!', 'free', 'freeze-dried', 'fresh', 'fresh and', 'fruit', 'fruit & vegetable', 'fruity', 'garden', \"gardetto's\", 'garlic, onion, basil. & red chilli pepper', 'gels', 'giant pop', 'gingerbread', 'gingerman', 'glice', 'glute', 'gluten', 'gluten free', 'glutino', 'gogogo', \"grace's best\", 'granola bars', 'granolabars', 'granolabbars', 'great taste...naturally', 'gsdfn', 'guaranteed fresh', 'gullon', 'gummy creatures', 'hahaah', 'hahaha', 'hahahahs', 'haishf', 'handcrafted', 'hapi', 'hdfkj', 'heheeh', 'helfh', 'hello', 'hello ', 'hello w', 'hello wol', 'hello world', 'hellod', 'helloh', 'hellohello', 'helo', 'helo world', 'hi', 'hihi', 'hihief', 'hihih', 'hihihh', 'hihihhi', 'hihihi', 'hihihih', 'hihihihi', 'hihihihiih', 'hihiihih', 'hihither', 'hohoho', 'hslef', 'island pineapple', 'javascript', 'jkdkkd', 'jsiehf', 'kakakak', 'kakakakka', \"kellogg'o\", \"kellogg's\", \"kelloggo's\", 'kichen', 'kitchen', 'knobels', 'lacey-thin crispy cookies.', 'lemon orange', 'less sugar', 'life', 'light', 'lime', 'little', 'loaded', 'lucky', 'maRita Teague', 'made from fresh potatoes', 'made with', 'made with real maple syrup', 'man', 'mango tango', 'maple leaf creme', 'mariani', 'matzos', 'mega pack', 'megapack', 'meiji', 'microwave', 'microwave popcorn reinvented', 'milkmakers', \"milton's\", 'mini', 'minis', 'mint', 'mixed berry', 'movertheaterbutter', 'munchkin', \"n' Go\", 'natualbutter flavor with', 'natural', 'naturals', \"nature's\", 'naturesall', 'never fried', 'nfca', 'no artificial colors or flavors', 'no butter', 'no high-fructose corn syrup', 'no salt', 'non', 'non-gmo', \"not just good it's\", 'nut', 'nutella', 'of God Fruit', 'orange', 'organic', 'organic fruit snacks', 'original', 'other natural favors', 'oven baked', 'pack', 'papped chip snack', 'parmesanstrosemary', 'pineapple', 'pistachios', 'pistachois', 'planty', 'play', 'playful pineaplle', 'popchips', 'popcorn', 'popcorns', 'popped', 'popped chip snack', 'popped corn', 'poppers', 'potato', 'protein', 'pudding', 'pudding pop kit', 'pulparindo', 'pumpkin', 'pumpkins', 'python', 'pyton', 'raisin', 'raisins', 'rasberry', 'razzmatazz berry', 'real', 'real cocoa', 'real shredded coconut', 'real vanilla', 'real vegetable chips', 'rebecca', 'red oval farms', 'riririfkfk', 'roasted', 'saef', 'safde', 'salt', 'salted', 'sandwich', 'sdfkjasd', 'sdfkjf', 'sdflkjsef', 'sdkljf', 'sdlfkjse', 'sdlkjfae', 'sdlkjflskef', 'sdlkjfse', 'sdlkjfsef', 'sea', 'sea salt & pepper', 'sea salt nut bar', 'seasonir', 'sekjflj', 'semi-sweet', 'sfef', 'shortbread', 'signalure', 'simply', 'sjeklfj', 'sjfij', 'skef', 'sldkjfad', 'slkfef', 'slkjef', 'slkjefilj', 'slkjesfif', 'slkjfe', 'snacking fun', 'snacks', 'soft', 'soft bite', 'soft-baked', 'sour cream', 'spice', 'spinachFlakes', 'ssfewz', 'staipc', 'strawberry', 'straws', 'super seed', 'superffoods', 'sweet & simple', 'sweeteners', 'taste HUGE', 'the Kitchen', 'the Taste', 'thin & crispy sandwich cookies', 'thumbprint cookies', 'tiny twists', 'topped with sea salt', 'traditions', 'trans fat', 'treezendried', 'triscuit', 'tropical', 'truffle salt', 'until printed date.', 'utz', 'value', 'vanilla', 'vans', 'vegan', 'vegetable', 'viva', 'wafers', 'wasa', 'wavy', 'wea', 'whhole ghain', 'whisps', 'white chocolate', 'whole bean', 'whole blueberries', 'whole fruit, sun sweetened', 'whole grain', 'with Cappuccino', 'with Cracked Pepper', 'wondrously rich', 'wow', 'wrapped', 'yeeeing', 'yogis', 'zesty', 'zizizii']\n"
     ]
    }
   ],
   "source": [
    "print(human_tfidf.get_feature_names())"
   ]
  },
  {
   "cell_type": "code",
   "execution_count": 416,
   "metadata": {
    "scrolled": true
   },
   "outputs": [
    {
     "name": "stdout",
     "output_type": "stream",
     "text": [
      "['\"ArtificialandNNatural', '\"Go', '\"SUGARFREE', '%assina.Frut.bus.ck', '&-Dark_Chocolate', '&CREAM', '&NON-DAIRY', '&SeaSalt', '&onion', \"'I\", '(', '(GF', '(GF)', '(Great', '(JE', '(Jolly', '(Keebler', '(TALLANWAFFLECOOLIF', '(doinRRS.', '(mmunity', '(rackers', '-', '-007', '-2PACK-', '-JUMBO-', '-SEASALTE', '-VALUE-', '-alted', '/eryBerryBlend', '0', '1.42kg', '1.588kg', '10', '100', '100%', '100%Natural', '100%VVitaminc', '100%VVttmmin(', '100%Vitaminc', '100%natural', '1000-Profits@Charity', '100000', '1008.RDAofVitamincc', '100X-COLOMBIAN', '100xJVitaminc', '10x1CCalcium', '110', '110CClarories', '12', '12CAKES', '12energybars', '12packs', '140', '142g', '15,000PRIZES!', '15-PPOOTEIN', '170', '18/Vanilla', '186', '18BARS', '18]Chocolate', '18chocolate', '18vanillar', '1993', '1SBAGS', '2.00!', '2/$1', '20', '20%', '24', '25%/Vitaminsage', '259/Vitaminsade', '25:-Vitimsins-ED', '25CCuunt', '25Count', '25Y6Vitaminsage', '283.5g', '2Dates', '2offadmission', '2packs', '3', '34', '36', '3EggWhites', '3OPACK', '4', '40', '4Cashews', '4g', '4gll', '50%', '50%LESSIFAT', '55%', '59cea.', '6', '60%', '65%', '65KLESSIFAT', '6Almonds', '6VVnalla', '6Vanilla', '6vanilla', '7', '70Calories-PerPouch', '765.4g', '794g', '7OCALORIES', '7gPROTEIN', '8', '80', '8Onion', '94xfatfree', '>Ing', '>to', 'A', 'ABARS', 'ACAIBLUEBERRY', 'ACCONTENT', 'ACLASSIC', 'ACOORICALLY', 'ACTII', 'ADM', 'AGEDWHITE', 'AIRPOPPED', 'ALCOSICS', 'ALL', 'ALLERGY', 'ALLEY', 'ALLINATURAL', 'ALLINATURALY', 'ALMOND', 'ALMONDATING', 'ALMONDIBUTTER', 'ALMONDS', 'ALMONDTHINCOOKIES', 'ANCHTARATALIZATIONS', 'ANCIENT', 'ANDCCCOA', 'ANDETEXTURE', 'ANGIES', 'ANNAS', 'ANOL', 'ANTERMANTABLE', 'ANTINATIONALY', 'APPEPPREDED', 'APRICOTS', 'ARABICACOFFED', 'ARABICACOFFEE', 'ARALAGRAPHENCESS', 'ARIANE', 'ARTHAGALFLANOR', 'ARTIFICALSOURCES', 'ARTIFICIAL', 'ARTIFICIALFLAVOR', 'ARTIFICIALLYFLAVORED', 'ARTIFICIALSOURCES', 'ARTISAN', 'ASSORTEDFFUIT', 'ASZCOCOAVCAGAO', 'ATCHATURALLY', 'ATKINS', 'AUCASON', 'AUGASON', 'AUTHENTICIBAKED', 'AUTHINTICITALIAN', 'Above', 'Acalasblucberry', 'Accape', 'Accournements', 'Added', 'Adeliciousny', 'Ahoy', 'AilNatural', 'All', 'All-Natural', 'Almond', 'AlmondButter', 'AlmondCCuuch', 'AlmondDDark', 'Almondcrush', 'AmainaristrualbberrinetU', 'Amainstrunbbaryshine.UCC', 'Amarasthealistrepliness', 'Amazin', \"America's\", 'American', 'Amerisstracticamine.UDU', 'Amish', 'AmondSCutter', 'And', 'Ander', 'Anhon', 'Animal', \"Annie'\", 'Annie:', 'Annies', 'Anplanty', 'Antermont', 'Anth-Posticancom', 'AnticiallyFlavored', 'Antioxidants', 'Antralificated', 'Antruited', 'Anyp-Tom:', 'Apasco', 'Apple', 'AppleChips', 'AppleCinnamon', 'AppleSlices', 'Applections', 'Appless', 'Apprest', 'Appris', 'Apr', 'Aprestroptically', 'Apricot', 'Apristing', 'Apropent', 'Apropenting', 'Apropents', 'Apropication', 'Apropitional', 'Arabica', 'Archway', 'Are', 'Arficiatlyflawored', 'ArtficiallyFlavored', 'Artisan', 'Assorted', 'Aungrestionybledned', 'Austin', 'Avenders', 'BACKYARD', 'BACONCURLS', 'BACS', 'BAGELCRISPS', 'BAGS', 'BAKED', 'BAKEDA', 'BAKEDBITEST', 'BAKEDENERGYSNACK', 'BAKEDIPRETZEL', 'BAKEDSHACKS', 'BAKERY', 'BAKESSHOP', 'BANAMECONT', 'BANANA', 'BAR', 'BARBECUE', 'BARBEQUE', 'BAREDSHACKS', 'BARESTROPS', 'BARS', 'BAT', 'BBQ', 'BBU', 'BEAR', 'BEEFJERKY', 'BERENED', 'BERES', 'BERRIES', 'BERRYBLUE', 'BETTER', 'BIG', 'BIG120ZBAG', 'BIGBAG', 'BISCUITS', 'BISCUITSTICKS', 'BISQUITSTICKS', 'BITES', 'BITESIZE', 'BLACK', 'BLACKBEAN', 'BLACKMULBERRIES', 'BLACKPEPPER', 'BLEND', 'BLESSOIL', 'BLUE', 'BLUEBERRY', 'BLUEBERRYBLISS', 'BLUEBERRYMUFFIN', 'BLUECORN', 'BOLD.TENDER.', 'BOOM', 'BOURBON', 'BOWL', 'BRAIDED', 'BRANCRISPBREAD', 'BRAND', 'BREADSTICKS', 'BREADSTICKSADIP', 'BREAKFAST', 'BREW', 'BRICK', 'BRISKET', 'BRITTLE', 'BROLLEDOATS', 'BROOKSIDE', 'BROWNIE', 'BROWNIEMIX', 'BROWNRRICE', 'BROWNSUGAR', 'BUDDHA', 'BULLETPROOF', 'BUMBLEBEE', 'BURSIS', 'BURSTING', 'BURSTINGWIMTHFLAWORL', 'BURSTINGWITHFLAVORY', 'BUSTELO', 'BUTTER', 'BUTTERBAR', 'BUTTERFLAVORED', 'BUTTERY', 'Bachman', 'Baked', 'Baked.Crunchy', 'Baked.with.Pride', 'Baked@raham.nacks', 'BakedCRackers', 'BakedCrunchy', 'BakedGrahamSnacks', 'BakedGrahammsnacks', 'BakedGrahamsnacks', 'BakedSnackCrackers', 'Bakery', 'Balance', 'Balsamic', 'Banamans', 'Barbecue', 'Barrasdelous', 'Bars', 'Bascuits', 'Basills', 'Basted', 'Baverian', 'Baxing', 'Beach', 'Bellpeppers', 'BellyLous', 'Beneathessurface', 'Berry', 'Best', 'Bins', 'Biscoff', 'Biscos', 'Biscotti', 'Biscuits', 'Bites', 'Bittersweetchocolate', 'Black/Jewell.', 'Blend', 'Blue', 'Blueberries', 'Blueberry', 'Blues', 'Bobs', 'Bontriblocationallents', 'Brandt', 'Breadsticks', 'Break/astBlend', 'Breton', 'Bridgford', 'Bripleberry', 'Brown', 'Brownies', 'Brussels', 'Bubbles', 'BuffaloBBue', 'BunnyGrahams', 'BureBUtter', 'Butter', 'Butter.Flavored', 'ButterBSeaSalt', 'Butterfinger', 'ButterlLovers', 'Buttermilk', 'Buttery/Toffee', 'CA', 'CABAR', 'CAESART', 'CAFE', 'CAL', 'CALIFORNIA', 'CALLED', 'CALLEGANAMITIED', 'CALORIE', 'CALORIES', 'CAN', 'CANTE-PANDEREATION', 'CANTHATED', 'CAPE', 'CAPPUCCINO', 'CAPTAINAMERICA', 'CARAMEL', 'CARAMELINUT', 'CARAMELNUT', 'CARANELAMIDASAST', 'CARAWAY', 'CARB', 'CARDENDEATING', 'CARIBOU', 'CARN', 'CARPERTICALLY', 'CAS', 'CASHEW', 'CASHEWS', 'CASSAVA', 'CASTRAWBERTY)', 'CATCALYADITACLLYATED', 'CATROD', 'CAUNCHAPE', \"CCarkers'\", 'CERTIFIEDORGANIC', 'CERTIFIEDORGANION', 'CERTO', 'CHACOLLECAMPLAGRETED', 'CHEDDAR', 'CHEDDARCRISPS', 'CHEDDARRANCH', 'CHEDDIES', 'CHEESE', 'CHEESECRACKERS', 'CHEESEFIANOREDSNACKS', 'CHEESEFLANOREDSMACES', 'CHEESEFLAVOREDSNACKS', 'CHEESEMELTS', 'CHEESYTACO', 'CHEEZ=I', 'CHEEZIIT', 'CHEEZIT', \"CHEF'S\", 'CHERRIES', 'CHERRY', 'CHESTERS', 'CHEWBAR', 'CHEWS', 'CHEWY', 'CHEWYBARS', 'CHEWYCHOCOLATECHIP', 'CHEWYGRANOLABARS', 'CHEWYTRAILMIX', 'CHICHARROXES', 'CHICKA', 'CHICKENJERKY', 'CHICKENSALAD', 'CHIEWT', 'CHIP', 'CHIPOTLEBBO', 'CHIPSENLABGED', 'CHOCOLATE', 'CHOCOLATECCHIP', 'CHOCOLATECHIP', 'CHOCOLATECHIPS', 'CHOCOLATECOOKIES', 'CHOCOLATECREAM', 'CHOCOLATEFUDGE', 'CHOCOLATELLOVERS', 'CHOCOLATEPEANUT', 'CHOCOLATEVANLLACHEME', 'CHORTESERMONDACHES', 'CHUNK', 'CHUNKS', 'CHY', 'CINGERZINGED', 'CINNAMON', 'CLASSICRICH', 'CLASSICS', 'CLIF', 'CLUB', 'CO', 'COCONUT', 'COCONUTCHIPS', 'COCONUTOIL', 'COCONUTSUGAR', 'COD', 'COFFEE', 'COFFEE.', 'COFFEECCAKE', 'COFFEEHOUSE', 'COFFEETPACKS', 'COLAGES', 'COLD', 'COLDECAPECONS', 'COLLEGRATION', 'COLLICATED', 'COLORS', 'COLORSFROM', 'COLORSORS', 'COLORSTION', 'COMPARTICALLY', 'COMPERSED', 'COMPERSING', 'COMPERTICALLY', 'COMPHATIANILATIONS', 'COMPORTHERATION', 'COMPORTING', 'COMPRETTRABILATIONS', 'COMPROFONENATIONS', 'CONCARTATIONS', 'CONDENDENTATING', 'CONDERACELUMENTLY', 'CONDEROCICALLY', 'CONDERTION', 'CONDERTIONALIZENT', 'CONDERTROXMATURALSOURCES', 'CONES', 'CONFARTIONALATIONS', 'CONFERTIONALISM', 'CONNOMPREACHESSESUS', 'CONTAINS', 'CONTAINS:', 'CONTAINSPEANUTES', 'CONTAINSTZSNACKS', 'CONTENTANTALLY', 'CONTER', 'CONTERENTERS', 'CONTERS', 'CONTERSANS', 'CONTERSED', 'CONTERSING', 'CONTERTABLEALATIONS', 'CONTERTANCENTAL', 'CONTERTAREMANDERS', 'CONTERTARIZED', 'CONTERTARIZES', 'CONTERTATE', 'CONTERTATION', 'CONTERTATIONAL', 'CONTERTERTIONALLY', 'CONTERTICALLY', 'CONTERTING', 'CONTERTION', 'CONTERTIONALIS', 'CONTERTIONALISM', 'CONTERTIONALIZATION', 'CONTERTIONALIZED', 'CONTERTIONALLY', 'CONTERTIONSCONS', 'CONTERTONEMENTS', 'CONTERTOPION', 'CONTERTORICALLY', 'CONTING', 'COOD', 'COOKIE', 'COOKIEMIX', 'COOKIEPIECES', 'COOKIES', 'COOKIESI', 'COOKIEST', 'COOKIESTWCOME', 'COOKSINSECONDS', 'CORANOLA', 'CORDENDEATING', 'CORMESTOONALIZE', 'CORN', 'CORNALOTATOSNACKS', 'CORNTORTLIACHIPS', 'CORNTORTULATHESS', 'CORRATION', 'CORTMENT', 'CORV', 'COSLESS', 'COUNTRYCOT', 'COVERED', 'CRACKER', 'CRACKERS', 'CRACKERSTTICKS', 'CRAFTBAKERS', 'CRAFTEDBAKEDCOODS', 'CRANBERRIES', 'CREAM', 'CREAMERY)', 'CREAMY', 'CREMEFILLEDCOOKES', 'CREMES', 'CRISP', 'CRISPS', 'CRISPY', 'CRISPYCOOKIES', 'CRISPYCREAMY', 'CRISPYPLATERS', 'CRISPYROUNCE', 'CRUNCH', 'CRUNCHIES', 'CRUNCHMASTERS', 'CRUNCHY', 'Calbee', 'Calbee.', 'CaleDamond', 'Calidad', 'CaliforniaChopped', 'CalorieSnacks', 'Calories', 'Camplocess', 'Candy', 'Cappuccino', 'Captains', 'Captiva', 'Caramel', 'CaramelCorn', 'Carbs', 'Caribou', 'Caring', 'Carrs', 'Cashew', 'CerealBars', 'Charms', 'Chas', 'Cheddar', 'CheddarSquares', 'Cheese', 'CheeseCrackers', 'Cheesecake', 'CheesyDip', 'Cheetos', 'Chen', 'Cherries', 'Cherry', 'Chesapeake', 'Chewy', 'Chewy@ranola.Bars', 'ChewyBars', 'ChewyGrandlabie', 'Chip', 'Chips', 'Chipsenlarged', 'Chis', 'ChocoPie', 'Chocolate', 'Chocolate(Chip', 'ChocolateChip', 'ChocolateVanilla', 'Chocolate_Crame', 'CholesterolFree', 'ChoppedOmious', 'Choy', 'Chulgorompate', 'Cinnamon', 'Cinnamon-Bun', 'Cioccolati', 'Classic', 'Classic-Roast', 'Clutering', 'Coco-Thins', 'Coconstchips', 'Coconut', 'CoconutSunter', 'Coffee', 'Collent', 'Colombian', 'Combos', 'Conceptanty', 'Concommentable', 'Concriccomparmaniancest', 'Conne', 'Connerth', 'Consplactionalism', 'Contentable', 'Conter', 'Conterfilledwires', 'Contermaderaming', 'Contermanting', 'Conterming', 'Contermonacom', 'Conterportically', 'Conters', 'Contersing', 'Contersion', 'Contersomencem', 'Contities', 'Contralitically', 'Contronting', 'Controptically', 'Cookies', 'Cooklestilledwarth', 'Corn', 'CountryRanch', 'CownwPPritted', 'Cracked', 'Cracker', 'Crackers', 'Craisins', 'Cramberry', 'Cranberry', 'Creme', 'Creme.filled', 'CremeFFilling', 'Cross-CutCellery', 'Crunch', 'Crunchy', 'CrunchyBBancans', 'CrunchyClusters', 'Crunshyfuphople', 'Cunchmaster', 'D', 'DAIRY', 'DAIRYFREE', 'DANSK', 'DARK', 'DARK.CHOCOLATE', 'DARKCHOCOLATE', 'DARKCHOCOLATEPECAN', 'DARKROAST', 'DATES', 'DEGLETNOUR', 'DELALLO', 'DELASTYLE', 'DELCIOUSLYCRUNCHY', 'DELICING', 'DELICIOUS', 'DERACCROONTEMISASHS', 'DESTERTER', 'DETOUR', 'DIP', 'DISTER', 'DISTERSERTION', 'DISTINCTIVE', 'DON', 'DONUTS', 'DOUBLEDARD', 'DOUGH', 'DREDCALMYANAFIES', 'DREDERSED', 'DRIED', 'DRIEDCRANBERRIES', 'DRIZZLEDCRISPS', 'DUKES', 'DULCEDETAMENT', 'DUNKIN', 'DYES', 'Dactorin', 'Dale', 'Danish', 'Dare', 'Dark', 'DarkChocolate', 'Dark_Chocolate', 'Dark_Chocolate,', 'Dark_Chocolatex_NUt', 'Daryfree', 'Date:', 'Dater', 'Dates', 'Deep-rroves', 'Dehydrated', 'Dehysdrated', 'Deli-Style', 'Delicious', 'Deliciousness', 'DiPPeDPretzels', 'Diamond', 'DicedWINNANS', 'Digestive', 'Digestives', 'Dinosaurs', 'DipPed', 'Dippedinessterdatmoathute', 'Dippodin', 'Dips', 'Dirt', 'Disphatifacistion', 'Distachios', 'Districtions', 'Dole', 'Doritos', 'Doro', 'Dove', 'Dried', 'Ductorin', 'E', 'EASTMAN', 'EDFFEE.ANDCCHICERY', 'EDINBURGH', 'ELLO', 'ELLOI', 'ENCHARRONES', 'ENERGIZE', 'ENERGYSNACK', 'ENTERTRONESWANDATION', 'EONION', 'EPIC', 'EPITTED', 'ERANDE', 'ESALTY', 'ESIAND', 'ESSENTIALS', 'EUROPEANSNACK', 'EVERYTHING', 'EXTRA', 'EXTRABUTTER', 'Eden', 'EggYolk', 'Eleast', 'Elene', 'Elfin', 'Eli', 'Emportedlicom', 'Endulge', 'Enjoy', 'Ensure', 'Ereattactematurally', 'Ervity', 'Es', 'Espresso', 'Etiqueta', 'Everything', 'Express', 'ExpressoGroundCOffe', 'Expystorage', 'Extra', 'Extransonthousewrates', 'Extrathin', 'Extravirging', 'FAI', 'FAMILETREPOWNED', 'FAMILY', 'FAMILYSIZE', 'FAMILYSIZE!', 'FAMILYSIZEI', 'FAMITEFREROWNED', 'FANILYEAMEROWNED', 'FARLYFARMEROWNED', 'FARMHOUSE', 'FARMS', 'FARTIODGENFLABS--UM', 'FARTTOUTERCHOOLATED', 'FATFREE', 'FAVAS', 'FENERGYAT', 'FIBER', 'FIBERONE\"', 'FIGBAR', 'FIGS', 'FILLED', 'FILLING', 'FINNCRISP', 'FIRETROASTED', 'FLACOREGREMMENCRS', 'FLAMINY', 'FLANOREDPOTADCHIPS', 'FLAVERS', 'FLAVORED', 'FLAVOREDICOATING', 'FLAVORS', 'FLOUR', 'FOODS', 'FOOLLESS', 'FOREST', 'FORGANIC', 'FORMULA', 'FORTERS', 'FORTUNECOOKIES', 'FORWIOGMEABEEF', 'FRANCISCOS', 'FRANOLAGES', 'FREDOPORKSIONS', 'FREE', 'FREEOFTRANSTATE', 'FREEZE-DRIED', 'FREEZEST', 'FRESH', 'FRESHIPOPPED', 'FRESHNESS', 'FRESHYPACKS', 'FRIEDIPORKSKINS', 'FRIEDTFORKSKINS', 'FRIENDLY', 'FRIES', 'FROIL', 'FRUIT', 'FRUIT.BITES', 'FRUITBITES', 'FRUITCHEWYCOOKIES', 'FRUITECO', 'FRUITENTHES', 'FRUITLEATHER', 'FRUITS', 'FRUITYDUOS', 'FRUITZNUT', 'FRUTFLAODEDSNACKS', 'FRUTTLINOREDSNICKS', 'FULL45', 'FULLYLOADED', 'FamilySize', 'Fargen', 'Fasted', 'Fat-Free', 'Fat:rree', 'FatFree', 'FatFreeVanilla', 'FiberRich', 'Fibre', 'FigBar', 'FigNewmans', 'Filled', 'Finezed', 'Fit', 'Flaky,', 'Flambithor', 'Flamintlot', 'Flavored', 'Flavored.Migrowase', 'Flavoredilling', 'Flavors', 'Flavorsor', 'Flawored', 'FlipSides', 'Floureckfortorphicalparda', 'Folgers', 'Foods', 'Foodtolive', 'Foperment', 'Free', 'FreezeDDied', 'FreezeDried', 'Freezed', 'Freezerdried', 'Freezolically', 'French', 'Friends', 'From:', 'Fromble', 'Fromparting', 'Fromphering', 'Frozen', 'Fruit', 'Fruit&-Grain', 'Fruit&Grain', 'FruitBarrels', 'FruitMedley', 'FruitSmiles', 'Fruitchips', 'Fruitn', 'Fruity', 'FruitySnacks', 'Fruttsorfillygedend', 'Fudge', 'Fujakeds', 'Fujibreds', 'Funyuns', 'Futchips', 'G.H.CRETORS', 'GAT', 'GE', 'GELATINFREE', 'GELATINIDESSERT', 'GERTIFIEDORGANIC', 'GESSOURCREAM', 'GEVALIA', 'GG', 'GHEE!', 'GHIRARDELLI', 'GI', 'GINCER', 'GINGER', 'GLOTEN', 'GLUTEN', 'GLUTEN-FREE', 'GLUTENERED', 'GLUTENFFREE', 'GLUTENFREE', 'GLUTENFREES', 'GLUTENFREEWAEES', 'GLUTENSREE', 'GLUTENTFREE', 'GLUTENTREE', 'GLUTENTREES', 'GLUTENTRREE', 'GLUTENTRREES', 'GLUTINO', 'GMO', 'GODIVA', 'GODSHALLS', 'GOJI', 'GOJIBBERRIES', 'GONECRACKERS', 'GOOD', 'GOODTOTHELASTDROP', 'GOURMET', 'GOURMETPOPCORN', 'GOWCACAO', 'GOYA', 'GRA', 'GRABYN', 'GRAHAM', 'GRAIN', 'GRAINS', 'GRANOLA', 'GRANOLABARS', 'GRANOLACUPS', 'GRANOLAY', 'GREAT', 'GREATMORTHERS', 'GREENTEACREAM', 'GROOT', 'GROOVES', 'GROUND', 'GROUNDCOFFEE', 'GUARANTEEDERESM', 'GUARANTEEDERESULY', 'GUTENFREE-DEUSOUS', 'GUTENFREENDECHOUS', 'Gamesa', 'Gardettos', 'Garlic', 'Geneva', 'Ginger', 'GingerSnapz', 'Glico', 'Glute', 'Gluten', 'Gluten-Free', 'Gluten.Free', 'Gluten@NN.ffic', 'GlutenFree', 'Glutenfree', 'Gluter', 'Gluttworkfree', 'Goldenberry', 'Goldfish', 'Goodsourcedformations', 'Gourmet.Popcorn', 'GourmetWhite', 'Govered', 'Gr', 'Grab', 'GrabnGo', 'GrahamCrackers', 'Graham_Crackers', 'Grahamscre(Caders', 'Granola', 'Grasshopper', 'Gratify', 'Grattraportingstruiffes', 'Great', 'Ground-Coftee', 'GroundCoffee', 'GroundCollee', 'GroundCollse)', 'HALFINAKED', 'HALFPOUND', 'HALLOWEEN', 'HANDCRAFTED', 'HANDI-SNACKS', 'HANREGULAR', 'HARVESTSNAPS', 'HATCHGREENCHILE', 'HAWAIIAN', 'HAZELNUT', 'HAZELNUTFLAVOR', 'HELANEMENTERALOURATE', 'HELLO', 'HERBAL', 'HERRS', 'HERSHEYS', 'HEX-ceptionally', 'HICKORYSMOKED', 'HIGHIN', 'HIMALANIA', 'HIMALAYAN', 'HIMALAYANGOLI', 'HO', 'HOLIDAY', 'HOMEGROWN', 'HOMEGROWN:', 'HOMEGROWNIN', 'HOMESTYLE', 'HON', 'HONEST', 'HONEYBOATS', 'HONEYPEANUT', 'HOT', 'HOT&', 'HOT&SPICY', 'HOTANDSSALTED', 'HOUSE', 'HOUSEDE', 'HULK', 'Handcrafted', 'Harlest', 'Harring', 'HarvestSnaps', 'Harvestsnaps', 'Harvestwheat', 'Hazelnut', 'HazelnutSPrraad', 'Hecsier-Hill.Fam', 'Helloggs', \"Helloyg's\", 'Helpinglyoupredare', 'Herb', 'Herbandgark', 'Hi', 'Hi,', 'Hickory', 'Hiele', 'Highspourced', 'Himalayanpinh', 'Hintofomeou', 'Hollow', 'Honey', 'HoneyBrown', 'HoneyGrahams', 'HoneyMustard', 'HoneyWWhaat', 'Hotesspicy', 'Hows:', 'Howworts', 'Hug', 'Huzz', 'Hyz', 'I', 'IK', 'ILEY', 'IMPOPCOAN', 'IMPROTEIN', 'INATURALPECANS', 'INCONTERTIONALISM', 'INDIANA', 'INDIVIDUALLY', 'INDIVIDUALLYWRAPPED', 'INDULGENCE', 'INFINITY-WAR', 'INFINITYAWAR', 'INFINITYWAR', 'INGREDIENTS', 'INSPIREDRECIPES', 'INSULT', 'INTERLACEDOCOMINATION', 'INTERTERENTERESS', 'INTRALATADEMACHLYATION', 'ISLANDFFULTS', 'ISUNMAID', 'Iced@atmeal', 'IgofFat', 'Imlam', 'Imore', 'In', 'Includes', 'Incorthinccispyccolless', 'Ind', 'Indian', 'Individually', 'InstantPUdding', 'InstantPudding', 'Intemachablablistrabulas', 'Intermationalizes', 'Internationalists', 'Intraluctburstcanters', 'Intraspberrs', 'Isnack', 'JACKLINKS', 'JACOBS', 'JALAPENO', 'JAMAICAN', 'JAMMIN\"', 'JATEJULY', 'JEL', 'JELL', 'JELLISU', 'JELLO', 'JELLYBEANS', 'JERKY', 'JERKYCURE', 'JOOKWHOLEGRAIN', 'JUICYGELS', 'JUMBO', 'JUMBOPACK', 'JUST', 'JUSTSEASALT', 'JUTBITES', 'Jack', 'Jacklinks', 'Jacklinks.', 'Jalapeno', 'Jamisablites', 'Jello', 'JetPoffed', 'Jif', 'Jime', 'Jondon)', 'Juice', 'Juicy', 'Julian', 'Justiple', 'Justthe', 'K00IA', 'KAFFE', 'KALE', 'KALECCHIPS', 'KEDEM', 'KERIE', 'KETTLE', 'KETTLECORN', 'KHONGGUAN', 'KIDSSIZE', 'KIND', 'KIRKLAND', 'KITCHEN', 'KODIAKCAKES', 'KONGERS', 'KOOLIRANCH', 'KRAS', 'KS', 'KYB', 'Karens', 'Karons', 'Kart', 'Kashi', 'Keebler', 'Keeward', 'Kelliggs', \"Kellogg's\", 'Kelloggs', 'Kellyggs', 'Kernel', 'KettleCCooked', 'Killygs', 'Kinded', 'Knockeirs', 'Kolad', 'Koreanbboflavor', 'Kraft', 'LA', 'LACTATION.COOKIEBITES', 'LACTRONONSUATED', 'LAINGUSH', 'LARABAR', 'LEMON', 'LEMONALIZED', 'LEMONBAR', 'LENTIL', 'LENTILIBEAN', 'LES', 'LESSISAL', 'LESSNETCARBS', 'LIGHTBUTTER', 'LIGHTERTASTE', 'LIGHTLYSALTED', 'LIGHTRYE', 'LIME', 'LIQUID', 'LITTLEONES', 'LIVE', 'LIZE', 'LLOPIOY', 'LOOK!', 'LORNADOONE', 'LOTSOF', 'LOTTE', 'LOUST', 'LOVE', 'LOW', 'LOWERES', 'LOWFAT', 'LOWREYS', 'LU', 'LUNA', 'LUROPESSAVORITE', 'LUSDA', 'LUWORED', 'La', 'Lemon', 'Lemon-lime', 'LemonBurst', 'Lemonfavoreduanfers', 'Leotatochips', 'Lessersit', 'Lies', 'Light,faky,Buttery', 'Lightflabybattery', 'Lightyswreet', 'Limest', 'LineaClisical', 'Lines:', 'Linestand', 'Linestrate', 'Linestropting', 'Linesty', 'Ling', 'Little', 'Little-be', 'LittleDbie', 'Look!', 'MACADAMIA', 'MADEINITALY', 'MADESSAREALCHEESE', 'MADEWING', 'MADEWITH', 'MADLEADTATIONAL', 'MAJORDICKASONS', 'MALACADALIZE', 'MALAMMOND', 'MALICHNAMUN', 'MALLICONALIZED', 'MANGO', 'MANGOCAILETING', 'MANGOLING', 'MANGOSLICES', 'MANTALIZATION', 'MAPLE', 'MARSHMALLOW', 'MARTINS', 'MARVEL', 'MASTERIZED', 'MATADOR', 'MATCHA', 'MATECHOODLEFMACIONAL', 'MATTAMING', 'MATURALCALIZENESS', 'MATZOS', 'MEATLESSVEGANJERKY', 'MEDIUMROAST', 'MEDNESEDMONGHORSERS', 'MEGAPACK', 'MEGAPACKISBARS', 'MEGAPOP', 'MELBA', 'MESTATION', 'MI-DELICIOUS', 'MICROWAVE', 'MICROWAVEPOPCORN', 'MILCHOCOLNEENACIONALLY', 'MILK', 'MILK!', 'MILKCHOCOLATE', 'MILKCHOCOLATECHIP', 'MINI', 'MINICAKES', 'MINIS', 'MISSIONFIGS', 'MISTERSTING', 'MITHASPLISHOFYAMILY', 'MITHOTERNAUDLATORS', 'MITRANARTHOMINATED', 'MIXEDFFUIT', 'MON', 'MONTMORENCY', 'MOOSE', 'MORE', 'MORSELS', 'MOVETHEATER', 'MOVIETHEATER', 'MOVIETTHEATER', 'MUFFINS', 'MULBERRY', 'MULTI-GRAIN', 'MULTI-SEEDS', 'MUNCH', 'MUNK', 'MUSHROOM', 'MUTRISARTACTABLER', 'Mackinac', 'Macking', 'Macs', 'Madeuthrealbutton', 'Madewith-Real', 'Maid', 'Mango', 'Manischewitz', 'Mariani', 'Mariani.', 'Marking', 'Marshmallows', \"Mary's\", 'Marys', 'Materfarealfulthing', 'Mattermanders', 'Matzos', 'Maxwell', 'May', 'Mbyotwholegrains', 'McCafe', 'Mectured', 'Medley', 'Megraphic', 'Microwave', 'Middleswarth', 'Milano', 'MilkChocolate', \"Milton's\", 'Miltons', 'Minerals', 'Mini', 'MiniCookies', 'Minis', 'Minute', 'Mistifectitifications', 'Mistretzels', 'Mivities', 'Mixed/erry', 'Monaminoma.swrich', 'Montauk', 'Mostiming', 'Moveredechnesseriate', 'Movistricully', 'Multi-grain', 'Multigrain', 'Munch', 'Munk', 'Murray', 'Mustard', 'N', 'NACHO', 'NATUALIAN', 'NATURAL', 'NATURALDRIED', 'NATURALFLAVOR', 'NATURALIFLAVORS', 'NATURALIVFLAVORED', 'NATURALLY', 'NATURALLYFLAVORED', 'NATURALLYFLAWORED', 'NATURALS', 'NATURALY', 'NATURALYYFLAVORE', 'NATURE', 'NATURES', 'NATUREVALLEV', 'NATUREVALLEY', 'NAVITAS', 'NCOMTONDUGEFALIAMENT', 'NEGRA', 'NETINTIZOZING', 'NETWILATIZIZG', 'NEW', 'NEW!', 'NEWESTEEDITION', 'NEWSIZE', 'NO', 'NOARTIFICIAL', 'NOATTIFICIAL', 'NOCHOLESTEROL', 'NOCOLORS', 'NON', 'NON-GMO', 'NONDERATION', 'NONGATE', 'NONGMO', 'NONGMON', \"NONNI'S\", 'NONNIS', 'NONNS', 'NONNTS', 'NOORAREBATMEDUALIST', 'NOPARSINATIVES', 'NOPRESERVATIVES', 'NOSALTADDED', 'NOSODIUM', 'NOSUGARADDED', 'NOT', 'NOTAREDUCEDCACOREFOOM', 'NOTRANSFAT', 'NOWMOREREALFRUITING', 'NOWWITH', 'NOcolors', 'NOhighfructos', 'NOpreservatives', 'NUGGETS', 'NUTRI', 'NUTRITIONBBRAR', 'NUTS', 'NUTTHINS', 'Nacho', 'Nanzo', 'Napolitanke', 'Natierra', 'Natural', 'Naturally', 'Naturallyand', 'Naturallyflavored', 'Natureseats', 'Naturevalley', 'NearlyNaked', 'Nestle', 'Netranthinaliancabling', 'Newlooks', \"Newman-O's\", 'Newmansown', 'Newtons', 'Nilla', 'Nntp-Posting-Host:', 'NoAttificial', 'NoB.S.', 'NoCColesterols', 'NoPreservatives', 'NoSodium', 'NoSugar', 'Noartificialtlarors', 'Noattifical', 'Nonighfructose', 'Nortificial', 'Nother', 'Notwolluaterflowor', 'Nougat', 'Nuggets', 'Nut-Thins', 'Nut-hins', 'NutThins', 'Nutarcechabersman', 'Nutrisystem', 'Nutthins', 'O', 'O.', 'OATER', 'OATMEAL', 'OATMEALMULCHOCOLATE', 'OATMEALRAISIN', 'OATSACHOCOLATE', 'OATSEHONEY', 'ODIVA', 'OFHANOVER', 'OHMY', 'OLDEASHIONED', 'OLDWISCONSIN', 'OLLIES', 'OLVISCONSING', 'OMENUSSISM', 'OMPESSUNTERS', 'ONEPOUNDER', 'ONLYFRATTVEGGIES', 'ONSABICALINGED', 'ONTHERUN!', 'ONTHEYOO', 'ORANGE', 'OREGON', 'OREO', 'ORGANCE', 'ORGANIC', 'ORGANICCHOCOLATE', 'ORGANICIPARMESAN', 'ORGANICS', 'ORIGINAL', 'ORIGINALSHORTBREAD', 'ORIGINES', 'OUFTERSONICALIANTEDLE', 'OUTDOORS', 'OVALS', 'OVEN', 'OVERSERS', 'OYSTER', 'OZ', 'Oalmeal', 'Oateralthocidechiploftics', 'OatmealCreme-Pies', 'Oatmealraising', 'Oats\"inHoney', 'Oats\"niH', 'Oats\"nnouen', \"Oats'nDark\", \"Oats'nHoney\", 'Oberto', 'Occassically', 'OceanSpray', 'Oceanspray', 'Ochocolate', 'Of', 'Og', 'OgTRANSIAN', 'OgTrans:', 'OgTrans:Fats', 'Oggrans', 'Ogtransfact', 'Old', 'Old-sashioned', 'Olffattendlesstracted', 'Omas', 'Omassom', 'OneOlGSansali', 'Onebag', 'Onion', 'OnionFlavoredlings', 'Only', 'Ontonflavoredlings', 'Orange', 'Organc-EX.EX.EDUCCECLER>', 'Organic', 'Organicarrum', 'Organicaturish', 'Organizaporna', 'Organization:', 'Orghards', 'Orginal.Multi-Grain', 'Original', 'Original.Mult-Grain', 'OriginalVariety', 'Orville', 'Outshine', 'OvenBaked', 'Overencia', 'PACK', 'PACKS', 'PANDA', 'PANTRY', 'PAPITASTRITAS', 'PARTY', 'PARTYSIZE', 'PASSOVER', 'PASTRY', 'PATIENCE', 'PAW', 'PEANUTBUTTER', 'PEANUTFREE', 'PEAS', 'PECAN', 'PECANS', 'PEPPERED', 'PERCUP', 'PERFORMANCEBBAR', 'PERIPKG', 'PERK', 'PERKY', 'PERPIG', 'PERPPG', 'PERSERESTING', 'PERSERVING', 'PERSSERVINGE', 'PERTING', 'PIECES', 'PIKE', 'PINEAPPLE', 'PINKSALT', 'PIPCORN', 'PITTED', 'PITTEDIDATES', 'PIXAR', 'PIZZELLE', 'PLACE', 'PLANTBASED', 'POLTICOMS', 'POP', 'POPCONN', 'POPCORN', 'POPPERTIONALIS', 'POPPINGCORN', 'POPULATION', 'POPULATIONAZ', 'PORECONICIOUSNESS', 'POREFORTINEPERACING', 'PORKAPORC', 'PORKRINDS', 'POST', 'POTATO', 'POTATOCCIPP', 'POTATOCCIPS', 'POTATOCHIPE', 'POTATOCHIPS', 'POTATOCRISPS', 'POTATOSNACK', 'POTATOSSNACK', 'POUCHES', 'POWER', 'POXCION', 'PPPPPESCETT', 'PRECOPPREDED', 'PREIZEL', 'PREMIMMJERKYCUTS', 'PREMININFRUITPECTING', 'PREMINLAUDERATPECT', 'PREMIUM', 'PRESERVATIVES', 'PRETZEL', 'PRETZELCCAACKERS', 'PRETZELEPEANU', 'PRETZELPIECES', 'PRETZELS', 'PRETZELSTICKS', 'PROJECTVERIFIED', 'PROTEIN', 'PROTEINBAR', 'PROTEINCOOKIE', 'PROTEINIBITES', 'PROTELLEDONS', 'PRUNES', 'PSTERING', 'PUDDING', 'PUMPKIN', 'PUREDELICIOUSNESS', 'PUREPOPPEDPENFECTIONS', 'Pack', 'Packedintheusa', 'PaizelWhisps', 'Pare', 'Parfait', 'Parineapple', 'Parmesan', 'Partysizes', 'Peanut', 'Peanut,Almond', 'PeanutButter', 'Peanutbutter', 'Peanutzalmond', 'PearutButterfilled', 'Peas', 'Pecan', 'PecanShortbread', 'Peets', 'Penep', 'Peppendogeted', 'Pepper', 'PepperJackChness', 'Peppered', 'Pepperidge', 'Pepperidge-Farm', 'Pepperidgefarly', 'Pepperidgefarmy', 'Pepperidgeffarm', 'Pepperidgeffrom', 'Pepperidgeform', 'Pepperidgefus', 'Pepperidgetarm', 'Pepperidgeterm', 'Perfection', 'Petitecolier', 'PetzelWrisps', 'Pieces', 'Piefiling.orlopping', 'Pineapple', 'Pisfilling.orlopping', 'Pitted', 'Pizzeria', 'Placking', 'PlainClaramel.00', 'Play', 'Plums', 'PmeappleChurks', 'Pocky', 'Pockystriend', 'Pomegranateflaver', 'Popcom', 'Popcomprowmand', 'Popcorn', 'Popcorriopoly', 'Popeomopolis', 'Popped', 'PopsPureWhitel', 'Portions', 'Potarostx', 'Potato', 'Pouch!', 'Pouches', 'PouchesInside', 'Pouchesstrating', 'Pounder!', 'Premium', 'PremiumQuality', 'Preniumbaning.chips', 'Preservatives', 'Pretzel', 'PretzelSticks', 'PretzelStix', 'Pretzelos', 'Pretzels', 'Primal', 'Pringles', 'Procoliflonessas', 'Protective', 'Protein', 'ProtzelCCris.s', 'Prunes', 'Pudding', 'Puetzels', 'Puffs', 'Pulparindo', 'Pumpkin', 'Pumunctuons', 'Pure', 'PureButter', 'QUAKER', 'QUALITYSING', 'Quinn', 'RABIES', 'RACOMPENTENCEMS-IOM', 'RAINBOWTROUTJERKY', 'RAISIN', 'RAISINS', 'RANANA', 'RANCH', 'RAWORGANIC', 'RBIGCOOKIES', 'REA', 'REACTION', 'REAL', 'REALFRUIT', 'REALJERKY', 'REARTERATION', 'REARTIONALIZATION', 'RECICE', 'REDENBACHERS', 'REDHOT', 'REDISTING', 'REPERTINGERESTINGLY', 'RHYTHM', 'RICE-CRACKERS', 'RIMA', 'RITZ', 'RIZ', 'ROAST', 'ROASTED', 'ROASTEDINUT', 'ROASTEDPEANUTS', 'ROLD', 'ROT', 'RUFFLESHIVERARIOGED', 'RUFLESHNERRANGES', 'RUSANBUTCHER', 'RXBAR', 'RYEWITH', 'Raisin', 'Raisins', 'Ranch', 'Ranel', 'Re:', 'Real', 'RealCherries', 'RealFFruit)ute', 'RealFruit,RealGood', 'RealTheater', 'RealchulateChip.combus', 'Realfruitjuice:', 'Rearment', 'Recipes/Insidel', 'Redenbachers', 'Redghing', 'Redjail', 'Reduced', 'Reeses', 'References', 'Reko', 'Relgjum1926', 'Repertionalism', 'Replemating', 'Reporting', 'Repromenely', 'Ressalle', 'Rethink', 'Ricekrispies', 'RipVan', 'Ritz', 'Roast', 'Rods', 'Rolls', 'Rounds', 'Ruffles', 'Rusk', 'Rye', 'SAD-SKETBALL', 'SAFFRON', 'SALLATER', 'SALTATE', 'SALTED', 'SALTEDICARAMELY', 'SALTINECRACKERS', 'SAMEGREAT', 'SANDWICH/CRACKERS', 'SANDWICHCCEEMES', 'SANDWICHCOOKIES', 'SARTHONTS', 'SATHI', 'SAVORY', 'SCANDINAVIAN', 'SCENTRAL', 'SCOBYADOY', 'SCOOBY-WOY', 'SEASALT', 'SEASALTAPEPPER', 'SEASALTED', 'SEASONING', 'SEAWEED', 'SECHES', 'SEEDS', 'SEJOYIA', 'SELESTER', 'SELETERS', 'SELLITED', 'SEMPARIST', 'SENTER', 'SENTERS', 'SENTERSING', 'SENTWITITOZE', 'SERESTORIZED', 'SERESTRATED', 'SERESTRATER', 'SESAME', 'SESAMESEEDS', 'SESSIMPLY', 'SHAPED', 'SHEETTTASTEOFITALY', 'SHOESTRINGPOTATOSNACES', 'SHORTBREAD', 'SHORTBREADCOOXIES', 'SIMPLE', 'SIMPLY', 'SIMPLYISPROUTED', 'SINCE1138', 'SINCE1934', 'SINCE1S61', 'SINCENDIZE', 'SINRASE', 'SIRIPS', 'SIZE', 'SKINNY', 'SLICEDGSHAPED', 'SLICES', 'SMALL', 'SMALLBATCH', 'SMART', 'SMO-Free', 'SMOKEDSHORTYSNOSSCES', 'SMYDERS', 'SNACK', 'SNACKBARS', 'SNACKCRACKERS', 'SNACKFACTORY', 'SNACKS', 'SNANDISMONTANDMEPHANCAL', 'SNAPEACRISPS', 'SNAPS', 'SNICKERDOODLE', \"SNYDER'S\", 'SNYDERS', 'SOFT', 'SOFTBAKED', 'SOFTRANEDBRENFASTERS', 'SOPCORN', 'SOREPRESTRATIVES', 'SOURCCREAM', 'SOURDOUGH', 'SOXLESSSUCAR', 'SPEANUT', 'SPECULOOS', 'SPICY', 'SPICYBBO', 'SPICYJALAPENO', 'SPIDER-MAN', 'SPINACH', 'SPROUTE', 'SPXEDWITS', 'SQUARES', 'SRAEL', 'SSCOUNT', 'SSICHARRONGE', 'STACKS', 'STARBUCKS', 'STER', 'STERESTER', 'STICKS', 'STIRACHATAUMIEL', 'STO', 'STONED', 'STONESSOUNDEDENGES', 'STORTHAL', 'STORY', 'STRAWBERRIES', 'STRAWBERRY', 'STRAWBERRYCREAM', 'STRAWBERRYELAST', 'STREATER', 'STRETCH', 'STRIPS', 'STUFFEDSNACKS', 'STYLE', 'SUACTABLECASHEWCOONES', 'SUGAR', 'SUGARFFREE!', 'SUGARFREE', 'SUGARFREE!', 'SUGARFREES', 'SUNFLOWERSEEDS', 'SUNMAID', 'SUNSWEET', 'SUPER', 'SUPERFOOD', 'SUPERFOODS', 'SUPERFRUITMIX', 'SUPERINFOODS', 'SUPREME', 'SURE:JELL', 'SURE>JELL', 'SUREDELLICUOUSNESS', 'SWEDISHISTYLE', 'SWEDISHTHINS', 'SWEEENEDWITHSUCRALDSE', 'SWEET', 'SWEETAPPLES', 'SWEETASALTYNUT', 'SWEETBISALTY', 'SWEETENEDIDRIED', 'SWEETESSALTY', 'SWEETGSMOOTH', 'SWEETLIGHT', 'SWEETNSPICY', 'SWEETSSALTY', 'SWEETZSALTYNUT', 'SWEETZSSALTY', 'SWETTSSATVATTLE', 'Sail', 'Salerno', 'Salted.Caramel', 'Salted.CaramelNUt', 'SaltineClassics', 'San', 'SanchisMira', 'Sandwich', 'Sanibel', 'Sanoveles', 'SantaCruz', 'Sausages', 'Sausalito', 'Schar', 'SeaSalt', 'SeaSalt&', 'Seagalt', 'Seasons', \"Seattle's\", 'Seigle', 'Sender', 'Senders', 'Sensible', 'Septionancems', 'Sesame', 'SesameaFlax', 'SgWholeGrain', 'Sharks.WWales', 'Sharwoods', 'Shells', 'Shortbread', 'Signalure', 'Simplebites', 'Simply', 'Sione', 'Skinnygirl', 'Slimfast', 'SlowSmoked', 'Smartfood', 'Smoreables', 'Snack', 'Snacks', 'Snak', 'Snaps', 'Snickerdoodle', 'Sno', 'SnowDDY', 'Snyders', 'SoJulcysSo6cod', 'Soft&Chewy', 'Soft-Baked', 'SoftaChewy', 'SoftsChewy', 'SoupdChowder', 'SourCream', 'Sours', 'Spack', 'Spice', 'Splits', 'St', 'Stap', 'Stape', 'Stapin', 'State', 'States', 'Stating', 'Staulffrers.\"', 'Stawnstraph', 'Stee', 'Stella', 'Stolla', 'Stramberrystrach', 'Strawberry', 'StrawberryCrame', 'Strawborr', 'Straws', 'Streits', 'Subject', 'Subject:', 'Subjoctions', 'Subjuck', 'SugarFree', 'SugarTTurkey', 'SugarWafers', 'Sugarfreca', 'Sultana', 'Sumper', 'Sun-Dried', 'Sunbelt', 'Sunfood', 'Sunkist', 'Superfood', 'Supremac', 'Supreme', 'Suprome', 'SwedenedDEED', 'Sweet', 'SweetCom', 'SweetTreats', 'SweetaSally', 'Sweetcom', 'SweetenedWElled', 'Swiss', 'SwissRolls', 'Sybe', 'Synders', 'Syrapered', 'TALCOUMATALOGED', 'TANGYFRUITS', 'TASTE', 'TASTY', 'TATES', 'TERIYAKI', 'TERRA', 'THANNEGULARPOTHOCHESS', 'THANREGULARPOTHOCHESS', 'THEACRETERCONTROYGHALE', 'THEORIGINAL', 'THETENDERJERKY', 'THINS', 'THINSCRISPY', 'THINSTERS', 'THINaddictives', 'TIN', 'TISTS', 'TOASTED', 'TOASTEDCOCONUT', 'TOASTEDS', 'TOASTS', 'TOLL', 'TOMATOMASIL', 'TORGANIC', 'TORTILLACHIPS', 'TOSHOWTEXTURE', 'TOWN', 'TRADERJOES', 'TRADITIONALITATIONS', 'TRADITIONALRECIPE', 'TRANSIFFAT', 'TREATS', 'TRICKLUTPOIATOLIZES', 'TRIPLE', 'TRU-BLU', 'TRUE', 'TRUFFLE', 'TURKEY', 'TURKEYRITES', 'TWIN-WRAPPED', 'Table', 'TableWNater', 'TableWater', 'Tahoe', 'Tam', 'Tangy', 'Tapioca', 'Tea', 'Tealiscuits', 'Teriyarsi', 'Thankshows', 'The', 'TheOriginal', 'The_AnytimeSSank', 'Theoriginates', 'Therriging', 'Thin', 'Thins', 'Time', 'Toast', 'ToastChee', 'Toasted@coconut', 'Toasty', 'Tomotturgis', 'Toneltup', 'Tor', 'Tostitos', 'Toy', 'TrailMix', 'Tran', 'Transfat', 'Treats', 'Triscuit', 'TropicalFusion', 'TropicalPPunch', 'Turkey', 'Turron', 'Turtle', 'Tw', 'Twist', 'Twists', 'U', 'UGHTACRIPPYTEXTURE', 'ULTIMATE', 'UNCUREDBACONBITS', 'UNICORNS', 'UNIQUE', 'UNTILPRINGED', 'UNTILPRINTEDDATED', 'UNTILPRINTEDDESS', 'UNTILPRINTEDIDATE', 'UNTILPRINTEDIDATES', 'USDA', 'UTZS', 'Unicorn', 'Untermontymations', 'Usda', 'Utz', 'VALUE', 'VALUEPACK', 'VALUEPACKI', 'VALUEPACKIOBARS', 'VALUEPACKIZBARS', 'VALUEPPACK', 'VALUESIZE', 'VALUETPACK', 'VANILLA', 'VEGAN', 'VEGETABLEAND', 'VEGETARIANFRIENDLY', 'VEGGIE', 'VENAGERATES', 'VERANDA', 'VERIFIED', 'VIAS', 'VINEGAR', 'VITAMINS@MMINERALS', 'VITAMINSS.MINERALS', 'VOU', 'Value', 'Vampire', 'Vanilla', 'VarietyPack', 'Vegan', 'VegetableCracker', 'Vehuda', 'Vinegar', 'Viny', 'Vitamins&', 'Voortman', 'Voro', 'WAFELS', 'WARTHERS', 'WASABTRANCH', 'WAYBETTER', 'WEGE', 'WELCOMENTO', 'WELCOMETO', 'WELLSLEY', 'WELLSSEY', 'WETROST', 'WHEAT', 'WHEATSGLUTENTALE', 'WHITE', 'WHITECHEDDAR', 'WHITECHOCOLATE', 'WHOLE', 'WHOLEE', 'WHOLEGRAIN', 'WHOLEWHEAT', 'WINONEOF', 'WISE', 'WITHFLAVOR!', 'WORLDMARKET', 'WORLDYNTCHENS', 'WRAPPEOFOR', 'Wafer', 'Wafers', 'Walkers', 'Wasabi', 'Weaver', 'Wedding', 'Weekender', \"Welch's\", 'Wheat', 'Wheataglutentres', 'Whisps', 'Whit', 'WhiteChocolate', 'WhiteFFd', 'WhiteFFdde', 'WhitePopCom', 'WhitePopCon', 'Whitecheddar', 'WholeBlueberries', 'WholeGrain', 'WholeWWheat', 'WildgRaw', 'Wise', 'Wondrouslyvich', 'Wrapped', 'X', 'XL', 'YELLOW', 'YOGURT', 'YORK', 'YOUCOULD', 'YOUS', 'YUMEARTH', 'YUMEARTI', 'Yarden', 'Yema', 'Yogunt', 'Yogurt', 'Zantecurrants', 'Zesta', 'Zesty', 'ZestyRanch', 'Zwieback', '[55x', '[baked.crackers', 'absolutely', 'abulycarsuptivatess', 'achocolate-Chips', 'air', 'aked', 'almond', 'almonds', 'alogging', 'alvonys.gluctenffee', 'alwaysteal', 'ance', 'and-Himalayan.salt', 'anoonoas', 'apples', 'apricot', 'arabicacoffee', 'artificial', 'awnatural', 'baked', 'baked.snack.crackers', 'baked.sosc.crackers', 'baked.with.', 'bakednith', 'bakedsnack.crackers\"', 'bakedwith', 'bakery', 'baledsnack.crackers', 'bany', 'barbecue', 'barbeque', 'bare', 'bean', 'bear', 'beef', 'beloods', 'belvita', 'beots', 'berriest', 'better', 'biscuitsticks', 'bit', 'blend', 'bliss', 'blove', 'blueberry', 'bordeaux', 'brand', 'breadsticks', 'brownie', 'bursting.with.peanutsl', 'burstingwithalmonds!', 'butaileflawed.cop.com', 'butter', 'buttered', 'butterman', 'c', 'californiaseedless', 'calioniawholegitted', 'callfornlagoldent', 'cascadianfarm', 'cassavaflour', 'cave', 'ceetifiedorganic', 'certifiedorganic', 'cheddar', 'cheddard', 'cheese', 'cheesecake', 'cheeseccrackers', 'cherry', 'chessmen', 'chineward', 'chips', 'chocolate', 'chocolatechip', 'chocolatechipbanana', 'chocolatem', 'chocolatepuddingmix', 'choolatecooliedinc.mosts', 'choolatehaxebut', 'club', 'coconutbar', 'coll', 'collection', 'combos', 'combottloodforthesm', 'commystrup', 'concented.edu', 'concentrologically', 'concentromintunations', 'conkenine', 'conntrolinacce', 'conoressavorine', 'contentable', 'conters', 'contimationalisms', 'contingburshing.uthecsten', 'contor', 'cookies', 'cookinwincom', 'corn', 'corn.syrup', 'cornsyrup', 'counter', 'crackers', 'creme', 'crispbread', 'crispyandadilicious', 'crunchy', 'crunchysnackcrackers', 'crushed', 'crushed-biscums.', 'daliciouslyjuicul', 'dang', 'darkchocolate', 'darkchocolateand', 'darkroast', 'dates', 'deleche', 'deliciouslysimple', 'derkchocolat/chocolatmain', 'dessertkit', 'devastedicated', 'dirpecinalmondbbatsedrack', 'discedimpensitititically', 'doublechocolate', 'doubledard', 'doublemilk', 'dr', 'drv', 'dulce', 'eagsand.haxeluttunsts', 'eatsmart', 'ed', 'egg', 'extriminabiliting', 'familyooned', 'fengland', 'fiber', 'flackers', 'flatbread', 'flavored', 'flavors.', 'food', 'foods', 'foodstirs', 'forfreshnessi', 'forthomemade', 'free', 'freeze-dried', 'fresh', 'freshor', 'frompmenixias.co', 'fruit', 'frult', 'frum', 'ftp', 'futerestluct.compry.cund', 'gOnion', 'gackfulthe', 'ganger', 'garden', 'garlicparmesan', 'gels', 'giant.pop', 'gingerbread', 'gingerman', 'gluten', 'gluten.free', 'glutenfree', 'glutentree', 'glutino', 'gold', 'gonion', 'good', 'gracessest', 'grade', 'grains', 'granola-bars', 'granolabars', 'granolabbars', 'greattasternaturally', 'guaranteediresh', 'gullon', 'gummycreatures', 'handcrafted', 'hapi', 'health', 'himalayan', 'imported', 'indiana', 'interbincelistraticalled', 'intersity', 'islandpineapple', 'italian', 'kissrinl', 'kitchen', 'lams', 'lance', 'laws', 'lays', 'legaieMelts', 'legetable', 'leggie', 'lemonorange', 'lesssugar', 'life', 'light', 'limHtrions', 'lime', 'little', 'loaded', 'lotus', 'love', 'low', 'lowSodium', 'lowlar', 'lucky', 'macadamia', 'madewith', 'madewwhacamaplessurpp', 'malextromffrechippriutusu', 'mallecant.batter', 'mallow', 'man', 'mangotango', 'mapleleafcreme', 'maria', 'mariani', 'matabolistically', 'matts@munchies', 'matzos', 'megapack', 'meifj', 'meiji', 'melcoments', 'memothoarchicalls', 'menomationalism', 'miccuraeporconveinedual', 'microwave', 'milk', 'milkchocolate', 'milkmakers', 'mini', 'minis', 'mint', 'misaffres-dairy-re', 'miscurts', 'modermbaking', 'mone)', 'motts', 'moust', 'movertheaterbutter', 'munchkin', 'nake', 'natualbuterianorstin', 'natural', 'naturals', 'natures', 'naturesall', 'navitas', 'neverfried', 'neverfried.', 'nfca', 'nixedberrs', 'noatthicalcolocs.crandere', 'nobutter', 'nohgh--ructooecon.srupp', 'nohightuutose.com.smup', 'non-gmo', 'non-tranceftranted', 'nongh-huvtssecon.spuppup', 'nonthellolonacardinoss', 'nonthialoboloworfu.edu', 'nopristinatives', 'nosalt', 'nossturatedian', 'notjustggood.ust', 'nowscheess.nothingels', 'nut', 'nutella', 'o', 'olanty', 'onner', 'orange', 'organic', 'organic-ruitsnacks', 'original', 'othernaturalitavors', 'ovanilla', 'oven', 'oviginal', 'pack', 'pacs', 'paleotriendly', 'pamilywalcipe', 'parchocolates', 'parchouse', 'parmesanstrosemary', 'pejoy', 'percup', 'pineapple', 'pinksalt', 'plantbased', 'planty', 'playfulpineapple', 'popchips', 'popchps', 'popcorn', 'popcorns', 'popped', 'poppedchipsnack', 'poppedchipsnock', 'poppers', 'potato', 'potatochips', 'preservatives', 'pretzels', 'protein', 'prove', 'pudding', 'puddingpopkit', 'punterempeaming', 'raanic', 'raasted', 'radic', 'raisins', 'raspberry', 'razzmatazzberry', 'read', 'real', 'realcocoa', 'realvanilla', 'realvegeiablechips', 'realyhredded.csccont', 'reconcurroncoms', 'redivation', 'repeced', 'rieces', 'rood', 'roopedwassers', 'ruit', 'run', 'rwo', 'salt', 'saltinecrackers', 'sand', 'sandwich', 'saudovenchicald', 'sawans', 'sea', 'seasalt', 'seasalts', 'seasaltz.pepper', 'seasonir', 'seassit.nut.bar', 'seic', 'seitan', 'semi-sweet', 'serving.ucceston', 'shackablecashewcooners', 'sherristed', 'shortbread', 'simply', 'snack', 'snackcrackers', 'snackfactory', 'snacking-unl', 'snacks', 'sobisk', 'sobreduced', 'soft', 'soft-baked', 'softbaked', 'softcodkies', 'soltbite', 'sonoma', 'sourcream', 'sourcreas', 'spber', 'spinachFlakes', 'stacks', 'stanks', 'state', 'stip', 'strawberry', 'strawberryman', 'strays', 'succo', 'superffoods', 'superseed', 'sweet&simple', 'sweetasimple', 'sweeteners', 'sweetzsimple', 'swettsimple', 'tastering', 'telaminamanization', 'telthindistriction', 'tentical', 'theKKitchen', 'the_Kitchen)', 'then@@.@comp..cristing', 'thiccassicantencenss.ccuc', 'thinacrispy', 'thinsurspy.andbich.cam', 'thumbprint.cookies', 'thumbprintcookies', 'tinytwists', 'traditions', 'tranneguarpointongs', 'transital', 'treezendried', 'triscuit', 'tropical', 'trufflessalt', 'udis', 'uncupeo.bacon.jerky', 'undernttussweetened', 'unleashed', 'untilprinted.ate', 'untilprinted.dated', 'utz', 'value', 'vanilla', 'vanillaal', 'vans', 'vegan', 'viva', 'vools', 'wafers', 'wasa', 'wavy', 'whirecheddar', 'whitechocolate', 'wholebban', 'wholeblueberries', 'wholeggain', 'wholegrain', 'whooghain', 'withCappuccino', 'wow', 'writh@nicked.Pupper', 'y', 'zesty']\n"
     ]
    }
   ],
   "source": [
    "print(ai_tfidf.get_feature_names())"
   ]
  },
  {
   "cell_type": "code",
   "execution_count": 437,
   "metadata": {},
   "outputs": [],
   "source": [
    "from sklearn.metrics.pairwise import linear_kernel"
   ]
  },
  {
   "cell_type": "code",
   "execution_count": 438,
   "metadata": {},
   "outputs": [],
   "source": [
    "cosine_sim = linear_kernel(human_tfidf_matrix.T, ai_tfidf_matrix.T)"
   ]
  },
  {
   "cell_type": "code",
   "execution_count": 439,
   "metadata": {},
   "outputs": [
    {
     "name": "stdout",
     "output_type": "stream",
     "text": [
      "[[0. 0. 0. ... 0. 0. 0.]\n",
      " [0. 0. 0. ... 0. 0. 0.]\n",
      " [0. 0. 0. ... 0. 0. 0.]\n",
      " ...\n",
      " [0. 0. 0. ... 0. 0. 0.]\n",
      " [0. 0. 0. ... 0. 0. 1.]\n",
      " [0. 0. 0. ... 0. 0. 0.]]\n"
     ]
    }
   ],
   "source": [
    "print(cosine_sim)"
   ]
  },
  {
   "cell_type": "code",
   "execution_count": 440,
   "metadata": {
    "scrolled": true
   },
   "outputs": [
    {
     "data": {
      "text/plain": [
       "(2305, 2751)"
      ]
     },
     "execution_count": 440,
     "metadata": {},
     "output_type": "execute_result"
    }
   ],
   "source": [
    "# 세로 : human_label, 가로 : ai_label\n",
    "cosine_sim.shape"
   ]
  },
  {
   "cell_type": "code",
   "execution_count": 441,
   "metadata": {},
   "outputs": [
    {
     "name": "stdout",
     "output_type": "stream",
     "text": [
      "11 error\n",
      "25 error\n",
      "26 error\n",
      "28 error\n",
      "48 error\n",
      "74 error\n",
      "91 error\n",
      "101 error\n",
      "102 error\n",
      "119 error\n",
      "123 error\n",
      "126 error\n",
      "152 error\n",
      "153 error\n",
      "155 error\n",
      "165 error\n",
      "167 error\n",
      "184 error\n",
      "185 error\n",
      "193 error\n",
      "215 error\n",
      "216 error\n",
      "229 error\n",
      "230 error\n",
      "231 error\n",
      "258 error\n",
      "274 error\n",
      "282 error\n",
      "283 error\n",
      "285 error\n",
      "286 error\n",
      "316 error\n",
      "344 error\n",
      "345 error\n",
      "346 error\n",
      "347 error\n",
      "348 error\n",
      "349 error\n",
      "374 error\n",
      "424 error\n",
      "425 error\n",
      "427 error\n",
      "463 error\n",
      "464 error\n",
      "467 error\n",
      "474 error\n",
      "475 error\n",
      "495 error\n",
      "501 error\n",
      "508 error\n",
      "510 error\n",
      "511 error\n",
      "512 error\n",
      "513 error\n",
      "514 error\n",
      "519 error\n",
      "526 error\n",
      "565 error\n",
      "610 error\n",
      "672 error\n",
      "687 error\n",
      "688 error\n",
      "690 error\n",
      "756 error\n",
      "777 error\n",
      "806 error\n",
      "808 error\n",
      "828 error\n",
      "872 error\n",
      "873 error\n",
      "898 error\n",
      "900 error\n",
      "901 error\n",
      "914 error\n",
      "915 error\n",
      "916 error\n",
      "917 error\n",
      "949 error\n",
      "950 error\n",
      "966 error\n",
      "968 error\n",
      "969 error\n",
      "970 error\n",
      "989 error\n",
      "990 error\n",
      "1010 error\n",
      "1047 error\n",
      "1054 error\n",
      "1063 error\n",
      "1097 error\n",
      "1098 error\n",
      "1100 error\n",
      "1119 error\n",
      "1120 error\n",
      "1152 error\n",
      "1182 error\n",
      "1239 error\n",
      "1241 error\n",
      "1267 error\n",
      "1268 error\n",
      "1283 error\n",
      "1284 error\n",
      "1285 error\n",
      "1286 error\n",
      "1287 error\n",
      "1329 error\n",
      "1330 error\n",
      "1331 error\n",
      "1332 error\n",
      "1347 error\n",
      "1348 error\n",
      "1415 error\n",
      "1418 error\n",
      "1419 error\n",
      "1440 error\n",
      "1441 error\n",
      "1443 error\n",
      "1462 error\n",
      "1550 error\n",
      "1551 error\n",
      "1704 error\n",
      "1741 error\n",
      "1753 error\n",
      "1768 error\n",
      "1838 error\n",
      "1845 error\n",
      "1872 error\n",
      "1880 error\n",
      "1881 error\n",
      "1911 error\n",
      "2055 error\n",
      "2144 error\n",
      "2345 error\n",
      "2775 error\n",
      "2818 error\n",
      "2827 error\n",
      "2837 error\n",
      "2859 error\n",
      "2860 error\n",
      "2874 error\n",
      "2875 error\n",
      "2887 error\n",
      "2889 error\n",
      "2922 error\n",
      "3007 error\n",
      "3020 error\n",
      "3082 error\n",
      "3084 error\n",
      "3144 error\n",
      "3146 error\n",
      "3150 error\n",
      "3213 error\n",
      "3279 error\n",
      "3280 error\n",
      "3282 error\n",
      "3283 error\n",
      "3344 error\n",
      "3374 error\n",
      "3532 error\n",
      "3534 error\n",
      "3535 error\n",
      "3536 error\n",
      "3609 error\n",
      "3612 error\n",
      "3654 error\n",
      "3675 error\n",
      "3845 error\n",
      "3846 error\n",
      "3847 error\n",
      "3953 error\n",
      "3989 error\n",
      "4045 error\n",
      "4081 error\n",
      "4134 error\n",
      "4135 error\n",
      "4137 error\n",
      "4216 error\n",
      "4218 error\n",
      "4227 error\n",
      "4248 error\n",
      "4249 error\n",
      "4251 error\n",
      "4270 error\n",
      "4314 error\n",
      "4356 error\n",
      "4411 error\n",
      "4502 error\n",
      "4503 error\n"
     ]
    }
   ],
   "source": [
    "for i in total_data.index:\n",
    "    try:\n",
    "        h_index = human_tfidf.get_feature_names().index(total_data.loc[i].human_label)\n",
    "        ai_index = ai_tfidf.get_feature_names().index(total_data.loc[i].ai_label)\n",
    "        similarity = cosine_sim[h_index][ai_index]\n",
    "\n",
    "        total_data.loc[i].similarity = similarity\n",
    "    except:\n",
    "        print(i, \"error\")\n",
    "        continue"
   ]
  },
  {
   "cell_type": "code",
   "execution_count": 434,
   "metadata": {},
   "outputs": [
    {
     "data": {
      "text/plain": [
       "0              1\n",
       "1       0.952381\n",
       "2              0\n",
       "3            0.5\n",
       "4              1\n",
       "          ...   \n",
       "4518    0.210526\n",
       "4519    0.645161\n",
       "4520           0\n",
       "4521    0.888889\n",
       "4522    0.235294\n",
       "Name: similarity, Length: 4523, dtype: object"
      ]
     },
     "metadata": {},
     "output_type": "display_data"
    }
   ],
   "source": [
    "display(total_data.similarity)"
   ]
  },
  {
   "cell_type": "code",
   "execution_count": 435,
   "metadata": {},
   "outputs": [],
   "source": [
    "total_data.to_csv('data_label.csv')"
   ]
  },
  {
   "cell_type": "code",
   "execution_count": 73,
   "metadata": {},
   "outputs": [
    {
     "name": "stdout",
     "output_type": "stream",
     "text": [
      "4726.240090374048\n"
     ]
    }
   ],
   "source": [
    "print(cosine_sim.sum())"
   ]
  },
  {
   "cell_type": "code",
   "execution_count": 92,
   "metadata": {
    "scrolled": true
   },
   "outputs": [
    {
     "name": "stdout",
     "output_type": "stream",
     "text": [
      "1.0\n",
      "1.0000000000000004\n",
      "1.0\n",
      "0.9999999999999998\n",
      "1.0\n",
      "1.0\n",
      "0.9999999999999998\n",
      "1.0\n",
      "0.0\n",
      "1.0\n"
     ]
    }
   ],
   "source": [
    "for i in range(10):\n",
    "    print(cosine_sim[i][i])"
   ]
  },
  {
   "cell_type": "code",
   "execution_count": 72,
   "metadata": {},
   "outputs": [
    {
     "name": "stdout",
     "output_type": "stream",
     "text": [
      "0.6402075409187968\n",
      "0.6402075409187968\n",
      "0.6402075409187968\n"
     ]
    }
   ],
   "source": [
    "for i in cosine_sim[1]:\n",
    "    if i != 0:\n",
    "        print(i)"
   ]
  },
  {
   "cell_type": "code",
   "execution_count": null,
   "metadata": {},
   "outputs": [],
   "source": []
  }
 ],
 "metadata": {
  "kernelspec": {
   "display_name": "Python 3",
   "language": "python",
   "name": "python3"
  },
  "language_info": {
   "codemirror_mode": {
    "name": "ipython",
    "version": 3
   },
   "file_extension": ".py",
   "mimetype": "text/x-python",
   "name": "python",
   "nbconvert_exporter": "python",
   "pygments_lexer": "ipython3",
   "version": "3.7.4"
  }
 },
 "nbformat": 4,
 "nbformat_minor": 2
}
