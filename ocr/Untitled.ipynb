{
 "cells": [
  {
   "cell_type": "code",
   "execution_count": 1,
   "metadata": {},
   "outputs": [],
   "source": [
    "import torch"
   ]
  },
  {
   "cell_type": "code",
   "execution_count": 50,
   "metadata": {},
   "outputs": [
    {
     "name": "stdout",
     "output_type": "stream",
     "text": [
      "tensor([[-15.4650,  -2.0955, -15.5048, -13.3904, -16.9139, -15.5251, -15.9091,\n",
      "         -16.3538, -14.5822, -15.7369, -13.1770, -19.5832, -14.4042, -10.8748,\n",
      "         -11.4528,  -9.2160, -10.4419, -16.5736, -13.7341, -15.0449, -12.3270,\n",
      "         -14.4502, -12.3046,  -7.9111, -10.6017,  -9.6529, -15.3344, -14.5094,\n",
      "         -16.0111,  -8.6624,  -5.7912, -10.1396, -13.6540, -15.8231, -16.4260,\n",
      "         -14.2894, -13.2908, -12.9629]], device='cuda:0')\n"
     ]
    }
   ],
   "source": [
    "t1 = torch.tensor([[-15.4650,  -2.0955, -15.5048, -13.3904, -16.9139, -15.5251, -15.9091,\n",
    "          -16.3538, -14.5822, -15.7369, -13.1770, -19.5832, -14.4042, -10.8748,\n",
    "          -11.4528,  -9.2160, -10.4419, -16.5736, -13.7341, -15.0449, -12.3270,\n",
    "          -14.4502, -12.3046,  -7.9111, -10.6017,  -9.6529, -15.3344, -14.5094,\n",
    "          -16.0111,  -8.6624,  -5.7912, -10.1396, -13.6540, -15.8231, -16.4260,\n",
    "          -14.2894, -13.2908, -12.9629]], device='cuda:0')\n",
    "print(t1)"
   ]
  },
  {
   "cell_type": "code",
   "execution_count": 51,
   "metadata": {},
   "outputs": [],
   "source": [
    "t2 = 12"
   ]
  },
  {
   "cell_type": "code",
   "execution_count": 54,
   "metadata": {},
   "outputs": [
    {
     "name": "stdout",
     "output_type": "stream",
     "text": [
      "tensor([[1.5140e-06, 9.6924e-01, 1.4549e-06, 1.2054e-05, 3.5553e-07, 1.4257e-06,\n",
      "         9.7109e-07, 6.2249e-07, 3.6604e-06, 1.1536e-06, 1.4921e-05, 2.4639e-08,\n",
      "         4.3735e-06, 1.4915e-04, 8.3677e-05, 7.8350e-04, 2.2995e-04, 4.9966e-07,\n",
      "         8.5477e-06, 2.3045e-06, 3.4910e-05, 4.1769e-06, 3.5701e-05, 2.8890e-03,\n",
      "         1.9599e-04, 5.0617e-04, 1.7252e-06, 3.9368e-06, 8.7693e-07, 1.3629e-03,\n",
      "         2.4066e-02, 3.1112e-04, 9.2606e-06, 1.0583e-06, 5.7913e-07, 4.9055e-06,\n",
      "         1.3316e-05, 1.8483e-05]], device='cuda:0')\n"
     ]
    }
   ],
   "source": [
    "soft = torch.nn.Softmax(dim=1)\n",
    "a1 = soft(t1)\n",
    "print(a1)"
   ]
  },
  {
   "cell_type": "code",
   "execution_count": 55,
   "metadata": {},
   "outputs": [
    {
     "name": "stdout",
     "output_type": "stream",
     "text": [
      "torch.return_types.max(\n",
      "values=tensor([0.9692], device='cuda:0'),\n",
      "indices=tensor([1], device='cuda:0'))\n"
     ]
    }
   ],
   "source": [
    "a2 = a1.max(dim=1)\n",
    "print(a2)"
   ]
  },
  {
   "cell_type": "code",
   "execution_count": 65,
   "metadata": {},
   "outputs": [
    {
     "name": "stdout",
     "output_type": "stream",
     "text": [
      "tensor([0.9692], device='cuda:0')\n"
     ]
    }
   ],
   "source": [
    "print(a2.values)"
   ]
  },
  {
   "cell_type": "code",
   "execution_count": 40,
   "metadata": {},
   "outputs": [
    {
     "name": "stdout",
     "output_type": "stream",
     "text": [
      "torch.return_types.max(\n",
      "values=tensor([0.9692, 0.9692]),\n",
      "indices=tensor([1, 1]))\n"
     ]
    }
   ],
   "source": [
    "print(a2)"
   ]
  },
  {
   "cell_type": "code",
   "execution_count": 48,
   "metadata": {},
   "outputs": [
    {
     "name": "stdout",
     "output_type": "stream",
     "text": [
      "tensor(1.0000)\n",
      "tensor(1.0000)\n"
     ]
    }
   ],
   "source": [
    "s1 = sum(a1[0])\n",
    "print(s1)\n",
    "print(sum(a1[1]))"
   ]
  },
  {
   "cell_type": "code",
   "execution_count": 66,
   "metadata": {},
   "outputs": [],
   "source": [
    "li = list()"
   ]
  },
  {
   "cell_type": "code",
   "execution_count": 71,
   "metadata": {},
   "outputs": [
    {
     "data": {
      "text/plain": [
       "False"
      ]
     },
     "execution_count": 71,
     "metadata": {},
     "output_type": "execute_result"
    }
   ],
   "source": [
    "type(li) is not list"
   ]
  },
  {
   "cell_type": "code",
   "execution_count": 75,
   "metadata": {},
   "outputs": [
    {
     "name": "stdout",
     "output_type": "stream",
     "text": [
      "/home/ubuntu/test/p1021_dal-1/ocr\n"
     ]
    }
   ],
   "source": [
    "import os\n",
    "print(os.getcwd())"
   ]
  },
  {
   "cell_type": "code",
   "execution_count": null,
   "metadata": {},
   "outputs": [],
   "source": []
  }
 ],
 "metadata": {
  "kernelspec": {
   "display_name": "Python [conda env:torch_env] *",
   "language": "python",
   "name": "conda-env-torch_env-py"
  },
  "language_info": {
   "codemirror_mode": {
    "name": "ipython",
    "version": 3
   },
   "file_extension": ".py",
   "mimetype": "text/x-python",
   "name": "python",
   "nbconvert_exporter": "python",
   "pygments_lexer": "ipython3",
   "version": "3.6.5"
  }
 },
 "nbformat": 4,
 "nbformat_minor": 2
}
